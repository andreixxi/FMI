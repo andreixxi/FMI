{
 "cells": [
  {
   "cell_type": "markdown",
   "metadata": {},
   "source": [
    "### 1.Sa se scrie un program pentru implementarea algoritmului de analiza sintactica Earley. Programul primeste la intrare elementele unei gramatici independente de context oarecare, inclusiv cu 𝜆-productii. Programul accepta un numar oarecare de siruri peste alfabetul terminalilor. Pentru fiecare sir se creeaza si se afiseaza tabelele Earley corespondente si daca sirul apartine limbajului generat de gramatica, afiseaza derivarile acelui sir plecand din simbolul de start."
   ]
  },
  {
   "cell_type": "code",
   "execution_count": 29,
   "metadata": {},
   "outputs": [],
   "source": [
    "def predictor(rule, state):\n",
    "    if rule[\"right\"][rule[\"dot\"]].isupper(): # NON-TERMINAL\n",
    "        return [{\n",
    "            \"left\": rule[\"right\"][rule[\"dot\"]],\n",
    "            \"right\": right,\n",
    "            \"dot\": 0,\n",
    "            \"op\": \"PREDICTOR\",\n",
    "            \"completer\": []\n",
    "        } for right in rules[rule[\"right\"][rule[\"dot\"]]]] \n",
    "    else:\n",
    "        return []\n",
    "\n",
    "\n",
    "def scanner(rule, next_input):\n",
    "    # TERMINAL\n",
    "    if rule[\"right\"][rule[\"dot\"]].islower() and next_input in rules[rule[\"right\"][rule[\"dot\"]]]:\n",
    "        return [{\n",
    "            \"left\": rule[\"right\"][rule[\"dot\"]],\n",
    "            \"right\": [next_input],\n",
    "            \"dot\": 1,\n",
    "            \"op\": \"SCANNER\",\n",
    "            \"completer\": []\n",
    "        }] \n",
    "    else:\n",
    "        return []\n",
    "\n",
    "def completer(rule, charts):\n",
    "    if rule[\"dot\"] == len(rule[\"right\"]):\n",
    "        return list(map(\n",
    "            lambda filter_rule: {\n",
    "                \"left\": filter_rule[\"left\"],\n",
    "                \"right\": filter_rule[\"right\"],\n",
    "                \"dot\": filter_rule[\"dot\"] + 1,\n",
    "                \"op\": \"COMPLETER\",\n",
    "                \"completer\": [rule] + filter_rule[\"completer\"]\n",
    "            },\n",
    "            filter(\n",
    "                lambda p_rule: p_rule[\"dot\"] < len(p_rule[\"right\"]) and rule[\"left\"] == p_rule[\"right\"][p_rule[\"dot\"]],\n",
    "                charts[rule[\"state\"]]\n",
    "            )\n",
    "        )) \n",
    "    else:\n",
    "        return []"
   ]
  },
  {
   "cell_type": "code",
   "execution_count": 30,
   "metadata": {},
   "outputs": [],
   "source": [
    "## input\n",
    "N = ['S', 'X'] # NON-TERMINALS\n",
    "T = ['a', 'b', ''] # TERMINALS\n",
    "S = 'S' # START SYMBOL\n",
    "rules = {\n",
    "    \"S\": [\n",
    "        ['aXbX'],\n",
    "        ['bXaX'],\n",
    "    ],\n",
    "    \"X\" : [\n",
    "        ['aXbX'],\n",
    "        ['bXaX'],\n",
    "        ['']\n",
    "    ]\n",
    "}\n",
    "input_string = 'abba'\n",
    "input_arr = [char for char in input_string] + ['']\n",
    "charts = [[{\n",
    "    \"left\": \"S'\",\n",
    "    \"right\": [\"S\"],\n",
    "    \"dot\": 0,\n",
    "    \"op\": \"EXTEND\",\n",
    "    \"completer\": []\n",
    "}]]\n",
    "\n",
    "for curr_state in range(len(input_arr)):\n",
    "    curr_chart = charts[curr_state]\n",
    "    next_chart = []\n",
    "\n",
    "    for curr_rule in curr_chart:\n",
    "        for element in curr_rule['right']:\n",
    "            if curr_rule[\"dot\"] < len(element): # not finished\n",
    "                curr_chart += [i for i in predictor(curr_rule, curr_state) if i not in curr_chart] # PREDICTOR\n",
    "                next_chart += [i for i in scanner(curr_rule, input_arr[curr_state]) if i not in next_chart] # SCANNER\n",
    "            else:\n",
    "                curr_chart += [i for i in completer(curr_rule, charts) if i not in curr_chart] # COMPLETOR\n",
    "\n",
    "    charts.append(next_chart)"
   ]
  },
  {
   "cell_type": "code",
   "execution_count": 31,
   "metadata": {},
   "outputs": [
    {
     "name": "stdout",
     "output_type": "stream",
     "text": [
      "\tS0\n",
      "\tS' --> .S, 0, EXTEND\t\n",
      "\tS --> .aXbX, 0, PREDICTOR\t\n",
      "\tS --> .bXaX, 0, PREDICTOR\n",
      "\n",
      "\tS1\n",
      "\n",
      "\n",
      "\tS2\n",
      "\n",
      "\n",
      "\tS3\n",
      "\n",
      "\n",
      "\tS4\n",
      "\n",
      "\n"
     ]
    }
   ],
   "source": [
    "def print_charts(charts, inp):\n",
    "    for chart_no, chart in zip(range(len(charts)), charts):\n",
    "        print(\"\\t{}\".format(\"S\" + str(chart_no)))\n",
    "        print(\"\\t\\n\".join(map(\n",
    "            lambda x: \"\\t{} --> {}, {} {}\".format(\n",
    "                x[\"left\"], \n",
    "                \"\".join(x[\"right\"][:x[\"dot\"]] + [\".\"] + x[\"right\"][x[\"dot\"]:]),\n",
    "                str(chart_no) + ',',\n",
    "                x[\"op\"]\n",
    "            ),\n",
    "            chart\n",
    "        )))\n",
    "        print()\n",
    "print_charts(charts[:-1], input_arr)"
   ]
  },
  {
   "cell_type": "code",
   "execution_count": null,
   "metadata": {},
   "outputs": [],
   "source": []
  },
  {
   "cell_type": "code",
   "execution_count": null,
   "metadata": {},
   "outputs": [],
   "source": []
  },
  {
   "cell_type": "code",
   "execution_count": null,
   "metadata": {},
   "outputs": [],
   "source": []
  }
 ],
 "metadata": {
  "kernelspec": {
   "display_name": "Python 3",
   "language": "python",
   "name": "python3"
  },
  "language_info": {
   "codemirror_mode": {
    "name": "ipython",
    "version": 3
   },
   "file_extension": ".py",
   "mimetype": "text/x-python",
   "name": "python",
   "nbconvert_exporter": "python",
   "pygments_lexer": "ipython3",
   "version": "3.8.3"
  }
 },
 "nbformat": 4,
 "nbformat_minor": 4
}
