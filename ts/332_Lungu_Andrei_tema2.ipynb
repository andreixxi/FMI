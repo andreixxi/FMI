{
 "cells": [
  {
   "cell_type": "markdown",
   "metadata": {},
   "source": [
    "# PROIECTUL 3\n",
    "Toti algoritmii (cu exceptia histogramei) vor fi validati cu media si dispersia de selectie. \n",
    "3.  a) Sa se genereze variabila exponentiala Exp(3), folosind cea de-a treia teorema de respingere (curs 5).  \n",
    "    b) Sa se genereze variabila binomiala prin doua metode (curs 7)."
   ]
  },
  {
   "cell_type": "code",
   "execution_count": 21,
   "metadata": {},
   "outputs": [],
   "source": [
    "import random\n",
    "import numpy as np"
   ]
  },
  {
   "cell_type": "code",
   "execution_count": 22,
   "metadata": {},
   "outputs": [],
   "source": [
    "# a) Sa se genereze variabila exponentiala Exp(3), folosind cea de-a treia teorema de respingere (curs 5).\n",
    "def algResp3():\n",
    "    # pas 1\n",
    "    n = 0\n",
    "\n",
    "    while True:\n",
    "        # pas 2\n",
    "        u0 = np.random.uniform(0, 1)\n",
    "        u1 = np.random.uniform(0, 1)\n",
    "\n",
    "        # pas 3\n",
    "        u_star = np.copy(u0)\n",
    "        k = 1\n",
    "\n",
    "        while True:\n",
    "            # pas 4\n",
    "            if u0 >= u1:\n",
    "                # pas 5\n",
    "                k += 1\n",
    "                u0 = np.copy(u1)\n",
    "\n",
    "                # pas 6\n",
    "                u1 = np.random.uniform(0, 1)\n",
    "                break\n",
    "            else:\n",
    "                # pas 7\n",
    "                if k % 2 == 1:\n",
    "                    x = n + u_star\n",
    "                    return x\n",
    "                else:\n",
    "                    n += 1"
   ]
  },
  {
   "cell_type": "code",
   "execution_count": 23,
   "metadata": {},
   "outputs": [
    {
     "name": "stdout",
     "output_type": "stream",
     "text": [
      "valori teoretice pentru validare\n",
      "medie 0.3333333333333333\n",
      "dispersie 0.1111111111111111\n"
     ]
    }
   ],
   "source": [
    "lambda_ = 3\n",
    "\n",
    "# validare cu media si dispersia\n",
    "mean = 1/lambda_\n",
    "variance = 1/(lambda_**2)\n",
    "\n",
    "print('valori teoretice pentru validare')\n",
    "print('medie', mean)\n",
    "print('dispersie', variance)"
   ]
  },
  {
   "cell_type": "code",
   "execution_count": 24,
   "metadata": {},
   "outputs": [
    {
     "name": "stdout",
     "output_type": "stream",
     "text": [
      "esantionare\n",
      "medie 0.33433911565346214\n",
      "dispersie 0.05558016885200436\n"
     ]
    }
   ],
   "source": [
    "# esantionare\n",
    "num_samples = 100000\n",
    "\n",
    "sample = []\n",
    "for i in range(num_samples):\n",
    "    sample.append(algResp3())\n",
    "    \n",
    "print('esantionare')\n",
    "print(\"medie\", np.mean(sample))\n",
    "print(\"dispersie\", np.var(sample))"
   ]
  },
  {
   "cell_type": "code",
   "execution_count": 25,
   "metadata": {},
   "outputs": [],
   "source": [
    "# b) Sa se genereze variabila binomiala prin doua metode (curs 7).\n",
    "def bernoulli(p):\n",
    "    u = np.random.uniform(0, 1)\n",
    "    q = 1 - p\n",
    "    if u <= q:\n",
    "        z = 0\n",
    "    else:\n",
    "        z = 1\n",
    "    return z\n",
    "    \n",
    "def binom1(n, p):\n",
    "    # pas 1\n",
    "    i = 1\n",
    "    x = 0\n",
    "    \n",
    "    while True:\n",
    "        # pas 2\n",
    "        zi = bernoulli(p)\n",
    "        x = x + zi\n",
    "\n",
    "        # pas 3\n",
    "        while True:\n",
    "            if i == n:\n",
    "                return x\n",
    "            else:\n",
    "                i += 1\n",
    "                break   \n",
    "\n",
    "def binom2(n, p):\n",
    "    q = 1 - p\n",
    "    # pas 1\n",
    "    w = np.random.normal(0, 1)\n",
    "    # pas 2\n",
    "    x = round(n*p + w * np.sqrt(n*p*q))\n",
    "    \n",
    "    return x"
   ]
  },
  {
   "cell_type": "code",
   "execution_count": 26,
   "metadata": {},
   "outputs": [
    {
     "name": "stdout",
     "output_type": "stream",
     "text": [
      "valori teoretice pentru validare\n",
      "medie 12.0\n",
      "dispersie 2.3999999999999995\n"
     ]
    }
   ],
   "source": [
    "n = 15\n",
    "p = 0.8\n",
    "q = 1 - p\n",
    "\n",
    "# validare cu media si dispersia\n",
    "mean = n*p\n",
    "variance = n*p*q\n",
    "\n",
    "print('valori teoretice pentru validare')\n",
    "print('medie', mean)\n",
    "print('dispersie', variance)"
   ]
  },
  {
   "cell_type": "code",
   "execution_count": 27,
   "metadata": {},
   "outputs": [
    {
     "name": "stdout",
     "output_type": "stream",
     "text": [
      "esantionare metoda 1\n",
      "medie 12.00712\n",
      "dispersie 2.4005093056\n",
      "esantionare metoda 2\n",
      "medie 12.00426\n",
      "dispersie 2.4557218524\n"
     ]
    }
   ],
   "source": [
    "# esantionare\n",
    "num_samples = 50000\n",
    "\n",
    "sample = []\n",
    "for i in range(num_samples):\n",
    "    sample.append(binom1(n, p))\n",
    "    \n",
    "print('esantionare metoda 1')\n",
    "print(\"medie\", np.mean(sample))\n",
    "print(\"dispersie\", np.var(sample))\n",
    "\n",
    "sample = []\n",
    "for i in range(num_samples):\n",
    "    sample.append(binom2(n, p))\n",
    "    \n",
    "print('esantionare metoda 2')\n",
    "print(\"medie\", np.mean(sample))\n",
    "print(\"dispersie\", np.var(sample))"
   ]
  },
  {
   "cell_type": "code",
   "execution_count": null,
   "metadata": {},
   "outputs": [],
   "source": []
  }
 ],
 "metadata": {
  "kernelspec": {
   "display_name": "Python 3",
   "language": "python",
   "name": "python3"
  },
  "language_info": {
   "codemirror_mode": {
    "name": "ipython",
    "version": 3
   },
   "file_extension": ".py",
   "mimetype": "text/x-python",
   "name": "python",
   "nbconvert_exporter": "python",
   "pygments_lexer": "ipython3",
   "version": "3.8.3"
  }
 },
 "nbformat": 4,
 "nbformat_minor": 4
}
