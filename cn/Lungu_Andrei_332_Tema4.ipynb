{
 "cells": [
  {
   "cell_type": "markdown",
   "metadata": {},
   "source": [
    "## Ex 1\n",
    "Sa se aproximeze a doua derivata a functiei (1) folosind metoda diferentelor finite.\n",
    "1. Sa se reprezinte grafic derivata a doua exacta a functiei (1) si aproximarea numerica obtinuta. Numarul\n",
    "de puncte al discretizarii intervalului, N, se va alege cel mai mic posibil astfel ıncat eroarea maxima de\n",
    "trunchiere sa satisfaca relatia |et|∞ ≤ 1e − 5.\n",
    "2. Sa se reprezinte ıntr-o figura noua eroarea de trunchiere."
   ]
  },
  {
   "cell_type": "code",
   "execution_count": 31,
   "metadata": {},
   "outputs": [],
   "source": [
    "import numpy as np\n",
    "import matplotlib.pyplot as plt"
   ]
  },
  {
   "cell_type": "code",
   "execution_count": 5,
   "metadata": {},
   "outputs": [],
   "source": [
    "# pas 0, datele pb\n",
    "def f(x):\n",
    "    return np.cos(0.6 * x)\n",
    "\n",
    "def f2deriv(x):\n",
    "    return -0.36* np.cos(0.6*x) # derivata a doua a functiei\n",
    "\n",
    "def eroare_trunchiere(a, b):\n",
    "    return np.abs(a - b)\n",
    "\n",
    "def eroare_max_trunchiere(a, b):\n",
    "    return np.max(eroare_trunchiere(a, b))\n",
    "\n",
    "a, b = -np.pi/2, np.pi"
   ]
  },
  {
   "cell_type": "code",
   "execution_count": 8,
   "metadata": {
    "collapsed": true
   },
   "outputs": [
    {
     "name": "stdout",
     "output_type": "stream",
     "text": [
      "eroarea maxima de trunchiere pt n = 3 : 0.025871310779565893\n",
      "eroarea maxima de trunchiere pt n = 4 : 0.014334704554167965\n",
      "eroarea maxima de trunchiere pt n = 5 : 0.009323459154123748\n",
      "eroarea maxima de trunchiere pt n = 6 : 0.006612864687133346\n",
      "eroarea maxima de trunchiere pt n = 7 : 0.004823921035396417\n",
      "eroarea maxima de trunchiere pt n = 8 : 0.0037059300112685656\n",
      "eroarea maxima de trunchiere pt n = 9 : 0.0029511575600750795\n",
      "eroarea maxima de trunchiere pt n = 10 : 0.0023813164957344757\n",
      "eroarea maxima de trunchiere pt n = 11 : 0.0019704627778308614\n",
      "eroarea maxima de trunchiere pt n = 12 : 0.0016624167117536004\n",
      "eroarea maxima de trunchiere pt n = 13 : 0.0014131629071978957\n",
      "eroarea maxima de trunchiere pt n = 14 : 0.0012191991957560822\n",
      "eroarea maxima de trunchiere pt n = 15 : 0.001064655654158142\n",
      "eroarea maxima de trunchiere pt n = 16 : 0.000934243550384517\n",
      "eroarea maxima de trunchiere pt n = 17 : 0.0008278277422947844\n",
      "eroarea maxima de trunchiere pt n = 18 : 0.0007396117914333922\n",
      "eroarea maxima de trunchiere pt n = 19 : 0.0006630460894919143\n",
      "eroarea maxima de trunchiere pt n = 20 : 0.000598514007932982\n",
      "eroarea maxima de trunchiere pt n = 21 : 0.0005435068321504866\n",
      "eroarea maxima de trunchiere pt n = 22 : 0.0004947922703893437\n",
      "eroarea maxima de trunchiere pt n = 23 : 0.00045275875419586997\n",
      "eroarea maxima de trunchiere pt n = 24 : 0.0004161813531255443\n",
      "eroarea maxima de trunchiere pt n = 25 : 0.0003832941120127109\n",
      "eroarea maxima de trunchiere pt n = 26 : 0.0003544073600482145\n",
      "eroarea maxima de trunchiere pt n = 27 : 0.0003288665787762879\n",
      "eroarea maxima de trunchiere pt n = 28 : 0.000305630203408902\n",
      "eroarea maxima de trunchiere pt n = 29 : 0.00028493317852673616\n",
      "eroarea maxima de trunchiere pt n = 30 : 0.0002664004299782752\n",
      "eroarea maxima de trunchiere pt n = 31 : 0.0002493799092198046\n",
      "eroarea maxima de trunchiere pt n = 32 : 0.0002340478492936504\n",
      "eroarea maxima de trunchiere pt n = 33 : 0.0002201769583783375\n",
      "eroarea maxima de trunchiere pt n = 34 : 0.00020733909407816276\n",
      "eroarea maxima de trunchiere pt n = 35 : 0.00019566717807883993\n",
      "eroarea maxima de trunchiere pt n = 36 : 0.0001850170362906467\n",
      "eroarea maxima de trunchiere pt n = 37 : 0.00017509636307311283\n",
      "eroarea maxima de trunchiere pt n = 38 : 0.00016600649897241526\n",
      "eroarea maxima de trunchiere pt n = 39 : 0.000157652447357437\n",
      "eroarea maxima de trunchiere pt n = 40 : 0.00014982805490626472\n",
      "eroarea maxima de trunchiere pt n = 41 : 0.00014261155190536945\n",
      "eroarea maxima de trunchiere pt n = 42 : 0.00013593829912345035\n",
      "eroarea maxima de trunchiere pt n = 43 : 0.0001296588575985802\n",
      "eroarea maxima de trunchiere pt n = 44 : 0.00012383438462254537\n",
      "eroarea maxima de trunchiere pt n = 45 : 0.00011841966845604901\n",
      "eroarea maxima de trunchiere pt n = 46 : 0.00011330380673169049\n",
      "eroarea maxima de trunchiere pt n = 47 : 0.00010853519468806416\n",
      "eroarea maxima de trunchiere pt n = 48 : 0.00010408144529183705\n",
      "eroarea maxima de trunchiere pt n = 49 : 9.985856441102614e-05\n",
      "eroarea maxima de trunchiere pt n = 50 : 9.590528936442855e-05\n",
      "eroarea maxima de trunchiere pt n = 51 : 9.21979303793452e-05\n",
      "eroarea maxima de trunchiere pt n = 52 : 8.867173279070162e-05\n",
      "eroarea maxima de trunchiere pt n = 53 : 8.535803522985441e-05\n",
      "eroarea maxima de trunchiere pt n = 54 : 8.223918755068116e-05\n",
      "eroarea maxima de trunchiere pt n = 55 : 7.926448013045873e-05\n",
      "eroarea maxima de trunchiere pt n = 56 : 7.645951728252331e-05\n",
      "eroarea maxima de trunchiere pt n = 57 : 7.38109316894553e-05\n",
      "eroarea maxima de trunchiere pt n = 58 : 7.127845689874901e-05\n",
      "eroarea maxima de trunchiere pt n = 59 : 6.888320353748423e-05\n",
      "eroarea maxima de trunchiere pt n = 60 : 6.661489859921543e-05\n",
      "eroarea maxima de trunchiere pt n = 61 : 6.444116874754213e-05\n",
      "eroarea maxima de trunchiere pt n = 62 : 6.237956667548561e-05\n",
      "eroarea maxima de trunchiere pt n = 63 : 6.042209253825925e-05\n",
      "eroarea maxima de trunchiere pt n = 64 : 5.854242714520286e-05\n",
      "eroarea maxima de trunchiere pt n = 65 : 5.675527852094797e-05\n",
      "eroarea maxima de trunchiere pt n = 66 : 5.505434242347729e-05\n",
      "eroarea maxima de trunchiere pt n = 67 : 5.341800485875181e-05\n",
      "eroarea maxima de trunchiere pt n = 68 : 5.1858679075034164e-05\n",
      "eroarea maxima de trunchiere pt n = 69 : 5.0371342908528405e-05\n",
      "eroarea maxima de trunchiere pt n = 70 : 4.8938083226479634e-05\n",
      "eroarea maxima de trunchiere pt n = 71 : 4.756944665568197e-05\n",
      "eroarea maxima de trunchiere pt n = 72 : 4.626139255325956e-05\n",
      "eroarea maxima de trunchiere pt n = 73 : 4.499895057086256e-05\n",
      "eroarea maxima de trunchiere pt n = 74 : 4.3791137005921854e-05\n",
      "eroarea maxima de trunchiere pt n = 75 : 4.2634671168328975e-05\n",
      "eroarea maxima de trunchiere pt n = 76 : 4.1516946325703685e-05\n",
      "eroarea maxima de trunchiere pt n = 77 : 4.044571483696746e-05\n",
      "eroarea maxima de trunchiere pt n = 78 : 3.941829099851635e-05\n",
      "eroarea maxima de trunchiere pt n = 79 : 3.8423983403201856e-05\n",
      "eroarea maxima de trunchiere pt n = 80 : 3.746949354649365e-05\n",
      "eroarea maxima de trunchiere pt n = 81 : 3.6552605790218795e-05\n",
      "eroarea maxima de trunchiere pt n = 82 : 3.566419420192313e-05\n",
      "eroarea maxima de trunchiere pt n = 83 : 3.4810081105396407e-05\n",
      "eroarea maxima de trunchiere pt n = 84 : 3.398842545410119e-05\n",
      "eroarea maxima de trunchiere pt n = 85 : 3.31913908515058e-05\n",
      "eroarea maxima de trunchiere pt n = 86 : 3.242405963771455e-05\n",
      "eroarea maxima de trunchiere pt n = 87 : 3.168489142474362e-05\n",
      "eroarea maxima de trunchiere pt n = 88 : 3.096712026995352e-05\n",
      "eroarea maxima de trunchiere pt n = 89 : 3.0275201594376355e-05\n",
      "eroarea maxima de trunchiere pt n = 90 : 2.960783916189369e-05\n",
      "eroarea maxima de trunchiere pt n = 91 : 2.8959160403685402e-05\n",
      "eroarea maxima de trunchiere pt n = 92 : 2.8333087447596217e-05\n",
      "eroarea maxima de trunchiere pt n = 93 : 2.7728523305681207e-05\n",
      "eroarea maxima de trunchiere pt n = 94 : 2.7140346349707745e-05\n",
      "eroarea maxima de trunchiere pt n = 95 : 2.65720224997823e-05\n",
      "eroarea maxima de trunchiere pt n = 96 : 2.6022618490828542e-05\n",
      "eroarea maxima de trunchiere pt n = 97 : 2.5487647338395814e-05\n",
      "eroarea maxima de trunchiere pt n = 98 : 2.4970183490402587e-05\n",
      "eroarea maxima de trunchiere pt n = 99 : 2.4469428249851433e-05\n",
      "eroarea maxima de trunchiere pt n = 100 : 2.3981434411179947e-05\n",
      "eroarea maxima de trunchiere pt n = 101 : 2.3508938422622805e-05\n",
      "eroarea maxima de trunchiere pt n = 102 : 2.3051253743744393e-05\n",
      "eroarea maxima de trunchiere pt n = 103 : 2.260489424299461e-05\n",
      "eroarea maxima de trunchiere pt n = 104 : 2.21723031202381e-05\n",
      "eroarea maxima de trunchiere pt n = 105 : 2.1752888011539184e-05\n",
      "eroarea maxima de trunchiere pt n = 106 : 2.1343558176623034e-05\n",
      "eroarea maxima de trunchiere pt n = 107 : 2.094650193174008e-05\n",
      "eroarea maxima de trunchiere pt n = 108 : 2.056120600263389e-05\n",
      "eroarea maxima de trunchiere pt n = 109 : 2.018492072702882e-05\n",
      "eroarea maxima de trunchiere pt n = 110 : 1.98196117977556e-05\n",
      "eroarea maxima de trunchiere pt n = 111 : 1.946483244447128e-05\n",
      "eroarea maxima de trunchiere pt n = 112 : 1.9118128250561472e-05\n",
      "eroarea maxima de trunchiere pt n = 113 : 1.8781270339551792e-05\n",
      "eroarea maxima de trunchiere pt n = 114 : 1.845386807103333e-05\n",
      "eroarea maxima de trunchiere pt n = 115 : 1.8133723864777185e-05\n",
      "eroarea maxima de trunchiere pt n = 116 : 1.782243780290571e-05\n",
      "eroarea maxima de trunchiere pt n = 117 : 1.7519666800913658e-05\n",
      "eroarea maxima de trunchiere pt n = 118 : 1.7223437778601802e-05\n",
      "eroarea maxima de trunchiere pt n = 119 : 1.6935199002143797e-05\n",
      "eroarea maxima de trunchiere pt n = 120 : 1.6654649226233165e-05\n",
      "eroarea maxima de trunchiere pt n = 121 : 1.638001145154444e-05\n",
      "eroarea maxima de trunchiere pt n = 122 : 1.6112599837470043e-05\n",
      "eroarea maxima de trunchiere pt n = 123 : 1.5852149012174355e-05\n",
      "eroarea maxima de trunchiere pt n = 124 : 1.5597054104476982e-05\n",
      "eroarea maxima de trunchiere pt n = 125 : 1.5348510739643384e-05\n",
      "eroarea maxima de trunchiere pt n = 126 : 1.5106283802246434e-05\n",
      "eroarea maxima de trunchiere pt n = 127 : 1.4868920680088937e-05\n",
      "eroarea maxima de trunchiere pt n = 128 : 1.4637511177861828e-05\n",
      "eroarea maxima de trunchiere pt n = 129 : 1.4411846992190558e-05\n",
      "eroarea maxima de trunchiere pt n = 130 : 1.4190609603725868e-05\n",
      "eroarea maxima de trunchiere pt n = 131 : 1.397479491788145e-05\n",
      "eroarea maxima de trunchiere pt n = 132 : 1.3764217024037073e-05\n",
      "eroarea maxima de trunchiere pt n = 133 : 1.355767742999836e-05\n",
      "eroarea maxima de trunchiere pt n = 134 : 1.3356086794591437e-05\n",
      "eroarea maxima de trunchiere pt n = 135 : 1.3159280148833385e-05\n",
      "eroarea maxima de trunchiere pt n = 136 : 1.2966164189442964e-05\n",
      "eroarea maxima de trunchiere pt n = 137 : 1.2777575004008224e-05\n",
      "eroarea maxima de trunchiere pt n = 138 : 1.2593364391688677e-05\n",
      "eroarea maxima de trunchiere pt n = 139 : 1.2412533927197433e-05\n",
      "eroarea maxima de trunchiere pt n = 140 : 1.2235851644559759e-05\n",
      "eroarea maxima de trunchiere pt n = 141 : 1.2063184749444567e-05\n",
      "eroarea maxima de trunchiere pt n = 142 : 1.1893619010161505e-05\n",
      "eroarea maxima de trunchiere pt n = 143 : 1.1727862218591234e-05\n",
      "eroarea maxima de trunchiere pt n = 144 : 1.1565793952450498e-05\n",
      "eroarea maxima de trunchiere pt n = 145 : 1.1406576950090397e-05\n",
      "eroarea maxima de trunchiere pt n = 146 : 1.125086274583742e-05\n",
      "eroarea maxima de trunchiere pt n = 147 : 1.1098543680532202e-05\n",
      "eroarea maxima de trunchiere pt n = 148 : 1.094885002245194e-05\n",
      "eroarea maxima de trunchiere pt n = 149 : 1.0802383279606698e-05\n",
      "eroarea maxima de trunchiere pt n = 150 : 1.0659046422500928e-05\n",
      "eroarea maxima de trunchiere pt n = 151 : 1.0518131193182345e-05\n",
      "eroarea maxima de trunchiere pt n = 152 : 1.0380194412851207e-05\n",
      "eroarea maxima de trunchiere pt n = 153 : 1.0245147390453013e-05\n",
      "eroarea maxima de trunchiere pt n = 154 : 1.0112337790357806e-05\n",
      "eroarea maxima de trunchiere pt n = 155 : 9.982280759657236e-06\n"
     ]
    }
   ],
   "source": [
    "# pas 1, discretizare interval\n",
    "err_max = 1e-5  # eroarea maxima dorita = 10^(-5) = 0.00001\n",
    "curr_err = err_max + 1 # eroarea obtinuta\n",
    "n = 3 # va creste pana obtinem eroarea dorita\n",
    "while curr_err > err_max:\n",
    "    if n > 500:\n",
    "        raise AssertionError('nu am reusit sa aproximez')\n",
    "        \n",
    "    x = np.linspace(a, b, n+1) # discretizare a intervalului [a, b] cu N+1 puncte\n",
    "    y = f(x) # valorile functiei in noduri\n",
    "    \n",
    "    # pas 2, aproximarea numerica a lui f''(x) (diferente finite centrale)\n",
    "    f_num_centr = np.zeros(n+1)\n",
    "    h = x[1] - x[0]\n",
    "    for i in range(1, n):\n",
    "        f_num_centr[i] = (y[i+1] - 2 * y[i] + y[i-1]) / (h * h) \n",
    "    \n",
    "    curr_err = eroare_max_trunchiere(f_num_centr[1: -1], f2deriv(x[1: -1])) # eroarea curenta\n",
    "    print(\"eroarea maxima de trunchiere pt n = \" + str(n) + \" : \" + str(curr_err))\n",
    "\n",
    "    n += 1 # cresc nr de noduri"
   ]
  },
  {
   "cell_type": "markdown",
   "metadata": {},
   "source": [
    "## Reprezentare grafica"
   ]
  },
  {
   "cell_type": "code",
   "execution_count": 13,
   "metadata": {},
   "outputs": [
    {
     "data": {
      "image/png": "[encoded data removed]",
      "text/plain": [
       "<Figure size 432x288 with 1 Axes>"
      ]
     },
     "metadata": {
      "needs_background": "light"
     },
     "output_type": "display_data"
    }
   ],
   "source": [
    "# plotare\n",
    "plt.figure()\n",
    "plt.axvline(0, c='black') # Adauga axa OY\n",
    "plt.axhline(0, c='black') # Adauga axa OX\n",
    "plt.xlabel('x') # Label pentru axa OX\n",
    "plt.ylabel('y') # Label pentru axa OY\n",
    "\n",
    "plt.plot(x, f2deriv(x), linestyle = '-', linewidth = 3, label = 'f2deriv(x)') # desenez graficul functiei f2deriv exacte\n",
    "plt.plot(x[1: -1], f_num_centr[1: -1], linestyle = '--', linewidth = 3, label = 'f_num_centr(x)', c='orange')\n",
    "\n",
    "plt.title('f(x) = cos(0.6 * x) cu N=' + str(n+1) + ' puncte') # Titlul figurii\n",
    "plt.legend()\n",
    "plt.show()"
   ]
  },
  {
   "cell_type": "code",
   "execution_count": 14,
   "metadata": {},
   "outputs": [
    {
     "data": {
      "image/png": "[encoded data removed]",
      "text/plain": [
       "<Figure size 432x288 with 1 Axes>"
      ]
     },
     "metadata": {
      "needs_background": "light"
     },
     "output_type": "display_data"
    }
   ],
   "source": [
    "#Grafic eroare (pe nodurile interioare!!)\n",
    "plt.figure()\n",
    "plt.plot(x[1: -1], eroare_trunchiere(f_num_centr[1: -1], f2deriv(x[1: -1])), color = 'red', linewidth = 3, label = 'Eroarea de trunchiere pt f_num_centr', linestyle = '--')\n",
    "plt.axvline(0, c='black') # Adauga axa OY\n",
    "plt.axhline(0, c='black') # Adauga axa OX\n",
    "plt.xlabel('x') # Label pentru axa OX\n",
    "plt.ylabel('y') # Label pentru axa OY\n",
    "plt.title('2.Eroarea pt aproximarea derivatei, N={} noduri'.format(n))\n",
    "plt.legend()\n",
    "plt.show()"
   ]
  },
  {
   "cell_type": "markdown",
   "metadata": {},
   "source": [
    "## Ex 2\n",
    "(a) Creati functia integrare care calculeaza valoarea aproximativa a integralei [...] conform formulelor de cuadratura sumate a dreptunghiului, trapezului si Simpson si are ca date de intrare:<br>\n",
    "• functia de integrat, f;<br>\n",
    "• vectorul x, o diviziune a intervalului [a, b];<br>\n",
    "• sirul de caractere metoda ∈ {’dreptunghi’, ’trapez’, ’Simpson’};<br>\n",
    "iar ca date de iesire:<br>\n",
    "• aproximarea numerica a integralei I(f).<br>\n",
    "\n",
    "(b) Sa se aproximeze valoarea integralei  [...]  pentru functia f(x) =  [...] , x ∈ [−10, 10],σ = 1.0, folosind cele 3 metode mentionate mai sus."
   ]
  },
  {
   "cell_type": "code",
   "execution_count": 28,
   "metadata": {},
   "outputs": [],
   "source": [
    "def integrare(f, x, metoda):\n",
    "    y = f(x) # calcul f(x)\n",
    "    h = x[1] - x[0]\n",
    "    \n",
    "    if metoda == 'dreptunghi':\n",
    "        i = 2 * h * np.sum(y[0::2]) # suma din 2 in 2\n",
    "    elif metoda == 'trapez':\n",
    "        i = h/2 * (y[0] + 2 * np.sum(y[1:-1]) + y[-1]) # 2 * suma pana la penultimul element, apoi adaug ultimul element\n",
    "    elif metoda == 'Simpson':\n",
    "        i = h/3 * (y[0] + 4 * np.sum(y[1::2]) + 2 * np.sum(y[2:-1:2]) + y[-1])\n",
    "    else:\n",
    "        raise ValueError('metoda necunoscuta')\n",
    "    \n",
    "    return i"
   ]
  },
  {
   "cell_type": "code",
   "execution_count": 56,
   "metadata": {},
   "outputs": [
    {
     "name": "stdout",
     "output_type": "stream",
     "text": [
      "Valorile aproximative ale integralei date, calculate cu n=21 noduri, sunt:\n",
      "metoda: dreptunghi , cu valoarea: 1.0143837720622289\n",
      "metoda: trapez , cu valoarea: 1.000000005350576\n",
      "metoda: Simpson , cu valoarea: 0.9952054164466918\n"
     ]
    }
   ],
   "source": [
    "# b\n",
    "def f(x):\n",
    "    return 1/(sigma * np.sqrt(2*np.pi)) * np.e ** (- x**2 / (2 * sigma ** 2))\n",
    "    \n",
    "a, b = -10, 10 # intervalul\n",
    "sigma = 1.0\n",
    "n = 21 # numar de noduri (impar!)\n",
    "\n",
    "valori_integrala = []\n",
    "x = np.linspace(a, b, n) # discretizare\n",
    "metode = ['dreptunghi', 'trapez', 'Simpson']\n",
    "\n",
    "print('Valorile aproximative ale integralei date, calculate cu n={} noduri, sunt:'.format(n))\n",
    "for metoda in metode:\n",
    "    i = integrare(f, x, metoda)\n",
    "    valori_integrala.append(i)\n",
    "    print('metoda:', metoda, ', cu valoarea:', i)"
   ]
  },
  {
   "cell_type": "code",
   "execution_count": null,
   "metadata": {},
   "outputs": [],
   "source": []
  }
 ],
 "metadata": {
  "kernelspec": {
   "display_name": "Python 3",
   "language": "python",
   "name": "python3"
  },
  "language_info": {
   "codemirror_mode": {
    "name": "ipython",
    "version": 3
   },
   "file_extension": ".py",
   "mimetype": "text/x-python",
   "name": "python",
   "nbconvert_exporter": "python",
   "pygments_lexer": "ipython3",
   "version": "3.8.3"
  }
 },
 "nbformat": 4,
 "nbformat_minor": 4
}
