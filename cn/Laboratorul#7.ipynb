{
 "cells": [
  {
   "cell_type": "code",
   "execution_count": null,
   "metadata": {
    "scrolled": true
   },
   "outputs": [],
   "source": [
    "# Librariile necesare\n",
    "import numpy as np\n",
    "import matplotlib.pyplot as plt\n",
    "from mpl_toolkits import mplot3d\n",
    "%matplotlib notebook"
   ]
  },
  {
   "cell_type": "code",
   "execution_count": null,
   "metadata": {},
   "outputs": [],
   "source": [
    "# Functii deja implementate necesare: Introduceti orice functie scrisa de voi care rezolva direct un sistem liniar\n",
    "# ..."
   ]
  },
  {
   "cell_type": "markdown",
   "metadata": {},
   "source": [
    "### Construieste graficul functiei patratice definite de matricea A si vectorul b\n",
    "$$f:\\mathbf{R}^n\\longrightarrow\\mathbf{R}, \\quad f(x) = \\frac{1}{2}x^T A x - b x$$"
   ]
  },
  {
   "cell_type": "code",
   "execution_count": null,
   "metadata": {
    "scrolled": false
   },
   "outputs": [],
   "source": [
    "def grid_discret(A, b):\n",
    "    \"\"\"\n",
    "    Construieste un grid discret si evaleaza f in fiecare punct al gridului\n",
    "    \"\"\"\n",
    "    \n",
    "    size = 50 # Numar de puncte pe fiecare axa\n",
    "    x1 = np.linspace(-4, 6, size) # Axa x1\n",
    "    x2 = np.linspace(-6, 4, size) # Axa x2\n",
    "    X1, X2 = np.meshgrid(x1, x2) # Creeaza un grid pe planul determinat de axele x1 si x2\n",
    "\n",
    "    X3 = np.zeros((size, size))\n",
    "    for i in range(size):\n",
    "        for j in range(size):\n",
    "            x = np.array([X1[i,j], X2[i,j]]) # x e vectorul ce contine coordonatele unui punct din gridul definit mai sus\n",
    "            X3[i,j] = .5 * x @ A @ x - x @ b # Evaluam functia in punctul x\n",
    "            \n",
    "    return X1, X2, X3\n",
    "\n",
    "def grafic_f(A,b):\n",
    "    \"\"\"\n",
    "    Construieste graficul functiei f\n",
    "    \"\"\"\n",
    "    \n",
    "    # Construieste gridul asociat functiei\n",
    "    (X1, X2, X3) = grid_discret(A, b)\n",
    "\n",
    "    # Defineste o figura 3D\n",
    "    fig1 = plt.figure()\n",
    "    ax = plt.axes(projection=\"3d\")\n",
    "\n",
    "    # Construieste graficul functiei f folosind gridul discret X1, X2, X3=f(X1,X2)\n",
    "    ax.plot_surface(X1, X2, X3, rstride=1, cstride=1, cmap='winter', edgecolor='none')\n",
    "\n",
    "    # Etichete pe axe\n",
    "    ax.set_xlabel('x1')\n",
    "    ax.set_ylabel('x2')\n",
    "    ax.set_zlabel('f(x1,x2)')\n",
    "\n",
    "    # Titlu\n",
    "    ax.set_title('Graficul functiei f');\n",
    "\n",
    "    # Afiseaza figura\n",
    "    plt.show()\n",
    "    \n",
    "def linii_nivel(A,b):\n",
    "    \"\"\"\n",
    "    Construieste liniile de nivel ale functiei f\n",
    "    \"\"\"\n",
    "    \n",
    "    # Construieste gridul asociat functiei\n",
    "    (X1, X2, X3) = grid_discret(A, b)\n",
    "    \n",
    "    # Ploteaza liniile de nivel ale functiei f\n",
    "    fig2 = plt.figure()\n",
    "    plt.contour(X1, X2, X3, levels = 10) # levels = numarul de linii de nivel\n",
    "    \n",
    "    # Etichete pe axe\n",
    "    plt.xlabel('x1')\n",
    "    plt.ylabel('x2')\n",
    "    \n",
    "    # Titlu\n",
    "    plt.title('Liniile de nivel ale functiei f');\n",
    "    \n",
    "    # Afiseaza figura\n",
    "    plt.show()\n",
    "        \n",
    "# Definire functie f prin matricea A si vectorul b\n",
    "A = np.array([[3, 2],[2, 6]]).astype(float) # Matrice pozitiv definita\n",
    "b = np.array([[2],[-8]]).astype(float)\n",
    "\n",
    "# Apelare functii grafic\n",
    "grafic_f(A,b)\n",
    "linii_nivel(A,b)\n",
    "\n",
    "# Punctul de minim determinat prin rezolvarea sistemului A*x=b\n",
    "#x_num = MEGPP(A,b)\n",
    "#plt.scatter(x_num[0], x_num[1], s=50, c='black', marker='*')\n",
    "#plt.show()"
   ]
  },
  {
   "cell_type": "code",
   "execution_count": null,
   "metadata": {},
   "outputs": [],
   "source": []
  }
 ],
 "metadata": {
  "kernelspec": {
   "display_name": "Python 3",
   "language": "python",
   "name": "python3"
  },
  "language_info": {
   "codemirror_mode": {
    "name": "ipython",
    "version": 3
   },
   "file_extension": ".py",
   "mimetype": "text/x-python",
   "name": "python",
   "nbconvert_exporter": "python",
   "pygments_lexer": "ipython3",
   "version": "3.7.4"
  }
 },
 "nbformat": 4,
 "nbformat_minor": 2
}
