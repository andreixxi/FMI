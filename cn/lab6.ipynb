{
 "cells": [
  {
   "cell_type": "code",
   "execution_count": 5,
   "metadata": {
    "collapsed": true
   },
   "outputs": [
    {
     "name": "stdout",
     "output_type": "stream",
     "text": [
      "L=\n",
      "[[ 1.   0.   0. ]\n",
      " [ 2.   1.   0. ]\n",
      " [ 0.  -0.5  1. ]]\n",
      "U=\n",
      "[[ 2. -1. -2.]\n",
      " [ 0.  4.  4.]\n",
      " [ 0.  0.  1.]]\n",
      "L*U=\n",
      "[[ 2. -1. -2.]\n",
      " [ 4.  2.  0.]\n",
      " [ 0. -2. -1.]]\n"
     ]
    }
   ],
   "source": [
    "import numpy as np\n",
    "\"\"\"def gfp_lu(aext):\n",
    "    n = np.shape(aext)[0] # nr linii\n",
    "    L = np.identity(n) # matricea identitate\n",
    "    for k in range(n-1):\n",
    "        for l in range(k+1, n): \n",
    "            scalar = aext[l][k] / aext[k][k]\n",
    "            aext[l] = aext[l] - scalar * aext[k]\n",
    "            L[l][k] = scalar\n",
    "    return aext, L\"\"\"\n",
    "\n",
    "def gfp_lu(u):\n",
    "    n = np.shape(u)[0] # nr linii\n",
    "    L = np.identity(n) # matricea identitate\n",
    "    for k in range(n-1):\n",
    "        L[k+1:, k] = u[k+1:, k] / u[k, k]\n",
    "        u[k+1:, k:] -= np.outer(L[k+1:, k], u[k, k:]) # np.outer(scalar, linia k)\n",
    "    return u, L\n",
    "\n",
    "a = np.array([[2., -1., -2.], \n",
    "             [4., 2., 0.], \n",
    "             [0., -2., -1.]])\n",
    "u = np.copy(a)\n",
    "det = np.linalg.det(a)\n",
    "if np.abs(det) < 1e-14:\n",
    "    print(\"sistemul nu are solutie(matr nu este inversabila)\")\n",
    "else:\n",
    "    u, l = gfp_lu(u)\n",
    "    print(\"L=\")\n",
    "    print(l)\n",
    "    print(\"U=\")\n",
    "    print(u)\n",
    "    print(\"L*U=\")\n",
    "    print(l@u)"
   ]
  },
  {
   "cell_type": "code",
   "execution_count": 11,
   "metadata": {},
   "outputs": [
    {
     "name": "stdout",
     "output_type": "stream",
     "text": [
      "a@x= [[4.]\n",
      " [4.]\n",
      " [7.]]\n"
     ]
    }
   ],
   "source": [
    "import numpy as np\n",
    "def gpp_lu(a):\n",
    "    n = np.shape(a)[0] # nr linii\n",
    "    # initializare  \n",
    "    P = np.identity(n)\n",
    "    U = np.copy(a)\n",
    "    L = np.zeros(shape = (n, n))\n",
    "    \n",
    "    for k in range(n-1):\n",
    "        p = np.argmax(np.abs(U[k:, k])) \n",
    "        p += k # adaug offsetul\n",
    "\n",
    "        # swap linia p cu linia k\n",
    "        U[[p, k]] = U[[k, p]] \n",
    "        P[[p, k]] = P[[k, p]]\n",
    "        L[[p, k]] = L[[k, p]]\n",
    "\n",
    "        # definire L, U ca in gfp_lu\n",
    "        L[k+1:, k] = U[k+1:, k] / U[k, k]\n",
    "        U[k+1:, k:] -= np.outer(L[k+1:, k], U[k, k:])\n",
    "           \n",
    "    L += np.identity(n)\n",
    "    return P, L, U\n",
    "\n",
    "def SubsDesc(u, c,  epsilon = 10**(-14)):\n",
    "    if abs(np.linalg.det(u)) > epsilon:\n",
    "        n = np.shape(u)[0] # nr linii\n",
    "        x = np.array([[float('nan')]] * n) # initalizez solutia cu 'nan' pt n linii\n",
    "        for k in range(n-1, -1, -1):\n",
    "            x[k] = (c[k] - np.dot(u[k][k+1 : ], x[k+1 : ])) / u[k][k]\n",
    "        return x\n",
    "\n",
    "def SubsAsc(u, c,  epsilon = 10**(-14)):\n",
    "    if abs(np.linalg.det(u)) > epsilon:\n",
    "        n = np.shape(u)[0] # nr linii\n",
    "        x = np.array([[float('nan')]] * n) # initalizez solutia cu 'nan' pt n linii\n",
    "        for k in range(n):\n",
    "            x[k] = (c[k] - np.dot(u[k][ : k], x[: k])) / u[k][k]\n",
    "        return x\n",
    "\n",
    "a = np.array([[1., 2., 3.], \n",
    "              [4., 5., 6.], \n",
    "              [7., 8., 10.]])\n",
    "\n",
    "det = np.linalg.det(a)\n",
    "if np.abs(det) < 1e-14:\n",
    "    print(\"sistemul nu are solutie(matr nu este inversabila)\")\n",
    "else:\n",
    "    p, l, u = gpp_lu(a) # calcul p, l, u\n",
    "#     print(\"P=\", p)\n",
    "#     print(\"L=\", l)\n",
    "#     print(\"U=\", u)\n",
    "#     print(\"P@A=\", p@a)\n",
    "#     print(\"L@U=\", l@u)\n",
    "    b = np.array([[4], [4], [7]]) \n",
    "    y = SubsAsc(l, p@b) \n",
    "    x = SubsDesc(u, y)\n",
    "    # verificare : a@x = b\n",
    "    print(\"a@x=\", a@x)"
   ]
  },
  {
   "cell_type": "code",
   "execution_count": null,
   "metadata": {},
   "outputs": [],
   "source": []
  }
 ],
 "metadata": {
  "kernelspec": {
   "display_name": "Python 3",
   "language": "python",
   "name": "python3"
  },
  "language_info": {
   "codemirror_mode": {
    "name": "ipython",
    "version": 3
   },
   "file_extension": ".py",
   "mimetype": "text/x-python",
   "name": "python",
   "nbconvert_exporter": "python",
   "pygments_lexer": "ipython3",
   "version": "3.8.3"
  }
 },
 "nbformat": 4,
 "nbformat_minor": 4
}
