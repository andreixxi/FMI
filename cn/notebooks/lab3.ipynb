{
 "cells": [
  {
   "cell_type": "code",
   "execution_count": 1,
   "metadata": {},
   "outputs": [],
   "source": [
    "import numpy as np"
   ]
  },
  {
   "cell_type": "code",
   "execution_count": 4,
   "metadata": {},
   "outputs": [
    {
     "name": "stdout",
     "output_type": "stream",
     "text": [
      "\n",
      "varianta cu for\n",
      "matricea este inversabila 7.999999999999998 > 1e-14\n",
      "solutia este\n",
      " [[1.]\n",
      " [1.]\n",
      " [1.]]\n",
      "[[-1.]\n",
      " [ 8.]\n",
      " [ 1.]]\n",
      "------------\n",
      "varianta cu np.dot\n",
      "solutia este\n",
      " [[1.]\n",
      " [1.]\n",
      " [1.]]\n",
      "[[-1.]\n",
      " [ 8.]\n",
      " [ 1.]]\n"
     ]
    }
   ],
   "source": [
    "#np.sum cu axis = 0 face suma pe coloane, axis = 1 pe linii\n",
    "u = np.array([[2., -1., -2.], \n",
    "            [0., 4., 4.],\n",
    "            [0., 0., 1.]])\n",
    "\n",
    "n = np.shape(u)[0] # linii\n",
    "n2 = np.shape(u)[1] # coloane\n",
    "\n",
    "I = np.array([[1., 0., 0.], \n",
    "             [0., 1., 0.], \n",
    "             [0., 0., 1.]])\n",
    "c = np.array([[-1.], \n",
    "              [8.], \n",
    "              [1.]])\n",
    "x = np.array([[float('nan')], \n",
    "              [float('nan')], \n",
    "              [float('nan')]])\n",
    "epsilon = 10**(-14)\n",
    "# print(U)\n",
    "# print(I)\n",
    "# print(B)\n",
    "if np.linalg.det(u) > epsilon:\n",
    "    print(\"\\nvarianta cu for\")\n",
    "    print(\"matricea este inversabila\", np.linalg.det(u), \">\", epsilon)\n",
    "    \n",
    "    for k in range(n-1, -1, -1):\n",
    "        suma = 0\n",
    "        for j in range(k+1, n):\n",
    "            suma = suma + (u[k][j]*x[j])\n",
    "        x[k] = (c[k] - suma) / u[k][k]\n",
    "            \n",
    "    print(\"solutia este\\n\", x)\n",
    "    print(u@x) # inmultire matrice\n",
    "    \n",
    "    print(\"------------\\nvarianta cu np.dot\")\n",
    "    x = np.array([[float('nan')], \n",
    "                  [float('nan')], \n",
    "                  [float('nan')]])\n",
    "    \n",
    "    for k in range(n-1, -1, -1):\n",
    "        x[k] = (c[k] - np.dot(u[k][k+1 : ], x[k+1 : ])) / u[k][k]\n",
    "            \n",
    "    print(\"solutia este\\n\", x)\n",
    "    print(u@x) # inmultire matrice"
   ]
  },
  {
   "cell_type": "code",
   "execution_count": 60,
   "metadata": {},
   "outputs": [
    {
     "name": "stdout",
     "output_type": "stream",
     "text": [
      "[[0. 0. 1.]]\n",
      "[[1 2]\n",
      " [3 4]]\n"
     ]
    }
   ],
   "source": [
    "print(u[2 :])\n",
    "print(x[:2])"
   ]
  },
  {
   "cell_type": "code",
   "execution_count": 63,
   "metadata": {},
   "outputs": [
    {
     "name": "stdout",
     "output_type": "stream",
     "text": [
      "matricea este inversabila 7.999999999999998 > 1e-14\n",
      "[[1.]\n",
      " [1.]\n",
      " [1.]]\n",
      "[[-1.]\n",
      " [ 8.]\n",
      " [ 1.]]\n"
     ]
    }
   ],
   "source": [
    "u = np.array([[2., -1., -2.], \n",
    "            [0., 4., 4.],\n",
    "            [0., 0., 1.]])\n",
    "\n",
    "n = np.shape(u)[0] # linii\n",
    "n2 = np.shape(u)[1] # coloane\n",
    "\n",
    "I = np.array([[1., 0., 0.], \n",
    "             [0., 1., 0.], \n",
    "             [0., 0., 1.]])\n",
    "c = np.array([[-1.], \n",
    "              [8.], \n",
    "              [1.]])\n",
    "x = np.array([[float('nan')], \n",
    "              [float('nan')], \n",
    "              [float('nan')]])\n",
    "epsilon = 10**(-14)\n",
    "if np.linalg.det(U) > epsilon:\n",
    "    print(\"matricea este inversabila\", np.linalg.det(U), \">\", epsilon)\n",
    "    x[n-1] = c[n-1] / u[n-1][n-1]\n",
    "    \n",
    "    for k in range(n-2, -1, -1):\n",
    "        x[k] = (c[k] - np.dot(u[k][k+1 : n], x[k+1 : n])) / u[k][k]\n",
    "            \n",
    "    print(x)\n",
    "    print(u@x) # inmultire matrice\n",
    "    \n",
    "    \n"
   ]
  },
  {
   "cell_type": "code",
   "execution_count": 48,
   "metadata": {},
   "outputs": [
    {
     "name": "stdout",
     "output_type": "stream",
     "text": [
      "219\n",
      "219\n",
      "[29 67]\n",
      "[[19 22]\n",
      " [43 50]]\n"
     ]
    }
   ],
   "source": [
    "x = np.array([[1, 2],[3, 4]])\n",
    "y = np.array([[5, 6],[7, 8]])\n",
    "v = np.array([9, 10])\n",
    "w = np.array([11, 12])\n",
    "# vector x vector => 219\n",
    "print(v.dot(w))\n",
    "print(np.dot(v, w))\n",
    "# matrice x vector => [29 67]\n",
    "print(np.matmul(x, v))\n",
    "# matrice x matrice => [[19 22]\n",
    "# [43 50]]\n",
    "print(np.matmul(x, y))"
   ]
  },
  {
   "cell_type": "code",
   "execution_count": 50,
   "metadata": {},
   "outputs": [
    {
     "data": {
      "text/plain": [
       "219"
      ]
     },
     "execution_count": 50,
     "metadata": {},
     "output_type": "execute_result"
    }
   ],
   "source": [
    "99+120"
   ]
  },
  {
   "cell_type": "code",
   "execution_count": null,
   "metadata": {},
   "outputs": [],
   "source": []
  }
 ],
 "metadata": {
  "kernelspec": {
   "display_name": "Python 3",
   "language": "python",
   "name": "python3"
  },
  "language_info": {
   "codemirror_mode": {
    "name": "ipython",
    "version": 3
   },
   "file_extension": ".py",
   "mimetype": "text/x-python",
   "name": "python",
   "nbconvert_exporter": "python",
   "pygments_lexer": "ipython3",
   "version": "3.8.3"
  }
 },
 "nbformat": 4,
 "nbformat_minor": 4
}
