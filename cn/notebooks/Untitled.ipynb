{
 "cells": [
  {
   "cell_type": "code",
   "execution_count": 69,
   "metadata": {},
   "outputs": [
    {
     "name": "stdout",
     "output_type": "stream",
     "text": [
      "0.5857864376269045 4 iteratii\n",
      "3.0000000000000018 4 iteratii\n",
      "3.414213562786844 5 iteratii\n"
     ]
    },
    {
     "data": {
      "image/png": "[encoded data removed]",
      "text/plain": [
       "<Figure size 432x288 with 1 Axes>"
      ]
     },
     "metadata": {
      "needs_background": "light"
     },
     "output_type": "display_data"
    }
   ],
   "source": [
    "import matplotlib.pyplot as plt\n",
    "import numpy as np\n",
    "import random\n",
    "from math import sqrt \n",
    "\n",
    "def f(x):\n",
    "    return x**3 -7*(x**2) + 14*x - 6\n",
    "\n",
    "def fderiv(x):\n",
    "    return 3 * x**2 - 14 * x + 14\n",
    "\n",
    "def fd2(x):\n",
    "    return 6*x - 14\n",
    "\n",
    "def metoda_newton(f, fderiv, x0, epsilon):\n",
    "    N = 0\n",
    "    # algoritmul\n",
    "    xk_1 = x0\n",
    "    xk = xk_1 - f(xk_1) /fderiv(xk_1)\n",
    "    while (abs(xk - xk_1) / abs(xk_1)) >= epsilon:\n",
    "            xk_1 = xk\n",
    "            xk = xk_1 - f(xk_1) /fderiv(xk_1)\n",
    "            N += 1\n",
    "    return xk, N #n nr iteratii\n",
    "\n",
    "epsilon = 1e-5 # 10^(-5)\n",
    "a, b = 0, 4 # intervalul [0,4]\n",
    "\n",
    "\"\"\"rezolv f'(x) = 0 \n",
    "x1,2 = (7+-sqrt(7))/3\n",
    "la x0 caut intre a si primul punct unde functia schimba convexitatea (f' = 0) (intervalul 1)\n",
    "la x1: pt intervalul 2 rezolv f\"(x)= 0 pt ca am si concav si convex si obtin x = 14/6 \n",
    "la x2: caut intre al 2lea punct unde functia schimba convexitatea (f' = 0) si b\"\"\"\n",
    "\n",
    "#aplic metoda\n",
    "x0, N0 = metoda_newton(f, fderiv, random.uniform(a, (7 - sqrt(7))/3), epsilon)\n",
    "x1, N1 = metoda_newton(f, fderiv, random.uniform(14/6, (7 + sqrt(7))/3), epsilon) \n",
    "x2, N2 = metoda_newton(f, fderiv, random.uniform((7 + sqrt(7))/3, b), epsilon)\n",
    "\n",
    "#afisare solutii\n",
    "print(x0, N0, \"iteratii\")\n",
    "print(x1, N1, \"iteratii\")\n",
    "print(x2, N2, \"iteratii\")\n",
    "\n",
    "x = np.linspace(a, b, 50) # Discretizare a intervalului (A,B)/ generare puncte\n",
    "y = f(x)\n",
    "\n",
    "plt.figure(0)\n",
    "plt.plot(x, y, linestyle = '-', linewidth = 3) #desenez graficul functiei\n",
    "\n",
    "# 0 = f(solutie)\n",
    "plt.scatter(x0, 0, s=50, c='black', marker='o') #s=size, marker-forma punctelor\n",
    "plt.scatter(x1, 0, s=50, c='black', marker='o')\n",
    "plt.scatter(x2, 0, s=50, c='black', marker='o')\n",
    "\n",
    "plt.legend(['f(x)', 'x_num']) # Adauga legenda\n",
    "\n",
    "plt.axvline(0, c='black') # Adauga axa OY\n",
    "plt.axhline(0, c='black') # Adauga axa OX\n",
    "\n",
    "plt.xlabel('x') # Label pentru axa OX\n",
    "plt.ylabel('y') # Label pentru axa OY\n",
    "\n",
    "plt.title('Metoda Newton Raphson') # Titlul figurii\n",
    "\n",
    "plt.show() # Arata graficul"
   ]
  },
  {
   "cell_type": "code",
   "execution_count": 3,
   "metadata": {},
   "outputs": [
    {
     "data": {
      "text/plain": [
       "'C:\\\\Users\\\\andrei\\\\Desktop'"
      ]
     },
     "execution_count": 3,
     "metadata": {},
     "output_type": "execute_result"
    }
   ],
   "source": [
    "pwd"
   ]
  },
  {
   "cell_type": "code",
   "execution_count": 10,
   "metadata": {
    "collapsed": true
   },
   "outputs": [
    {
     "name": "stdout",
     "output_type": "stream",
     "text": [
      "{\n",
      "    \"people\": [\n",
      "        {\n",
      "            \"face_keypoints_2d\": [],\n",
      "            \"face_keypoints_3d\": [],\n",
      "            \"hand_left_keypoints_2d\": [],\n",
      "            \"hand_left_keypoints_3d\": [],\n",
      "            \"hand_right_keypoints_2d\": [],\n",
      "            \"hand_right_keypoints_3d\": [],\n",
      "            \"pose_keypoints\": [\n",
      "                212.0,\n",
      "                282.0,\n",
      "                0.8844711929559708,\n",
      "                305.0,\n",
      "                367.0,\n",
      "                0.8184360861778259,\n",
      "                245.0,\n",
      "                380.0,\n",
      "                0.6968776434659958,\n",
      "                229.0,\n",
      "                508.0,\n",
      "                0.14189034048467875,\n",
      "                594.0,\n",
      "                441.0,\n",
      "                0.21366366744041443,\n",
      "                371.0,\n",
      "                356.0,\n",
      "                0.7429522573947906,\n",
      "                415.0,\n",
      "                481.0,\n",
      "                0.724550724029541,\n",
      "                607.0,\n",
      "                440.0,\n",
      "                0.3483394868671894,\n",
      "                296.0,\n",
      "                623.5,\n",
      "                0.5586340166628361,\n",
      "                250.0,\n",
      "                621.0,\n",
      "                0.5498569086194038,\n",
      "                238.0,\n",
      "                830.0,\n",
      "                0.6936087161302567,\n",
      "                239.0,\n",
      "                1021.0,\n",
      "                0.6441002786159515,\n",
      "                342.0,\n",
      "                626.0,\n",
      "                0.5674111247062683,\n",
      "                390.0,\n",
      "                802.0,\n",
      "                0.647504135966301,\n",
      "                472.0,\n",
      "                1015.0,\n",
      "                0.5919862315058708,\n",
      "                0.0,\n",
      "                0.0,\n",
      "                0.0,\n",
      "                221.0,\n",
      "                266.0,\n",
      "                0.8991826623678207,\n",
      "                0.0,\n",
      "                0.0,\n",
      "                0.0,\n",
      "                263.0,\n",
      "                268.0,\n",
      "                0.9096055626869202,\n",
      "                0.0,\n",
      "                0.0,\n",
      "                0.0,\n",
      "                0.0,\n",
      "                0.0,\n",
      "                0.0,\n",
      "                0.0,\n",
      "                0.0,\n",
      "                0.0,\n",
      "                0.0,\n",
      "                0.0,\n",
      "                0.0,\n",
      "                0.0,\n",
      "                0.0,\n",
      "                0.0,\n",
      "                0.0,\n",
      "                0.0,\n",
      "                0.0\n",
      "            ],\n",
      "            \"pose_keypoints_3d\": []\n",
      "        }\n",
      "    ],\n",
      "    \"version\": 1.2\n",
      "}\n"
     ]
    }
   ],
   "source": [
    "import json\n",
    "with open ('licenta/rl/cod/data/json/N_scentist_4/N_scentist_4001.json') as json_file:\n",
    "    data = json.load(json_file)\n",
    "    print(json.dumps(data, indent=4, sort_keys=True))"
   ]
  },
  {
   "cell_type": "code",
   "execution_count": 21,
   "metadata": {},
   "outputs": [
    {
     "data": {
      "text/plain": [
       "75"
      ]
     },
     "execution_count": 21,
     "metadata": {},
     "output_type": "execute_result"
    }
   ],
   "source": [
    "len(data['people'][0]['pose_keypoints'])"
   ]
  },
  {
   "cell_type": "code",
   "execution_count": 3,
   "metadata": {},
   "outputs": [
    {
     "ename": "UnicodeDecodeError",
     "evalue": "'ascii' codec can't decode byte 0x80 in position 3: ordinal not in range(128)",
     "output_type": "error",
     "traceback": [
      "\u001b[1;31m---------------------------------------------------------------------------\u001b[0m",
      "\u001b[1;31mUnicodeDecodeError\u001b[0m                        Traceback (most recent call last)",
      "\u001b[1;32m<ipython-input-3-126ac0811d21>\u001b[0m in \u001b[0;36m<module>\u001b[1;34m\u001b[0m\n\u001b[0;32m      1\u001b[0m \u001b[1;32mimport\u001b[0m \u001b[0mpickle\u001b[0m\u001b[1;33m\u001b[0m\u001b[1;33m\u001b[0m\u001b[0m\n\u001b[0;32m      2\u001b[0m \u001b[1;32mwith\u001b[0m \u001b[0mopen\u001b[0m\u001b[1;33m(\u001b[0m\u001b[1;34m'Downloads/custom_joint_regressor.pkl'\u001b[0m\u001b[1;33m,\u001b[0m \u001b[1;34m'rb'\u001b[0m\u001b[1;33m)\u001b[0m \u001b[1;32mas\u001b[0m \u001b[0mf\u001b[0m\u001b[1;33m:\u001b[0m\u001b[1;33m\u001b[0m\u001b[1;33m\u001b[0m\u001b[0m\n\u001b[1;32m----> 3\u001b[1;33m     \u001b[0mdata\u001b[0m \u001b[1;33m=\u001b[0m \u001b[0mpickle\u001b[0m\u001b[1;33m.\u001b[0m\u001b[0mload\u001b[0m\u001b[1;33m(\u001b[0m\u001b[0mf\u001b[0m\u001b[1;33m)\u001b[0m\u001b[1;33m\u001b[0m\u001b[1;33m\u001b[0m\u001b[0m\n\u001b[0m\u001b[0;32m      4\u001b[0m     \u001b[0mprint\u001b[0m\u001b[1;33m(\u001b[0m\u001b[0mdata\u001b[0m\u001b[1;33m[\u001b[0m\u001b[1;33m:\u001b[0m\u001b[1;36m100\u001b[0m\u001b[1;33m]\u001b[0m\u001b[1;33m)\u001b[0m\u001b[1;33m\u001b[0m\u001b[1;33m\u001b[0m\u001b[0m\n",
      "\u001b[1;31mUnicodeDecodeError\u001b[0m: 'ascii' codec can't decode byte 0x80 in position 3: ordinal not in range(128)"
     ]
    }
   ],
   "source": [
    "import pickle\n",
    "with open('Downloads/custom_joint_regressor.pkl', 'rb') as f:\n",
    "    data = pickle.load(f)\n",
    "    print(data[:100])"
   ]
  },
  {
   "cell_type": "code",
   "execution_count": null,
   "metadata": {},
   "outputs": [],
   "source": []
  }
 ],
 "metadata": {
  "kernelspec": {
   "display_name": "Python 3",
   "language": "python",
   "name": "python3"
  },
  "language_info": {
   "codemirror_mode": {
    "name": "ipython",
    "version": 3
   },
   "file_extension": ".py",
   "mimetype": "text/x-python",
   "name": "python",
   "nbconvert_exporter": "python",
   "pygments_lexer": "ipython3",
   "version": "3.8.3"
  }
 },
 "nbformat": 4,
 "nbformat_minor": 4
}
