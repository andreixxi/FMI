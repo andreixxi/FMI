{
 "cells": [
  {
   "cell_type": "code",
   "execution_count": 121,
   "metadata": {},
   "outputs": [
    {
     "name": "stdout",
     "output_type": "stream",
     "text": [
      "solutia a fost gasita in 4 iteratii\n",
      "sqrt 5 = 2.236067977499978\n",
      "aproximarea valorii x0 cu o precizie de 7 zecimale este  2.2360680\n"
     ]
    }
   ],
   "source": [
    "def f(x):\n",
    "    \"\"\"pentru a aproxima sqrt(5):\n",
    "    x = sqrt(5)\n",
    "    x**2 = 5\n",
    "    x**2 - 5 = 0\n",
    "    \"\"\"\n",
    "    return x**2 - 5\n",
    "\n",
    "def fderiv(x): # derivata functiei\n",
    "    return 2*x\n",
    "\n",
    "def metoda_newton(f, fderiv, xk_1, epsilon):\n",
    "    N = 0\n",
    "    # algoritmul\n",
    "    xk = xk_1 - f(xk_1) /fderiv(xk_1)\n",
    "    \n",
    "    while (abs(xk - xk_1) / abs(xk_1)) >= epsilon:\n",
    "        xk_1 = xk\n",
    "        xk = xk_1 - f(xk_1) / fderiv(xk_1)\n",
    "        N += 1\n",
    "    return xk, N #n nr iteratii\n",
    "\n",
    "epsilon = 1e-5 # 10^(-5)\n",
    "x = 5\n",
    "\n",
    "x0, N = metoda_newton(f, fderiv, x, epsilon)\n",
    "print(\"solutia a fost gasita in\", N, \"iteratii\")\n",
    "print(\"sqrt\", x, \"=\", x0)\n",
    "print(\"aproximarea valorii x0 cu o precizie de 7 zecimale este \",'{:.7f}'.format(x0))"
   ]
  },
  {
   "cell_type": "code",
   "execution_count": 96,
   "metadata": {},
   "outputs": [
    {
     "data": {
      "text/plain": [
       "0.2360679774999781"
      ]
     },
     "execution_count": 96,
     "metadata": {},
     "output_type": "execute_result"
    }
   ],
   "source": [
    "number_dec = x0 - int(x0)\n",
    "number_dec"
   ]
  },
  {
   "cell_type": "code",
   "execution_count": 88,
   "metadata": {},
   "outputs": [
    {
     "data": {
      "text/plain": [
       "2.236068"
      ]
     },
     "execution_count": 88,
     "metadata": {},
     "output_type": "execute_result"
    }
   ],
   "source": [
    "x1 = float(\"{:.6f}\".format(x0))\n",
    "x1"
   ]
  },
  {
   "cell_type": "code",
   "execution_count": 84,
   "metadata": {},
   "outputs": [
    {
     "data": {
      "text/plain": [
       "1.006231566843008e-08"
      ]
     },
     "execution_count": 84,
     "metadata": {},
     "output_type": "execute_result"
    }
   ],
   "source": [
    "abs(x0-x1) / abs(x0)"
   ]
  },
  {
   "cell_type": "code",
   "execution_count": 106,
   "metadata": {},
   "outputs": [
    {
     "name": "stdout",
     "output_type": "stream",
     "text": [
      "2.236068e+00\n"
     ]
    }
   ],
   "source": [
    "print (\"{:12e}\".format((x0)))"
   ]
  },
  {
   "cell_type": "code",
   "execution_count": 98,
   "metadata": {},
   "outputs": [
    {
     "data": {
      "text/plain": [
       "'145.36068'"
      ]
     },
     "execution_count": 98,
     "metadata": {},
     "output_type": "execute_result"
    }
   ],
   "source": [
    "y = 145.360679774999781\n",
    "format(y, '.5f')"
   ]
  },
  {
   "cell_type": "code",
   "execution_count": 109,
   "metadata": {},
   "outputs": [
    {
     "data": {
      "text/plain": [
       "'2.2360680'"
      ]
     },
     "execution_count": 109,
     "metadata": {},
     "output_type": "execute_result"
    }
   ],
   "source": [
    "'{:.7f}'.format(x0)"
   ]
  },
  {
   "cell_type": "code",
   "execution_count": null,
   "metadata": {},
   "outputs": [],
   "source": []
  }
 ],
 "metadata": {
  "kernelspec": {
   "display_name": "Python 3",
   "language": "python",
   "name": "python3"
  },
  "language_info": {
   "codemirror_mode": {
    "name": "ipython",
    "version": 3
   },
   "file_extension": ".py",
   "mimetype": "text/x-python",
   "name": "python",
   "nbconvert_exporter": "python",
   "pygments_lexer": "ipython3",
   "version": "3.8.3"
  }
 },
 "nbformat": 4,
 "nbformat_minor": 4
}
