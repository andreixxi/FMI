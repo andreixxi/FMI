{
 "cells": [
  {
   "cell_type": "code",
   "execution_count": 1,
   "metadata": {},
   "outputs": [],
   "source": [
    "import numpy as np\n",
    "import math"
   ]
  },
  {
   "cell_type": "code",
   "execution_count": 2,
   "metadata": {},
   "outputs": [],
   "source": [
    "def to_tableau(c, A, b):\n",
    "    xb = [eq + [x] for eq, x in zip(A, b)]\n",
    "    z = c + [0]\n",
    "    return xb + [z]\n",
    "def can_be_improved(tableau):\n",
    "    z = tableau[-1]\n",
    "    return any(x > 0 for x in z[:-1])"
   ]
  },
  {
   "cell_type": "code",
   "execution_count": 3,
   "metadata": {},
   "outputs": [],
   "source": [
    "def get_pivot_position(tableau):\n",
    "    z = tableau[-1]\n",
    "    column = next(i for i, x in enumerate(z[:-1]) if x > 0)\n",
    "    \n",
    "    restrictions = []\n",
    "    for eq in tableau[:-1]:\n",
    "        el = eq[column]\n",
    "        restrictions.append(math.inf if el <= 0 else eq[-1] / el)\n",
    "        \n",
    "    if (all([r == math.inf for r in restrictions])):\n",
    "        raise Exception(\"Linear program is unbounded.\")\n",
    "\n",
    "    row = restrictions.index(min(restrictions))\n",
    "    return row, column\n",
    "\n",
    "\n",
    "def pivot_step(tableau, pivot_position):\n",
    "    new_tableau = [[] for eq in tableau]\n",
    "    \n",
    "    i, j = pivot_position\n",
    "    pivot_value = tableau[i][j]\n",
    "    new_tableau[i] = np.array(tableau[i]) / pivot_value\n",
    "    \n",
    "    for eq_i, eq in enumerate(tableau):\n",
    "        if eq_i != i:\n",
    "            multiplier = np.array(new_tableau[i]) * tableau[eq_i][j]\n",
    "            new_tableau[eq_i] = np.array(tableau[eq_i]) - multiplier\n",
    "   \n",
    "    return new_tableau\n",
    "\n",
    "def is_basic(column):\n",
    "    return sum(column) == 1 and len([c for c in column if c == 0]) == len(column) - 1\n",
    "\n",
    "def get_solution(tableau):\n",
    "    columns = np.array(tableau).T\n",
    "    solutions = []\n",
    "    for column in columns[:-1]:\n",
    "        solution = 0\n",
    "        if is_basic(column):\n",
    "            one_index = column.tolist().index(1)\n",
    "            solution = columns[-1][one_index]\n",
    "        solutions.append(solution)\n",
    "        \n",
    "    return solutions\n",
    "\n",
    "def simplex(c, A, b):\n",
    "    tableau = to_tableau(c, A, b)\n",
    "\n",
    "    while can_be_improved(tableau):\n",
    "        pivot_position = get_pivot_position(tableau)\n",
    "        tableau = pivot_step(tableau, pivot_position)\n",
    "\n",
    "    return get_solution(tableau)\n",
    "\n",
    "def to_objective_function_value(c, solution):\n",
    "    return sum(np.array(c) * np.array(solution))\n",
    "\n",
    "def can_be_improved_for_dual(tableau):\n",
    "    rhs_entries = [row[-1] for row in tableau[:-1]]\n",
    "    return any([entry < 0 for entry in rhs_entries])\n",
    "\n",
    "def get_pivot_position_for_dual(tableau):\n",
    "    rhs_entries = [row[-1] for row in tableau[:-1]]\n",
    "    min_rhs_value = min(rhs_entries)\n",
    "    row = rhs_entries.index(min_rhs_value)\n",
    "    \n",
    "    columns = []\n",
    "    for index, element in enumerate(tableau[row][:-1]):\n",
    "        if element < 0:\n",
    "            columns.append(index)\n",
    "    columns_values = [tableau[row][c] / tableau[-1][c] for c in columns]\n",
    "    column_min_index = columns_values.index(min(columns_values))\n",
    "    column = columns[column_min_index]\n",
    "\n",
    "    return row, column\n",
    "\n",
    "def dual_simplex(c, A, b):\n",
    "    tableau = to_tableau(c, A, b)\n",
    "\n",
    "    while can_be_improved_for_dual(tableau):\n",
    "        pivot_position = get_pivot_position_for_dual(tableau)\n",
    "        tableau = pivot_step(tableau, pivot_position)\n",
    "\n",
    "    return get_solution(tableau)"
   ]
  },
  {
   "cell_type": "code",
   "execution_count": 4,
   "metadata": {},
   "outputs": [
    {
     "name": "stdout",
     "output_type": "stream",
     "text": [
      "solution:  [1.0, 0, 0]\n",
      "Primal:  1.0\n"
     ]
    }
   ],
   "source": [
    "c = [1,1,3]\n",
    "A = [\n",
    "    [1,2,4],\n",
    "    [1,1,2],\n",
    "    [1,2,1]\n",
    "]\n",
    "b = [1,3,4]\n",
    "solution = simplex(c, A, b)\n",
    "print('solution: ', solution)\n",
    "\n",
    "primal = to_objective_function_value(c, simplex(c, A, b))\n",
    "print('Primal: ', primal)"
   ]
  },
  {
   "cell_type": "code",
   "execution_count": 4,
   "metadata": {},
   "outputs": [
    {
     "name": "stdout",
     "output_type": "stream",
     "text": [
      "solution:  [8.4, 7.199999999999999, 2.8, 0, 0]\n",
      "Primal:  24.0\n"
     ]
    }
   ],
   "source": [
    "c = [2, 1, 0, 0, 0]\n",
    "A = [\n",
    "    [1, -1, 1, 0, 0],\n",
    "    [ 3, -1, 0, 1, 0],\n",
    "    [ -1, 2, 0, 0, 1]\n",
    "]\n",
    "b = [4, 18, 6]\n",
    "solution = simplex(c, A, b)\n",
    "print('solution: ', solution)\n",
    "\n",
    "primal = to_objective_function_value(c, simplex(c, A, b))\n",
    "print('Primal: ', primal)"
   ]
  },
  {
   "cell_type": "code",
   "execution_count": 5,
   "metadata": {},
   "outputs": [
    {
     "ename": "Exception",
     "evalue": "Linear program is unbounded.",
     "output_type": "error",
     "traceback": [
      "\u001b[1;31m---------------------------------------------------------------------------\u001b[0m",
      "\u001b[1;31mException\u001b[0m                                 Traceback (most recent call last)",
      "\u001b[1;32m<ipython-input-5-b385e7ec07e3>\u001b[0m in \u001b[0;36m<module>\u001b[1;34m\u001b[0m\n\u001b[0;32m      5\u001b[0m ]\n\u001b[0;32m      6\u001b[0m \u001b[0mb\u001b[0m \u001b[1;33m=\u001b[0m \u001b[1;33m[\u001b[0m\u001b[1;36m12\u001b[0m\u001b[1;33m,\u001b[0m \u001b[1;36m2\u001b[0m\u001b[1;33m]\u001b[0m\u001b[1;33m\u001b[0m\u001b[1;33m\u001b[0m\u001b[0m\n\u001b[1;32m----> 7\u001b[1;33m \u001b[0msolution\u001b[0m \u001b[1;33m=\u001b[0m \u001b[0msimplex\u001b[0m\u001b[1;33m(\u001b[0m\u001b[0mc\u001b[0m\u001b[1;33m,\u001b[0m \u001b[0mA\u001b[0m\u001b[1;33m,\u001b[0m \u001b[0mb\u001b[0m\u001b[1;33m)\u001b[0m\u001b[1;33m\u001b[0m\u001b[1;33m\u001b[0m\u001b[0m\n\u001b[0m\u001b[0;32m      8\u001b[0m \u001b[0mprint\u001b[0m\u001b[1;33m(\u001b[0m\u001b[1;34m'solution: '\u001b[0m\u001b[1;33m,\u001b[0m \u001b[0msolution\u001b[0m\u001b[1;33m)\u001b[0m\u001b[1;33m\u001b[0m\u001b[1;33m\u001b[0m\u001b[0m\n",
      "\u001b[1;32m<ipython-input-3-9472564c0d81>\u001b[0m in \u001b[0;36msimplex\u001b[1;34m(c, A, b)\u001b[0m\n\u001b[0;32m     48\u001b[0m \u001b[1;33m\u001b[0m\u001b[0m\n\u001b[0;32m     49\u001b[0m     \u001b[1;32mwhile\u001b[0m \u001b[0mcan_be_improved\u001b[0m\u001b[1;33m(\u001b[0m\u001b[0mtableau\u001b[0m\u001b[1;33m)\u001b[0m\u001b[1;33m:\u001b[0m\u001b[1;33m\u001b[0m\u001b[1;33m\u001b[0m\u001b[0m\n\u001b[1;32m---> 50\u001b[1;33m         \u001b[0mpivot_position\u001b[0m \u001b[1;33m=\u001b[0m \u001b[0mget_pivot_position\u001b[0m\u001b[1;33m(\u001b[0m\u001b[0mtableau\u001b[0m\u001b[1;33m)\u001b[0m\u001b[1;33m\u001b[0m\u001b[1;33m\u001b[0m\u001b[0m\n\u001b[0m\u001b[0;32m     51\u001b[0m         \u001b[0mtableau\u001b[0m \u001b[1;33m=\u001b[0m \u001b[0mpivot_step\u001b[0m\u001b[1;33m(\u001b[0m\u001b[0mtableau\u001b[0m\u001b[1;33m,\u001b[0m \u001b[0mpivot_position\u001b[0m\u001b[1;33m)\u001b[0m\u001b[1;33m\u001b[0m\u001b[1;33m\u001b[0m\u001b[0m\n\u001b[0;32m     52\u001b[0m \u001b[1;33m\u001b[0m\u001b[0m\n",
      "\u001b[1;32m<ipython-input-3-9472564c0d81>\u001b[0m in \u001b[0;36mget_pivot_position\u001b[1;34m(tableau)\u001b[0m\n\u001b[0;32m      9\u001b[0m \u001b[1;33m\u001b[0m\u001b[0m\n\u001b[0;32m     10\u001b[0m     \u001b[1;32mif\u001b[0m \u001b[1;33m(\u001b[0m\u001b[0mall\u001b[0m\u001b[1;33m(\u001b[0m\u001b[1;33m[\u001b[0m\u001b[0mr\u001b[0m \u001b[1;33m==\u001b[0m \u001b[0mmath\u001b[0m\u001b[1;33m.\u001b[0m\u001b[0minf\u001b[0m \u001b[1;32mfor\u001b[0m \u001b[0mr\u001b[0m \u001b[1;32min\u001b[0m \u001b[0mrestrictions\u001b[0m\u001b[1;33m]\u001b[0m\u001b[1;33m)\u001b[0m\u001b[1;33m)\u001b[0m\u001b[1;33m:\u001b[0m\u001b[1;33m\u001b[0m\u001b[1;33m\u001b[0m\u001b[0m\n\u001b[1;32m---> 11\u001b[1;33m         \u001b[1;32mraise\u001b[0m \u001b[0mException\u001b[0m\u001b[1;33m(\u001b[0m\u001b[1;34m\"Linear program is unbounded.\"\u001b[0m\u001b[1;33m)\u001b[0m\u001b[1;33m\u001b[0m\u001b[1;33m\u001b[0m\u001b[0m\n\u001b[0m\u001b[0;32m     12\u001b[0m \u001b[1;33m\u001b[0m\u001b[0m\n\u001b[0;32m     13\u001b[0m     \u001b[0mrow\u001b[0m \u001b[1;33m=\u001b[0m \u001b[0mrestrictions\u001b[0m\u001b[1;33m.\u001b[0m\u001b[0mindex\u001b[0m\u001b[1;33m(\u001b[0m\u001b[0mmin\u001b[0m\u001b[1;33m(\u001b[0m\u001b[0mrestrictions\u001b[0m\u001b[1;33m)\u001b[0m\u001b[1;33m)\u001b[0m\u001b[1;33m\u001b[0m\u001b[1;33m\u001b[0m\u001b[0m\n",
      "\u001b[1;31mException\u001b[0m: Linear program is unbounded."
     ]
    }
   ],
   "source": [
    "c = [3, 4, 0, 0]\n",
    "A = [\n",
    "    [-3, 4, 1, 0],\n",
    "    [ -2, 1, 0, 1]\n",
    "]\n",
    "b = [12, 2]\n",
    "solution = simplex(c, A, b)\n",
    "print('solution: ', solution)"
   ]
  },
  {
   "cell_type": "code",
   "execution_count": 6,
   "metadata": {},
   "outputs": [
    {
     "name": "stdout",
     "output_type": "stream",
     "text": [
      "solution:  [0, 0, 12, 16]\n",
      "Primal:  0\n"
     ]
    }
   ],
   "source": [
    "c = [-3, -2, 0, 0]\n",
    "A = [\n",
    "    [2, 1, 1, 0],\n",
    "    [2, 3, 0, 1],\n",
    "]\n",
    "b = [12, 16]\n",
    "solution = simplex(c, A, b)\n",
    "print('solution: ', solution)\n",
    "\n",
    "primal = to_objective_function_value(c, simplex(c, A, b))\n",
    "print('Primal: ', primal)"
   ]
  },
  {
   "cell_type": "code",
   "execution_count": 7,
   "metadata": {},
   "outputs": [
    {
     "name": "stdout",
     "output_type": "stream",
     "text": [
      "solution:  [0, 0, 4, 18, 6]\n",
      "Dual:  0\n"
     ]
    }
   ],
   "source": [
    "c = [2, 1, 0, 0, 0]\n",
    "A = [\n",
    "    [1, -1, 1, 0, 0],\n",
    "    [ 3, -1, 0, 1, 0],\n",
    "    [ -1, 2, 0, 0, 1]\n",
    "]\n",
    "b = [4, 18, 6]\n",
    "solution = dual_simplex(c, A, b)\n",
    "print('solution: ', solution)\n",
    "\n",
    "dual = to_objective_function_value(c, dual_simplex(c, A, b))\n",
    "print('Dual: ', dual)"
   ]
  },
  {
   "cell_type": "code",
   "execution_count": 8,
   "metadata": {},
   "outputs": [
    {
     "name": "stdout",
     "output_type": "stream",
     "text": [
      "solution:  [1.25, 0.25, 0, 0]\n",
      "Dual:  19.0\n"
     ]
    }
   ],
   "source": [
    "c = [12, 16, 0, 0]\n",
    "A = [\n",
    "    [-2, -2, 1, 0],\n",
    "    [-1, -3, 0, 1]\n",
    "]\n",
    "b = [-3, -2]\n",
    "solution = dual_simplex(c, A, b)\n",
    "print('solution: ', solution)\n",
    "\n",
    "dual = to_objective_function_value(c, dual_simplex(c, A, b))\n",
    "print('Dual: ', dual)"
   ]
  },
  {
   "cell_type": "code",
   "execution_count": null,
   "metadata": {},
   "outputs": [],
   "source": []
  }
 ],
 "metadata": {
  "kernelspec": {
   "display_name": "Python 3",
   "language": "python",
   "name": "python3"
  },
  "language_info": {
   "codemirror_mode": {
    "name": "ipython",
    "version": 3
   },
   "file_extension": ".py",
   "mimetype": "text/x-python",
   "name": "python",
   "nbconvert_exporter": "python",
   "pygments_lexer": "ipython3",
   "version": "3.8.3"
  }
 },
 "nbformat": 4,
 "nbformat_minor": 4
}
