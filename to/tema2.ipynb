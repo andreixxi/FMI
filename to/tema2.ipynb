{
 "cells": [
  {
   "cell_type": "markdown",
   "metadata": {},
   "source": [
    "# 1. Inversa unei matrici \n",
    "### metoda Gauss cu pivotare totala"
   ]
  },
  {
   "cell_type": "code",
   "execution_count": 1,
   "metadata": {},
   "outputs": [
    {
     "name": "stdout",
     "output_type": "stream",
     "text": [
      "matricea este inversabila\n",
      "inversa matricei b este b1\n",
      " [[-0.09207921  0.01237624 -0.11980198 -0.02277228]\n",
      " [ 0.07326733 -0.1980198   0.11683168 -0.03564356]\n",
      " [-0.03762376  0.12871287 -0.00594059 -0.11683168]\n",
      " [ 0.13267327  0.01980198 -0.03168317  0.04356436]]\n"
     ]
    }
   ],
   "source": [
    "import numpy as np\n",
    "\n",
    "def gpt(aext, index):\n",
    "    n = np.shape(aext)[0] # nr linii\n",
    "    for k in range(n-1):\n",
    "        # Trebuie maximum doar de la linia si coloana k incolo\n",
    "        p, m = np.unravel_index(aext[k:, k:n].argmax(), aext[k: ,k:n].shape) # returns a tuple\n",
    "        p += k # adaug offsetul\n",
    "        m += k\n",
    "        aext[[p, k]] = aext[[k, p]] # swap linia p cu linia k\n",
    "        aext[:,[m, k]] = aext[:,[k, m]] # swap coloana m cu coloana k\n",
    "        index[m], index[k] = index[k], index[m] # pt necunoscute\n",
    "        for l in range(k+1, n):\n",
    "            aext[l] = aext[l] - (aext[l][k] / aext[k][k]) * aext[k] \n",
    "    return aext, index\n",
    "\n",
    "def SubsDesc(u, c,  epsilon = 10**(-14)):\n",
    "    if abs(np.linalg.det(u)) > epsilon: # matricea este inversabila\n",
    "        n = np.shape(u)[0] # nr linii\n",
    "        x = np.array([[float('nan')]] * n)\n",
    "        for k in range(n-1, -1, -1):\n",
    "            x[k] = (c[k] - np.dot(u[k][k+1 : ], x[k+1 : ])) / u[k][k] # rezolv sistemul (de la ultima la prima linie)\n",
    "    return x\n",
    "\n",
    "def inverse(b):\n",
    "    n = b.shape[0] # nr linii\n",
    "    i4 = np.identity(n) # matricea identitate i4\n",
    "    bext = np.concatenate((b, i4), axis = 1) # concatenez matrcea identitate la dreapta lui b\n",
    "    index = [i for i in range(n)] # lista indecsi\n",
    "    bext, index = gpt(bext, index) # aplic metoda gauss cu pivotare totala pt matricea de dimensiune n x 2n\n",
    "\n",
    "    # obtin n sisteme cu n necunoscute pe care le rezolv cu subsdesc\n",
    "    u = bext[:, :n] # primele n coloane (u este matrice superior triunghiulara)\n",
    "    b1 = np.empty((n, n))  # inversa matricei, va fi calculata ulterior \n",
    "    for i in range(n): # parcurg sistemele\n",
    "        c = bext[:, [i+n]] #coloana i + n din b(bInitial+matrIdentitate); vector coloana\n",
    "        x = SubsDesc(u, c) # calculez solutia cu subsdesc(u, c)\n",
    "        x = x[index] # reordonare solutii\n",
    "        b1[:, [i]] = x # actualizare coloana i din inversa matricei \n",
    "    \n",
    "    return b1\n",
    "\n",
    "b = np.array([[0., 2., 2., 7.],  # matricea b\n",
    "             [-4., -4., 2., 0.], \n",
    "             [-8., -1., 0., -5.],\n",
    "             [-4., -5., -7., -2.]])\n",
    "det = np.linalg.det(b) # determinantul matricei\n",
    "\n",
    "if np.abs(det) < 1e-14:\n",
    "    print(\"matricea nu este inversabila\")\n",
    "else:   \n",
    "    print(\"matricea este inversabila\")\n",
    "    b1 = inverse(b)\n",
    "    print('inversa matricei b este b1\\n', b1)\n",
    "#     print('verificare b@b1\\n', b@b1) # b@b1 = i4"
   ]
  },
  {
   "cell_type": "markdown",
   "metadata": {},
   "source": [
    "# Lema substitutiei"
   ]
  },
  {
   "cell_type": "code",
   "execution_count": 2,
   "metadata": {},
   "outputs": [
    {
     "name": "stdout",
     "output_type": "stream",
     "text": [
      "inversa lui btilda este:\n",
      " [[ 1. -2.  0.]\n",
      " [ 0.  1.  0.]\n",
      " [ 0. -1.  1.]]\n"
     ]
    }
   ],
   "source": [
    "b = np.array([[1, 0, 0],  # matricea b\n",
    "             [0, 2, 0], \n",
    "             [0, 0, 1]])\n",
    "n = b.shape[0]\n",
    "\n",
    "b1 = inverse(b) # inversa lui b\n",
    "\n",
    "c = np.array([2, 1, 1])\n",
    "\n",
    "k = 1\n",
    "\n",
    "btilda = b.copy()\n",
    "btilda[:, k] = c # coloana k = c\n",
    "\n",
    "y = b1 @ c # vector coloana\n",
    "\n",
    "eta = -y / y[k]\n",
    "eta[k] = 1 / y[k]\n",
    "\n",
    "ek = np.eye(n) # matrice identitate\n",
    "ek[:,k] = eta # coloana k este inlocuita cu eta\n",
    "\n",
    "btilda1 = ek @ b1\n",
    "print(\"inversa lui btilda este:\\n\", btilda1)"
   ]
  },
  {
   "cell_type": "code",
   "execution_count": 8,
   "metadata": {},
   "outputs": [
    {
     "name": "stdout",
     "output_type": "stream",
     "text": [
      "inversa lui btilda este:\n",
      " [[ 0.2        -0.2         0.        ]\n",
      " [ 0.          1.          0.        ]\n",
      " [ 0.         -0.66666667  0.33333333]]\n"
     ]
    }
   ],
   "source": [
    "b = np.array([[5, 0, 0],  # matricea b\n",
    "             [0, 2, 0], \n",
    "             [0, 0, 3]])\n",
    "n = b.shape[0]\n",
    "\n",
    "b1 = inverse(b) # inversa lui b\n",
    "\n",
    "c = np.array([1, 1, 2])\n",
    "\n",
    "k = 1\n",
    "\n",
    "btilda = b.copy()\n",
    "btilda[:, k] = c # coloana k = c\n",
    "\n",
    "y = b1 @ c # vector coloana\n",
    "\n",
    "eta = -y / y[k]\n",
    "eta[k] = 1 / y[k]\n",
    "\n",
    "ek = np.eye(n) # matrice identitate\n",
    "ek[:,k] = eta # coloana k este inlocuita cu eta\n",
    "\n",
    "btilda1 = ek @ b1\n",
    "print(\"inversa lui btilda este:\\n\", btilda1)"
   ]
  },
  {
   "cell_type": "code",
   "execution_count": 9,
   "metadata": {},
   "outputs": [
    {
     "data": {
      "text/plain": [
       "0.6666666666666666"
      ]
     },
     "execution_count": 9,
     "metadata": {},
     "output_type": "execute_result"
    }
   ],
   "source": [
    "2/3"
   ]
  },
  {
   "cell_type": "code",
   "execution_count": null,
   "metadata": {},
   "outputs": [],
   "source": []
  }
 ],
 "metadata": {
  "kernelspec": {
   "display_name": "Python 3",
   "language": "python",
   "name": "python3"
  },
  "language_info": {
   "codemirror_mode": {
    "name": "ipython",
    "version": 3
   },
   "file_extension": ".py",
   "mimetype": "text/x-python",
   "name": "python",
   "nbconvert_exporter": "python",
   "pygments_lexer": "ipython3",
   "version": "3.8.3"
  }
 },
 "nbformat": 4,
 "nbformat_minor": 4
}
