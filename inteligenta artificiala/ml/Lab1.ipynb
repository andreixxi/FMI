{
 "cells": [
  {
   "cell_type": "code",
   "execution_count": 14,
   "metadata": {},
   "outputs": [
    {
     "name": "stdout",
     "output_type": "stream",
     "text": [
      "0.7\n",
      "(4, 2, 4)\n",
      "0.1\n",
      "0.3\n"
     ]
    }
   ],
   "source": [
    "def accuracy_score(y_true, y_pred):\n",
    "    \"\"\"calculeaza acuratețea clasificatorului binar\"\"\"\n",
    "    s = 0\n",
    "    n = len(y_true)\n",
    "    for i in range(n):\n",
    "        s += y_pred[i] == y_true[i]\n",
    "    return s / n\n",
    "\n",
    "def precision_recall_score(y_true, y_pred):\n",
    "    \"\"\"returnează precizia și recall-ul clasificatorului binar\"\"\"\n",
    "    tp = fp = fn = 0\n",
    "    \n",
    "    for i in range(len(y_true)):\n",
    "        if y_true[i] == 1 and y_pred[i] == 1: \n",
    "            tp += 1 # true positive\n",
    "        elif y_true[i] == 0 and y_pred[i] == 1: \n",
    "            fp += 1 # false positive\n",
    "        else:  # y_true[i] == 1 and y_pred[i] == 0:\n",
    "            fn += 1 # false negative\n",
    "    return tp, fp, fn\n",
    "    \n",
    "def mse(y_true, y_pred):\n",
    "    \"\"\"mean square error\"\"\"\n",
    "    s = 0\n",
    "    for i in range(len(y_true)):\n",
    "        s +=  y_pred[i] ** 2 - y_true[i] ** 2\n",
    "    return s / len(y_true)\n",
    "    \n",
    "def mae(y_true, y_pred):\n",
    "    \"\"\"mean absolute error\"\"\"\n",
    "    s = 0\n",
    "    for i in range(len(y_true)):\n",
    "        s += abs(y_pred[i] - y_true[i])\n",
    "    return s / len(y_true)\n",
    "\n",
    "\n",
    "y_pred = [1, 1, 1, 0, 1, 0, 1, 1, 0, 0]\n",
    "y_true = [1, 0, 1, 0, 1, 0, 1, 0, 1, 0]\n",
    "\n",
    "print(accuracy_score(y_true, y_pred))\n",
    "print(precision_recall_score(y_true, y_pred))\n",
    "print(mse(y_true, y_pred))\n",
    "print(mae(y_true, y_pred))"
   ]
  }
 ],
 "metadata": {
  "kernelspec": {
   "display_name": "Python 3",
   "language": "python",
   "name": "python3"
  },
  "language_info": {
   "codemirror_mode": {
    "name": "ipython",
    "version": 3
   },
   "file_extension": ".py",
   "mimetype": "text/x-python",
   "name": "python",
   "nbconvert_exporter": "python",
   "pygments_lexer": "ipython3",
   "version": "3.7.4"
  }
 },
 "nbformat": 4,
 "nbformat_minor": 4
}
