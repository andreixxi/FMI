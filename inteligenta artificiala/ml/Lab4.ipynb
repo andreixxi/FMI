{
 "cells": [
  {
   "cell_type": "code",
   "execution_count": 42,
   "metadata": {},
   "outputs": [],
   "source": [
    "from zipfile import ZipFile\n",
    "import os\n",
    "import numpy as np\n",
    "from sklearn.neighbors import KNeighborsClassifier\n",
    "import matplotlib.pyplot as plt"
   ]
  },
  {
   "cell_type": "code",
   "execution_count": 1,
   "metadata": {},
   "outputs": [
    {
     "name": "stdout",
     "output_type": "stream",
     "text": [
      "['test_images.txt', 'test_labels.txt', 'train_images.txt', 'train_labels.txt']\n"
     ]
    }
   ],
   "source": [
    "zf = ZipFile('data_MNIST.zip', 'r')\n",
    "zf.extractall()\n",
    "zf.close()\n",
    "\n",
    "files = os.listdir('data')\n",
    "print(files)"
   ]
  },
  {
   "cell_type": "code",
   "execution_count": 6,
   "metadata": {},
   "outputs": [],
   "source": [
    "root = 'data/'\n",
    "\n",
    "# multimea de antrenare\n",
    "train_images = np.loadtxt(root + 'train_images.txt')\n",
    "train_labels = np.loadtxt(root + 'train_labels.txt', 'int')\n",
    "\n",
    "# multimea de testare\n",
    "test_images = np.loadtxt(root + 'test_images.txt')\n",
    "test_labels = np.loadtxt(root + 'test_labels.txt', 'int')"
   ]
  },
  {
   "cell_type": "code",
   "execution_count": 7,
   "metadata": {},
   "outputs": [
    {
     "data": {
      "text/plain": [
       "0.868"
      ]
     },
     "execution_count": 7,
     "metadata": {},
     "output_type": "execute_result"
    }
   ],
   "source": [
    "knn = KNeighborsClassifier(5, metric = 'l1')\n",
    "knn.fit(train_images, train_labels) # fit pe train\n",
    "knn.score(test_images, test_labels) # score pe test"
   ]
  },
  {
   "cell_type": "code",
   "execution_count": 8,
   "metadata": {},
   "outputs": [
    {
     "data": {
      "text/plain": [
       "0.896"
      ]
     },
     "execution_count": 8,
     "metadata": {},
     "output_type": "execute_result"
    }
   ],
   "source": [
    "knn = KNeighborsClassifier(5, metric = 'l2')\n",
    "knn.fit(train_images, train_labels) \n",
    "knn.score(test_images, test_labels) # l2 este mai bun decat l1"
   ]
  },
  {
   "cell_type": "code",
   "execution_count": 9,
   "metadata": {},
   "outputs": [
    {
     "data": {
      "text/plain": [
       "0.884"
      ]
     },
     "execution_count": 9,
     "metadata": {},
     "output_type": "execute_result"
    }
   ],
   "source": [
    "knn = KNeighborsClassifier(3, metric = 'l1')\n",
    "knn.fit(train_images, train_labels)\n",
    "knn.score(test_images, test_labels)  # cu 3 are valoarea cea mai buna si pt l1 si l2 (experimentez valorile)"
   ]
  },
  {
   "cell_type": "code",
   "execution_count": 10,
   "metadata": {},
   "outputs": [
    {
     "data": {
      "text/plain": [
       "0.898"
      ]
     },
     "execution_count": 10,
     "metadata": {},
     "output_type": "execute_result"
    }
   ],
   "source": [
    "knn = KNeighborsClassifier(3, metric = 'l2')\n",
    "knn.fit(train_images, train_labels) \n",
    "knn.score(test_images, test_labels)"
   ]
  },
  {
   "cell_type": "code",
   "execution_count": 46,
   "metadata": {},
   "outputs": [
    {
     "name": "stdout",
     "output_type": "stream",
     "text": [
      "4\n"
     ]
    }
   ],
   "source": [
    "def L1(img, imgs):\n",
    "# face suma si abs pe fiecare pixel din fiecare img cu axis = 1\n",
    "    return np.sum(np.abs(img - imgs), axis = 1) # 1 * 768 - 1000 * 768 -> 1000 * 768\n",
    "\n",
    "def L2(img, imgs):\n",
    "    return np.sqrt(np.sum(np.power(img - imgs, 2), axis = 1))\n",
    "\n",
    "class KnnClassifier:\n",
    "    def __init__(self, train_images, train_labels):\n",
    "        self.train_images = train_images\n",
    "        self.train_labels = train_labels\n",
    "        \n",
    "    def classify_image(self, test_image, num_neighbors = 3, metric = 'l2'):\n",
    "        # 1.calculati distanta folosind metric de la test_image la toate train_images -> [201,2001,842,723,....]\n",
    "        if metric == 'l1':\n",
    "            dist = L1(test_image, self.train_images)\n",
    "        else:\n",
    "            dist = L2(test_image, self.train_images)\n",
    "\n",
    "        # 2.sortam arrayul de distante crescator pastrand indicii (np.argsort, returneaza indicii in ordinea valorilor sortate)\n",
    "        indexes = np.argsort(dist)\n",
    "        \n",
    "        # 3.luam primii num_neighbours din arrayul sortat -> [3, 3, 2]  \n",
    "        k_dist = indexes[:num_neighbors]\n",
    "        \n",
    "        # 4.numaram clasa dominanta -> 3\n",
    "        k_classes = self.train_labels[k_dist]\n",
    "        k_votes = np.bincount(k_classes) #(np.bincount, numara cate aparitii de fiecare valoare exista)\n",
    "        return np.argmax(k_votes) # (np.argmax, returneaza indicele cu valoarea cea mai mare)\n",
    "    \n",
    "    def predict(self, test_images, num_neighbors = 3, metric = 'l2'):\n",
    "        preds = []\n",
    "        for test_image in test_images:\n",
    "            preds.append(self.classify_image(test_image, num_neighbors, metric))\n",
    "        return preds\n",
    "    \n",
    "    def score(self, test_images, test_labels, num_neighbours = 3, metric = 'l2'):\n",
    "        preds = self.predict(test_images, num_neighbours, metric)\n",
    "        return (preds == test_labels).mean() # pentru acuratete \n",
    "        \n",
    "knn = KnnClassifier(train_images, train_labels)\n",
    "\n",
    "# Ex 2  \n",
    "# clasifică imaginea test_image cu metoda celor mai apropiați vecini\n",
    "print(knn.classify_image(test_images[9]))"
   ]
  },
  {
   "cell_type": "code",
   "execution_count": 44,
   "metadata": {},
   "outputs": [
    {
     "data": {
      "image/png": "[encoded data removed]",
      "text/plain": [
       "<Figure size 432x288 with 1 Axes>"
      ]
     },
     "metadata": {
      "needs_background": "light"
     },
     "output_type": "display_data"
    }
   ],
   "source": [
    "image = test_images[9, :] \n",
    "image = np.reshape(image, (28, 28))\n",
    "plt.title(test_labels[9])\n",
    "plt.imshow(image.astype(np.uint8), cmap = 'gray')\n",
    "plt.show()"
   ]
  },
  {
   "cell_type": "code",
   "execution_count": 47,
   "metadata": {},
   "outputs": [
    {
     "name": "stdout",
     "output_type": "stream",
     "text": [
      "0.898\n"
     ]
    }
   ],
   "source": [
    "# Ex 3\n",
    "# Calculați acuratețea metodei celor mai apropiați vecini pe mulțimea de testare\n",
    "#   având ca distanța ‘l2’ și numărul de vecini 3.\n",
    "print(knn.score(test_images, test_labels, num_neighbours = 3, metric = 'l2'))"
   ]
  },
  {
   "cell_type": "code",
   "execution_count": 51,
   "metadata": {},
   "outputs": [],
   "source": [
    "# Ex 4\n",
    "# Calculați acuratețea metodei celor mai apropiați vecini pe mulțimea de testare\n",
    "# având ca distanța L2 și numărul de vecini ∈ [1, 3, 5, 7, 9].\n",
    "ks = [1, 3, 5, 7, 9]\n",
    "acc = [knn.score(test_images, test_labels, num_neighbours = x, metric = 'l2') for x in ks]"
   ]
  },
  {
   "cell_type": "code",
   "execution_count": 57,
   "metadata": {},
   "outputs": [],
   "source": [
    "acc\n",
    "np.savetxt('acuratete_l2.txt', acc) # salveaza array-ul acc in fisierul acuratete_l2.txt"
   ]
  },
  {
   "cell_type": "code",
   "execution_count": 53,
   "metadata": {},
   "outputs": [
    {
     "data": {
      "image/png": "[encoded data removed]",
      "text/plain": [
       "<Figure size 432x288 with 1 Axes>"
      ]
     },
     "metadata": {
      "needs_background": "light"
     },
     "output_type": "display_data"
    }
   ],
   "source": [
    "# a. Plotați un grafic cu acuratețea obținuta pentru fiecare vecin\n",
    "plt.plot(ks, acc)\n",
    "plt.show()"
   ]
  },
  {
   "cell_type": "code",
   "execution_count": 54,
   "metadata": {},
   "outputs": [],
   "source": [
    "# b. Repetați punctul anterior pentru distanța L1. Plotați graficul de la\n",
    "# punctul anterior în aceeași figură cu graficul curent\n",
    "ks = [1, 3, 5, 7, 9]\n",
    "acc2 = [knn.score(test_images, test_labels, num_neighbours = x, metric = 'l1') for x in ks]"
   ]
  },
  {
   "cell_type": "code",
   "execution_count": 58,
   "metadata": {},
   "outputs": [],
   "source": [
    "acc2\n",
    "np.savetxt('acuratete_l1.txt', acc2) "
   ]
  },
  {
   "cell_type": "code",
   "execution_count": 56,
   "metadata": {},
   "outputs": [
    {
     "data": {
      "image/png": "[encoded data removed]",
      "text/plain": [
       "<Figure size 432x288 with 1 Axes>"
      ]
     },
     "metadata": {
      "needs_background": "light"
     },
     "output_type": "display_data"
    }
   ],
   "source": [
    "plt.plot(ks, acc)\n",
    "plt.plot(ks, acc2)\n",
    "plt.show()"
   ]
  },
  {
   "cell_type": "code",
   "execution_count": null,
   "metadata": {},
   "outputs": [],
   "source": []
  }
 ],
 "metadata": {
  "kernelspec": {
   "display_name": "Python 3",
   "language": "python",
   "name": "python3"
  },
  "language_info": {
   "codemirror_mode": {
    "name": "ipython",
    "version": 3
   },
   "file_extension": ".py",
   "mimetype": "text/x-python",
   "name": "python",
   "nbconvert_exporter": "python",
   "pygments_lexer": "ipython3",
   "version": "3.7.4"
  }
 },
 "nbformat": 4,
 "nbformat_minor": 4
}
