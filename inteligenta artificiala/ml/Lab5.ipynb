{
 "cells": [
  {
   "cell_type": "code",
   "execution_count": 1,
   "metadata": {},
   "outputs": [
    {
     "name": "stderr",
     "output_type": "stream",
     "text": [
      "'wget' is not recognized as an internal or external command,\n",
      "operable program or batch file.\n"
     ]
    }
   ],
   "source": [
    "!wget https://fmi-unibuc-ia.github.io/ia/Data/data_lab5.zip"
   ]
  },
  {
   "cell_type": "code",
   "execution_count": 5,
   "metadata": {},
   "outputs": [],
   "source": [
    "from zipfile import ZipFile\n",
    "import os\n",
    "import numpy as np"
   ]
  },
  {
   "cell_type": "code",
   "execution_count": 13,
   "metadata": {},
   "outputs": [
    {
     "name": "stdout",
     "output_type": "stream",
     "text": [
      "['svm_train_data.npy', 'svm_train_labels.npy', 'test_images.txt', 'test_labels.txt', 'train_images.txt', 'train_labels.txt']\n"
     ]
    }
   ],
   "source": [
    "zf = ZipFile('Lab5-toyexample-SVM.zip', 'r')\n",
    "zf.extractall()\n",
    "zf.close()\n",
    "\n",
    "files = os.listdir('data')\n",
    "print(files)"
   ]
  },
  {
   "cell_type": "code",
   "execution_count": 15,
   "metadata": {},
   "outputs": [
    {
     "ename": "FileNotFoundError",
     "evalue": "[Errno 2] No such file or directory: 'data/training_sentences.npy'",
     "output_type": "error",
     "traceback": [
      "\u001b[1;31m---------------------------------------------------------------------------\u001b[0m",
      "\u001b[1;31mFileNotFoundError\u001b[0m                         Traceback (most recent call last)",
      "\u001b[1;32m<ipython-input-15-7deafea623fd>\u001b[0m in \u001b[0;36m<module>\u001b[1;34m\u001b[0m\n\u001b[1;32m----> 1\u001b[1;33m \u001b[0mtrain_data\u001b[0m \u001b[1;33m=\u001b[0m \u001b[0mnp\u001b[0m\u001b[1;33m.\u001b[0m\u001b[0mload\u001b[0m\u001b[1;33m(\u001b[0m\u001b[1;34m'data/training_sentences.npy'\u001b[0m\u001b[1;33m,\u001b[0m \u001b[0mallow_pickle\u001b[0m\u001b[1;33m=\u001b[0m\u001b[1;32mTrue\u001b[0m\u001b[1;33m)\u001b[0m\u001b[1;33m\u001b[0m\u001b[1;33m\u001b[0m\u001b[0m\n\u001b[0m\u001b[0;32m      2\u001b[0m \u001b[0mtrain_labels\u001b[0m \u001b[1;33m=\u001b[0m \u001b[0mnp\u001b[0m\u001b[1;33m.\u001b[0m\u001b[0mload\u001b[0m\u001b[1;33m(\u001b[0m\u001b[1;34m'data/training_labels.npy'\u001b[0m\u001b[1;33m)\u001b[0m\u001b[1;33m\u001b[0m\u001b[1;33m\u001b[0m\u001b[0m\n\u001b[0;32m      3\u001b[0m \u001b[0mtest_data\u001b[0m \u001b[1;33m=\u001b[0m \u001b[0mnp\u001b[0m\u001b[1;33m.\u001b[0m\u001b[0mload\u001b[0m\u001b[1;33m(\u001b[0m\u001b[1;34m'data/test_sentences.npy'\u001b[0m\u001b[1;33m,\u001b[0m \u001b[0mallow_pickle\u001b[0m\u001b[1;33m=\u001b[0m\u001b[1;32mTrue\u001b[0m\u001b[1;33m)\u001b[0m\u001b[1;33m\u001b[0m\u001b[1;33m\u001b[0m\u001b[0m\n\u001b[0;32m      4\u001b[0m \u001b[0mtest_labels\u001b[0m \u001b[1;33m=\u001b[0m \u001b[0mnp\u001b[0m\u001b[1;33m.\u001b[0m\u001b[0mload\u001b[0m\u001b[1;33m(\u001b[0m\u001b[1;34m'data/test_labels.npy'\u001b[0m\u001b[1;33m)\u001b[0m\u001b[1;33m\u001b[0m\u001b[1;33m\u001b[0m\u001b[0m\n\u001b[0;32m      5\u001b[0m \u001b[1;33m\u001b[0m\u001b[0m\n",
      "\u001b[1;32m~\\AppData\\Local\\Programs\\Python\\Python37-32\\lib\\site-packages\\numpy\\lib\\npyio.py\u001b[0m in \u001b[0;36mload\u001b[1;34m(file, mmap_mode, allow_pickle, fix_imports, encoding)\u001b[0m\n\u001b[0;32m    426\u001b[0m         \u001b[0mown_fid\u001b[0m \u001b[1;33m=\u001b[0m \u001b[1;32mFalse\u001b[0m\u001b[1;33m\u001b[0m\u001b[1;33m\u001b[0m\u001b[0m\n\u001b[0;32m    427\u001b[0m     \u001b[1;32melse\u001b[0m\u001b[1;33m:\u001b[0m\u001b[1;33m\u001b[0m\u001b[1;33m\u001b[0m\u001b[0m\n\u001b[1;32m--> 428\u001b[1;33m         \u001b[0mfid\u001b[0m \u001b[1;33m=\u001b[0m \u001b[0mopen\u001b[0m\u001b[1;33m(\u001b[0m\u001b[0mos_fspath\u001b[0m\u001b[1;33m(\u001b[0m\u001b[0mfile\u001b[0m\u001b[1;33m)\u001b[0m\u001b[1;33m,\u001b[0m \u001b[1;34m\"rb\"\u001b[0m\u001b[1;33m)\u001b[0m\u001b[1;33m\u001b[0m\u001b[1;33m\u001b[0m\u001b[0m\n\u001b[0m\u001b[0;32m    429\u001b[0m         \u001b[0mown_fid\u001b[0m \u001b[1;33m=\u001b[0m \u001b[1;32mTrue\u001b[0m\u001b[1;33m\u001b[0m\u001b[1;33m\u001b[0m\u001b[0m\n\u001b[0;32m    430\u001b[0m \u001b[1;33m\u001b[0m\u001b[0m\n",
      "\u001b[1;31mFileNotFoundError\u001b[0m: [Errno 2] No such file or directory: 'data/training_sentences.npy'"
     ]
    }
   ],
   "source": [
    "train_data = np.load('data/svm_train_data.npy', allow_pickle=True)\n",
    "train_labels = np.load('data/svm_train_labels.npy')\n",
    "# test_data = np.load('data/test_sentences.npy', allow_pickle=True)\n",
    "# test_labels = np.load('data/test_labels.npy')\n",
    "\n",
    "print(train_data[:10])"
   ]
  },
  {
   "cell_type": "code",
   "execution_count": 16,
   "metadata": {},
   "outputs": [
    {
     "ename": "SyntaxError",
     "evalue": "unexpected EOF while parsing (<ipython-input-16-d3558b627db0>, line 18)",
     "output_type": "error",
     "traceback": [
      "\u001b[1;36m  File \u001b[1;32m\"<ipython-input-16-d3558b627db0>\"\u001b[1;36m, line \u001b[1;32m18\u001b[0m\n\u001b[1;33m    \u001b[0m\n\u001b[1;37m    ^\u001b[0m\n\u001b[1;31mSyntaxError\u001b[0m\u001b[1;31m:\u001b[0m unexpected EOF while parsing\n"
     ]
    }
   ],
   "source": [
    "# vector cu indici pt TOATE propozitiile\n",
    "# vector de frecventa pt fiecare propozitie\n",
    "\"\"\" \n",
    "Ex 3 \n",
    "Definiți clasa BagOfWords în al cărui constructor se inițializează vocabularul (un\n",
    "dicționar gol). În cadrul ei implementați metoda build_vocabulary(self, data) care\n",
    "primește ca parametru o listă de mesaje(listă de liste de strings) și construiește\n",
    "vocabularul pe baza acesteia. Cheile dicționarului sunt reprezentate de cuvintele din\n",
    "eseuri, iar valorile de id-urile unice atribuite cuvintelor. Pe lângă vocabularul pe care-l\n",
    "construiți, rețineți și o listă cu cuvintele în ordinea adăugării în vocabular.\n",
    "Afișați dimensiunea vocabularul construit (9522).\n",
    "\"\"\"\n",
    "class BagOfWords:\n",
    "    def __init__(self, vocab):\n",
    "        self.vocab = vocab\n",
    "        \n",
    "    def build_vocabulary(self, data):\n",
    "        "
   ]
  },
  {
   "cell_type": "code",
   "execution_count": null,
   "metadata": {},
   "outputs": [],
   "source": [
    "# len(self.words) # lungimea listei initiale, va creste de la 0, 1..."
   ]
  },
  {
   "cell_type": "code",
   "execution_count": 17,
   "metadata": {},
   "outputs": [
    {
     "name": "stdout",
     "output_type": "stream",
     "text": [
      "Collecting jupyter_client\n",
      "  Downloading jupyter_client-6.1.3-py3-none-any.whl (106 kB)\n",
      "Requirement already satisfied, skipping upgrade: traitlets in c:\\users\\andrei\\appdata\\roaming\\python\\python37\\site-packages (from jupyter_client) (4.3.3)\n",
      "Requirement already satisfied, skipping upgrade: python-dateutil>=2.1 in c:\\users\\andrei\\appdata\\roaming\\python\\python37\\site-packages (from jupyter_client) (2.8.1)\n",
      "Requirement already satisfied, skipping upgrade: pyzmq>=13 in c:\\users\\andrei\\appdata\\local\\programs\\python\\python37-32\\lib\\site-packages (from jupyter_client) (18.1.1)\n",
      "Requirement already satisfied, skipping upgrade: tornado>=4.1 in c:\\users\\andrei\\appdata\\roaming\\python\\python37\\site-packages (from jupyter_client) (6.0.3)\n",
      "Requirement already satisfied, skipping upgrade: jupyter-core>=4.6.0 in c:\\users\\andrei\\appdata\\roaming\\python\\python37\\site-packages (from jupyter_client) (4.6.1)\n",
      "Requirement already satisfied, skipping upgrade: six in c:\\users\\andrei\\appdata\\roaming\\python\\python37\\site-packages (from traitlets->jupyter_client) (1.14.0)\n",
      "Requirement already satisfied, skipping upgrade: decorator in c:\\users\\andrei\\appdata\\roaming\\python\\python37\\site-packages (from traitlets->jupyter_client) (4.4.1)\n",
      "Requirement already satisfied, skipping upgrade: ipython-genutils in c:\\users\\andrei\\appdata\\roaming\\python\\python37\\site-packages (from traitlets->jupyter_client) (0.2.0)\n",
      "Requirement already satisfied, skipping upgrade: pywin32>=1.0; sys_platform == \"win32\" in c:\\users\\andrei\\appdata\\roaming\\python\\python37\\site-packages (from jupyter-core>=4.6.0->jupyter_client) (227)\n",
      "Installing collected packages: jupyter-client\n",
      "  Attempting uninstall: jupyter-client\n",
      "    Found existing installation: jupyter-client 5.3.4\n",
      "    Uninstalling jupyter-client-5.3.4:\n",
      "      Successfully uninstalled jupyter-client-5.3.4\n",
      "Successfully installed jupyter-client-6.1.3\n",
      "Note: you may need to restart the kernel to use updated packages.\n"
     ]
    }
   ],
   "source": [
    "pip install --upgrade jupyter_client"
   ]
  },
  {
   "cell_type": "code",
   "execution_count": null,
   "metadata": {},
   "outputs": [],
   "source": []
  }
 ],
 "metadata": {
  "kernelspec": {
   "display_name": "Python 3",
   "language": "python",
   "name": "python3"
  },
  "language_info": {
   "codemirror_mode": {
    "name": "ipython",
    "version": 3
   },
   "file_extension": ".py",
   "mimetype": "text/x-python",
   "name": "python",
   "nbconvert_exporter": "python",
   "pygments_lexer": "ipython3",
   "version": "3.7.4"
  }
 },
 "nbformat": 4,
 "nbformat_minor": 4
}
