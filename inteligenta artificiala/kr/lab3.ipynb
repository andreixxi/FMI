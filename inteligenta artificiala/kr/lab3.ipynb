{
 "cells": [
  {
   "cell_type": "code",
   "execution_count": 21,
   "metadata": {},
   "outputs": [],
   "source": [
    "# 1\n",
    "fin = open(\"test.in\", \"r\")\n",
    "fout = open(\"test.out\", \"w\")\n",
    "Nota = 1\n",
    "for i in range(9):\n",
    "    string = fin.readline()\n",
    "    string.replace(string, \"\\n\")\n",
    "    \n",
    "    a = int(string.split(\"*\")[0])\n",
    "    b = int(string.split(\"=\")[0].split(\"*\")[1])\n",
    "    c = int(string.split(\"=\")[1])\n",
    "    \n",
    "    if a*b == c:\n",
    "        fout.write(string + \" Corect\")\n",
    "        Nota += 1\n",
    "        fout.write(\"\\n\")\n",
    "    else:\n",
    "        fout.write(string + \" Gresit \" + str(a*b))\n",
    "        fout.write(\"\\n\")\n",
    "\n",
    "fout.write(\"Nota \" + str(Nota))\n",
    "fout.close()\n",
    "fin.close()"
   ]
  },
  {
   "cell_type": "code",
   "execution_count": 31,
   "metadata": {},
   "outputs": [
    {
     "name": "stdout",
     "output_type": "stream",
     "text": [
      "5.0\n",
      "b= 15\n"
     ]
    }
   ],
   "source": [
    "# 2\n",
    "# a\n",
    "from math import sqrt\n",
    "def ipotenuza(a, b):\n",
    "    return sqrt(a*a + b*b)\n",
    "print(ipotenuza(3, 4))\n",
    "\n",
    "# b\n",
    "b = int(input(\"b= \"))\n",
    "with open(\"triplete_pitagoreice.txt\", \"w\") as fout:\n",
    "    for a in range(1, b+1):\n",
    "        c = ipotenuza(a, b)\n",
    "        if c == int(c):\n",
    "            fout.write(\"(\" + str(a) + \", \" + str(b) + \", \" + str(int(c)) + \")\\n\")"
   ]
  },
  {
   "cell_type": "code",
   "execution_count": 71,
   "metadata": {},
   "outputs": [
    {
     "name": "stdout",
     "output_type": "stream",
     "text": [
      "n= 7\n",
      "1 2 -4 5 6 -8\n",
      "valori pozitive\n",
      "1 2 5 6\n",
      "valori negative\n",
      "-4 -8\n"
     ]
    }
   ],
   "source": [
    "# 3\n",
    "# a\n",
    "def citire(n, v):\n",
    "    n = int(input(\"n= \"))\n",
    "    l = [int(x) for x in input().split()]\n",
    "    return n, l\n",
    "# b\n",
    "def afisare(v):\n",
    "    print(*v, sep = \" \")\n",
    "    \n",
    "# c\n",
    "def valpoz(v):\n",
    "    return [x for x in v if x > 0]\n",
    "\n",
    "# d\n",
    "def semn(v):\n",
    "    return [-x for x in v]\n",
    "\n",
    "\n",
    "n, v = citire(n, v)\n",
    "vpoz = valpoz(v)\n",
    "print(\"valori pozitive\")\n",
    "afisare(vpoz)\n",
    "v = semn(v)\n",
    "vneg = semn(valpoz(v))\n",
    "print(\"valori negative\")\n",
    "afisare(vneg)"
   ]
  },
  {
   "cell_type": "code",
   "execution_count": 76,
   "metadata": {},
   "outputs": [
    {
     "data": {
      "text/plain": [
       "False"
      ]
     },
     "execution_count": 76,
     "metadata": {},
     "output_type": "execute_result"
    }
   ],
   "source": [
    "# 4\n",
    "# a\n",
    "def func(*args):\n",
    "    nr = 0\n",
    "    for num in args:\n",
    "        res = [int(x) for x in str(num)] \n",
    "        nr = nr * 10 + max(res)\n",
    "    return nr\n",
    "func(4251, 73, 8, 133)\n",
    "\n",
    "# b\n",
    "def func2(a, b, c):\n",
    "    nr = func(a, b, c)\n",
    "    nr2 = [int(x) for x in str(nr)]\n",
    "    if max(nr2) > 1:\n",
    "        return False\n",
    "    else:\n",
    "        return True\n",
    "func2(1001, 17, 100)"
   ]
  }
 ],
 "metadata": {
  "kernelspec": {
   "display_name": "Python 3",
   "language": "python",
   "name": "python3"
  },
  "language_info": {
   "codemirror_mode": {
    "name": "ipython",
    "version": 3
   },
   "file_extension": ".py",
   "mimetype": "text/x-python",
   "name": "python",
   "nbconvert_exporter": "python",
   "pygments_lexer": "ipython3",
   "version": "3.7.4"
  }
 },
 "nbformat": 4,
 "nbformat_minor": 4
}
