{
 "cells": [
  {
   "cell_type": "code",
   "execution_count": 1,
   "metadata": {},
   "outputs": [
    {
     "name": "stdout",
     "output_type": "stream",
     "text": [
      "[1, 3, 5, 7, 9]\n",
      "['a', 'b', 'c', 'd', 'e', 'f', 'g', 'h', 'i', 'j', 'k', 'l', 'm', 'n', 'o', 'p', 'q', 'r', 's', 't', 'u', 'v', 'w', 'x', 'y', 'z']\n",
      "[1, -2, 3, -4]\n",
      "[1, 3, 5]\n",
      "[2, 4]\n",
      "[2, 7, 1, 8]\n",
      "[(1, 2), (2, 3), (3, 4)]\n",
      "['1 * 1 = 1', '1 * 2 = 2', '1 * 3 = 3', '1 * 4 = 4', '1 * 5 = 5']\n",
      "['2 * 1 = 2', '2 * 2 = 4', '2 * 3 = 6', '2 * 4 = 8', '2 * 5 = 10']\n",
      "['3 * 1 = 3', '3 * 2 = 6', '3 * 3 = 9', '3 * 4 = 12', '3 * 5 = 15']\n",
      "['4 * 1 = 4', '4 * 2 = 8', '4 * 3 = 12', '4 * 4 = 16', '4 * 5 = 20']\n",
      "['5 * 1 = 5', '5 * 2 = 10', '5 * 3 = 15', '5 * 4 = 20', '5 * 5 = 25']\n",
      "['abcde', 'bcdea', 'cdeab', 'deabc', 'eabcd']\n",
      "[[], [1], [2, 2], [3, 3, 3]]\n"
     ]
    }
   ],
   "source": [
    "# list comprehension\n",
    "# 1\n",
    "l = [x for x in range(11) if x % 2 == 1]\n",
    "print(l)\n",
    "\n",
    "# 2\n",
    "l = [chr(x) for x in range(ord('a'), ord('z') + 1)]\n",
    "print(l)\n",
    "\n",
    "# 3\n",
    "def func(n):\n",
    "    l = [((-1) ** (x+1)) * (-(x+1)) for x in range(n)]\n",
    "    return l\n",
    "\n",
    "l = func(4)\n",
    "print(l)\n",
    "\n",
    "# 4\n",
    "def func2(l):\n",
    "    return [x for x in l if x % 2 == 1]\n",
    "l = [1, 2, 3, 4, 5]\n",
    "print(func2(l))\n",
    "\n",
    "# 5\n",
    "def func3(l):\n",
    "    return [x for x in l if l.index(x) % 2 == 1]\n",
    "l = [1, 2, 3, 4, 5]\n",
    "print(func3(l))\n",
    "\n",
    "# 6\n",
    "def func4(l):\n",
    "    return [l[i] for i in range(len(l)) if i % 2 == l[i] % 2]\n",
    "    #cu l.index nu e bine pt ca returneaza prima aparitie\n",
    "l = [2,4,1,7,5,1,8,10]\n",
    "print(func4(l))\n",
    "\n",
    "# 7 \n",
    "def func5(l):\n",
    "    return [(l[i], l[i+1]) for i in range(len(l) - 1)]\n",
    "l = [1, 2, 3, 4]\n",
    "print(func5(l))\n",
    "\n",
    "# 8\n",
    "def func6(n):\n",
    "    #parcurgerea se face de la dr la stg \n",
    "    return [[f\"{x} * {y} = {x * y}\" for y in range(1, n + 1)] for x in range(1, n + 1)]\n",
    "l = func6(5)\n",
    "for row in l:\n",
    "    print(row)\n",
    "    \n",
    "# 9\n",
    "s = \"abcde\"\n",
    "l = [s[i : len(s)] + s[0 : i] for i in range(len(s))]\n",
    "print(l)\n",
    "\n",
    "# 10\n",
    "def func7(n):\n",
    "    return [[x for y in range(x)] for x in range(n)]\n",
    "print(func7(4))"
   ]
  },
  {
   "cell_type": "code",
   "execution_count": 2,
   "metadata": {},
   "outputs": [
    {
     "name": "stdout",
     "output_type": "stream",
     "text": [
      "[2, 20, 4, 5, 6, 9]\n",
      "[11, 2, 2, 2, 2, 42, 42, 14, 14, 24, 64, 5, 6, 56, 7, 79]\n",
      "[2, 5, 6, 2, 7, 2, 56, 24, 79, 14, 11, 42, 64, 14, 42, 3123122]\n",
      "[11, 2, 7, 334]\n"
     ]
    }
   ],
   "source": [
    "# 2\n",
    "# a\n",
    "# sortare lexicografica\n",
    "l = [4, 6, 2, 20, 9, 5]\n",
    "l.sort(key = lambda x : str(x))\n",
    "print(l)\n",
    "\n",
    "# b\n",
    "l = [2, 56, 24, 2, 5, 79, 14, 11, 6, 2, 7, 2, 42, 64, 14, 42]\n",
    "l.sort(key = lambda x :(x%10, x/10%10))\n",
    "print(l)\n",
    "\n",
    "# c\n",
    "l = [2, 56, 24, 3123122, 5, 79, 14, 11, 6, 2, 7, 2, 42, 64, 14, 42]\n",
    "l.sort(key = lambda x : len(str(x)))\n",
    "print(l)\n",
    "\n",
    "# d\n",
    "l = [11, 2, 334, 7]\n",
    "l.sort(key = lambda x : len(set(str(x))))\n",
    "print(l)"
   ]
  },
  {
   "cell_type": "code",
   "execution_count": 10,
   "metadata": {},
   "outputs": [
    {
     "data": {
      "text/plain": [
       "[5, 9, 20, 2, 6, 4]"
      ]
     },
     "execution_count": 10,
     "metadata": {},
     "output_type": "execute_result"
    }
   ],
   "source": [
    "l = [4, 6, 2, 20, 9, 5]\n",
    "(l)[::-1]"
   ]
  },
  {
   "cell_type": "code",
   "execution_count": 7,
   "metadata": {},
   "outputs": [
    {
     "name": "stdout",
     "output_type": "stream",
     "text": [
      "[20, 2, 4, 5, 6, 9]\n"
     ]
    }
   ],
   "source": [
    "l = [4, 6, 2, 20, 9, 5]\n",
    "l.sort(key = lambda x : (str(x)[::-1]))\n",
    "print(l)"
   ]
  },
  {
   "cell_type": "code",
   "execution_count": 3,
   "metadata": {
    "scrolled": true
   },
   "outputs": [
    {
     "name": "stdout",
     "output_type": "stream",
     "text": [
      "[0, 'a', 'b', 'c', 'd', 'e', 'f', 'g', 'h', 'i', 'j', 'k', 'l', 'm', 'n', 'o', 'p', 'q', 'r', 's', 't', 'u', 'v', 'w', 'x', 'y', 'z']\n",
      "['a', 0, 0, 0, 0, 0, 0, 0, 0, 0, 0, 0, 0, 0, 0, 0, 0, 0, 0, 0, 0, 0, 0, 0, 0, 0, 0]\n",
      "['b', 0, 0, 0, 0, 0, 0, 0, 0, 0, 0, 0, 0, 0, 0, 0, 0, 0, 0, 0, 0, 0, 0, 0, 0, 0, 0]\n",
      "['c', 0, 0, 0, 0, 0, 0, 0, 0, 0, 0, 0, 0, 0, 0, 0, 0, 0, 0, 0, 0, 0, 0, 0, 0, 0, 0]\n",
      "['d', 0, 0, 0, 0, 0, 0, 0, 0, 0, 0, 0, 0, 0, 0, 0, 0, 0, 0, 0, 0, 0, 0, 0, 0, 0, 0]\n",
      "['e', 0, 0, 0, 0, 0, 0, 0, 0, 0, 0, 0, 0, 0, 0, 0, 0, 0, 0, 0, 0, 0, 0, 0, 0, 0, 0]\n",
      "['f', 0, 0, 0, 0, 0, 0, 0, 0, 0, 0, 0, 0, 0, 0, 0, 0, 0, 0, 0, 0, 0, 0, 0, 0, 0, 0]\n",
      "['g', 0, 0, 0, 0, 0, 0, 0, 0, 0, 0, 0, 0, 0, 0, 0, 0, 0, 0, 0, 0, 0, 0, 0, 0, 0, 0]\n",
      "['h', 0, 0, 0, 0, 0, 0, 0, 0, 0, 0, 0, 0, 0, 0, 0, 0, 0, 0, 0, 0, 0, 0, 0, 0, 0, 0]\n",
      "['i', 0, 0, 0, 0, 0, 0, 0, 0, 0, 0, 0, 0, 0, 0, 0, 0, 0, 0, 0, 0, 0, 0, 0, 0, 0, 0]\n",
      "['j', 0, 0, 0, 0, 0, 0, 0, 0, 0, 0, 0, 0, 0, 0, 0, 0, 0, 0, 0, 0, 0, 0, 0, 0, 0, 0]\n",
      "['k', 0, 0, 0, 0, 0, 0, 0, 0, 0, 0, 0, 0, 0, 0, 0, 0, 0, 0, 0, 0, 0, 0, 0, 0, 0, 0]\n",
      "['l', 0, 0, 0, 0, 0, 0, 0, 0, 0, 0, 0, 0, 0, 0, 0, 0, 0, 0, 0, 0, 0, 0, 0, 0, 0, 0]\n",
      "['m', 0, 0, 0, 0, 0, 0, 0, 0, 0, 0, 0, 0, 0, 0, 0, 0, 0, 0, 0, 0, 0, 0, 0, 0, 0, 0]\n",
      "['n', 0, 0, 0, 0, 0, 0, 0, 0, 0, 0, 0, 0, 0, 0, 0, 0, 0, 0, 0, 0, 0, 0, 0, 0, 0, 0]\n",
      "['o', 0, 0, 0, 0, 0, 0, 0, 0, 0, 0, 0, 0, 0, 0, 0, 0, 0, 0, 0, 0, 0, 0, 0, 0, 0, 0]\n",
      "['p', 0, 0, 0, 0, 0, 0, 0, 0, 0, 0, 0, 0, 0, 0, 0, 0, 0, 0, 0, 0, 0, 0, 0, 0, 0, 0]\n",
      "['q', 0, 0, 0, 0, 0, 0, 0, 0, 0, 0, 0, 0, 0, 0, 0, 0, 0, 0, 0, 0, 0, 0, 0, 0, 0, 0]\n",
      "['r', 0, 0, 0, 0, 0, 0, 0, 0, 0, 0, 0, 0, 0, 0, 0, 0, 0, 0, 0, 0, 0, 0, 0, 0, 0, 0]\n",
      "['s', 0, 0, 0, 0, 0, 0, 0, 0, 0, 0, 0, 0, 0, 0, 0, 0, 0, 0, 0, 0, 0, 0, 0, 0, 0, 0]\n",
      "['t', 0, 0, 0, 0, 0, 0, 0, 0, 0, 0, 0, 0, 0, 0, 0, 0, 0, 0, 0, 0, 0, 0, 0, 0, 0, 0]\n",
      "['u', 0, 0, 0, 0, 0, 0, 0, 0, 0, 0, 0, 0, 0, 0, 0, 0, 0, 0, 0, 0, 0, 0, 0, 0, 0, 0]\n",
      "['v', 0, 0, 0, 0, 0, 0, 0, 0, 0, 0, 0, 0, 0, 0, 0, 0, 0, 0, 0, 0, 0, 0, 0, 0, 0, 0]\n",
      "['w', 0, 0, 0, 0, 0, 0, 0, 0, 0, 0, 0, 0, 0, 0, 0, 0, 0, 0, 0, 0, 0, 0, 0, 0, 0, 0]\n",
      "['x', 0, 0, 0, 0, 0, 0, 0, 0, 0, 0, 0, 0, 0, 0, 0, 0, 0, 0, 0, 0, 0, 0, 0, 0, 0, 0]\n",
      "['y', 0, 0, 0, 0, 0, 0, 0, 0, 0, 0, 0, 0, 0, 0, 0, 0, 0, 0, 0, 0, 0, 0, 0, 0, 0, 0]\n",
      "['z', 0, 0, 0, 0, 0, 0, 0, 0, 0, 0, 0, 0, 0, 0, 0, 0, 0, 0, 0, 0, 0, 0, 0, 0, 0, 0]\n",
      "[0, 'a', 'b', 'c', 'd', 'e', 'f', 'g', 'h', 'i', 'j', 'k', 'l', 'm', 'n', 'o', 'p', 'q', 'r', 's', 't', 'u', 'v', 'w', 'x', 'y', 'z']\n",
      "['a', 0, 0, 0, 0, 0, 0, 1, 0, 0, 0, 0, 1, 0, 1, 0, 1, 0, 3, 1, 1, 0, 0, 0, 0, 0, 0]\n",
      "['b', 0, 0, 0, 0, 0, 0, 0, 0, 0, 0, 0, 0, 0, 0, 1, 0, 0, 0, 0, 0, 0, 0, 0, 0, 0, 0]\n",
      "['c', 2, 0, 0, 0, 1, 0, 0, 0, 0, 0, 0, 0, 0, 0, 0, 0, 0, 0, 0, 0, 0, 0, 0, 0, 0, 0]\n",
      "['d', 0, 0, 0, 0, 0, 0, 0, 0, 0, 0, 0, 0, 0, 0, 0, 0, 0, 0, 0, 0, 0, 0, 0, 0, 0, 0]\n",
      "['e', 0, 0, 1, 0, 0, 0, 0, 0, 0, 0, 0, 1, 0, 0, 0, 0, 0, 0, 0, 0, 0, 0, 0, 0, 0, 0]\n",
      "['f', 0, 0, 0, 0, 0, 0, 0, 0, 0, 0, 0, 0, 0, 0, 0, 0, 0, 0, 0, 0, 0, 0, 0, 0, 0, 0]\n",
      "['g', 1, 0, 0, 0, 0, 0, 0, 0, 0, 0, 0, 0, 0, 0, 0, 0, 0, 0, 0, 0, 0, 0, 0, 0, 0, 0]\n",
      "['h', 0, 0, 0, 0, 0, 0, 0, 0, 0, 0, 0, 0, 0, 0, 0, 0, 0, 0, 0, 0, 0, 0, 0, 0, 0, 0]\n",
      "['i', 0, 0, 1, 0, 0, 0, 0, 0, 0, 0, 0, 0, 0, 0, 0, 0, 0, 0, 1, 0, 0, 0, 0, 0, 0, 0]\n",
      "['j', 0, 0, 0, 0, 0, 0, 0, 0, 0, 0, 0, 0, 0, 0, 0, 0, 0, 0, 0, 0, 0, 0, 0, 0, 0, 0]\n",
      "['k', 0, 0, 0, 0, 0, 0, 0, 0, 0, 0, 0, 0, 0, 0, 0, 0, 0, 0, 0, 0, 0, 0, 0, 0, 0, 0]\n",
      "['l', 1, 0, 0, 0, 0, 0, 0, 0, 0, 0, 0, 0, 0, 0, 1, 0, 0, 0, 0, 0, 0, 0, 0, 0, 0, 0]\n",
      "['m', 0, 0, 0, 0, 0, 0, 0, 0, 0, 0, 0, 0, 0, 0, 0, 0, 0, 0, 0, 0, 0, 0, 0, 0, 0, 0]\n",
      "['n', 0, 0, 0, 0, 0, 0, 0, 0, 0, 0, 0, 0, 0, 0, 0, 0, 0, 0, 0, 0, 0, 0, 0, 0, 0, 0]\n",
      "['o', 1, 0, 0, 0, 0, 0, 0, 0, 0, 0, 0, 1, 0, 0, 0, 1, 0, 0, 0, 0, 0, 1, 0, 0, 0, 0]\n",
      "['p', 4, 0, 0, 0, 0, 0, 0, 0, 1, 0, 0, 0, 0, 0, 0, 0, 0, 0, 0, 0, 0, 0, 0, 0, 0, 0]\n",
      "['q', 0, 0, 0, 0, 0, 0, 0, 0, 0, 0, 0, 0, 0, 0, 0, 0, 0, 0, 0, 0, 0, 0, 0, 0, 0, 0]\n",
      "['r', 0, 0, 0, 0, 2, 0, 0, 0, 0, 0, 0, 1, 0, 0, 0, 0, 0, 0, 0, 0, 0, 0, 0, 0, 0, 0]\n",
      "['s', 1, 0, 0, 0, 0, 0, 0, 0, 1, 0, 0, 0, 0, 0, 2, 0, 0, 0, 0, 0, 0, 0, 0, 0, 0, 0]\n",
      "['t', 0, 0, 0, 0, 1, 0, 0, 0, 0, 0, 0, 0, 0, 0, 0, 0, 0, 0, 0, 0, 0, 0, 0, 0, 0, 0]\n",
      "['u', 0, 0, 0, 0, 0, 0, 0, 0, 0, 0, 0, 0, 0, 0, 0, 0, 0, 0, 0, 0, 0, 0, 0, 0, 0, 0]\n",
      "['v', 1, 0, 0, 0, 0, 0, 0, 0, 0, 0, 0, 0, 0, 0, 0, 0, 0, 0, 0, 0, 0, 0, 0, 0, 0, 0]\n",
      "['w', 0, 0, 0, 0, 0, 0, 0, 0, 0, 0, 0, 0, 0, 0, 0, 0, 0, 0, 0, 0, 0, 0, 0, 0, 0, 0]\n",
      "['x', 0, 0, 0, 0, 0, 0, 0, 0, 0, 0, 0, 0, 0, 0, 0, 0, 0, 0, 0, 0, 0, 0, 0, 0, 0, 0]\n",
      "['y', 0, 0, 0, 0, 0, 0, 0, 0, 0, 0, 0, 0, 0, 0, 0, 0, 0, 0, 0, 0, 0, 0, 0, 0, 0, 0]\n",
      "['z', 0, 0, 0, 0, 0, 0, 0, 0, 0, 0, 0, 0, 0, 0, 0, 0, 0, 0, 0, 0, 0, 0, 0, 0, 0, 0]\n",
      "[0, 'a', 'b', 'c', 'd', 'e', 'f', 'g', 'h', 'i', 'j', 'k', 'l', 'm', 'n', 'o', 'p', 'q', 'r', 's', 't', 'u', 'v', 'w', 'x', 'y', 'z']\n",
      "['a', 0, 0, 0, 0, 0, 0, 1, 0, 0, 0, 0, 1, 0, 1, 0, 1, 0, 3, 1, 1, 0, 0, 0, 0, 0, 0]\n",
      "['b', 0, 0, 0, 0, 0, 0, 0, 0, 0, 0, 0, 0, 0, 0, 1, 0, 0, 0, 0, 0, 0, 0, 0, 0, 0, 0]\n",
      "['c', 2, 0, 0, 0, 1, 0, 0, 0, 0, 0, 0, 0, 0, 0, 0, 0, 0, 0, 0, 0, 0, 0, 0, 0, 0, 0]\n",
      "['e', 0, 0, 1, 0, 0, 0, 0, 0, 0, 0, 0, 1, 0, 0, 0, 0, 0, 0, 0, 0, 0, 0, 0, 0, 0, 0]\n",
      "['g', 1, 0, 0, 0, 0, 0, 0, 0, 0, 0, 0, 0, 0, 0, 0, 0, 0, 0, 0, 0, 0, 0, 0, 0, 0, 0]\n",
      "['i', 0, 0, 1, 0, 0, 0, 0, 0, 0, 0, 0, 0, 0, 0, 0, 0, 0, 0, 1, 0, 0, 0, 0, 0, 0, 0]\n",
      "['l', 1, 0, 0, 0, 0, 0, 0, 0, 0, 0, 0, 0, 0, 0, 1, 0, 0, 0, 0, 0, 0, 0, 0, 0, 0, 0]\n",
      "['o', 1, 0, 0, 0, 0, 0, 0, 0, 0, 0, 0, 1, 0, 0, 0, 1, 0, 0, 0, 0, 0, 1, 0, 0, 0, 0]\n",
      "['p', 4, 0, 0, 0, 0, 0, 0, 0, 1, 0, 0, 0, 0, 0, 0, 0, 0, 0, 0, 0, 0, 0, 0, 0, 0, 0]\n",
      "['r', 0, 0, 0, 0, 2, 0, 0, 0, 0, 0, 0, 1, 0, 0, 0, 0, 0, 0, 0, 0, 0, 0, 0, 0, 0, 0]\n",
      "['s', 1, 0, 0, 0, 0, 0, 0, 0, 1, 0, 0, 0, 0, 0, 2, 0, 0, 0, 0, 0, 0, 0, 0, 0, 0, 0]\n",
      "['t', 0, 0, 0, 0, 1, 0, 0, 0, 0, 0, 0, 0, 0, 0, 0, 0, 0, 0, 0, 0, 0, 0, 0, 0, 0, 0]\n",
      "['v', 1, 0, 0, 0, 0, 0, 0, 0, 0, 0, 0, 0, 0, 0, 0, 0, 0, 0, 0, 0, 0, 0, 0, 0, 0, 0]\n",
      "[0, 'a', 'b', 'c', 'd', 'e', 'f', 'g', 'h', 'i', 'j', 'k', 'l', 'm', 'n', 'o', 'p', 'q', 'r', 's', 't', 'u', 'v', 'w', 'x', 'y', 'z']\n",
      "['a', 0, 0, 0, 1, 0, 1, 1, 0, 1, 3, 1, 1, 0]\n",
      "['b', 0, 0, 0, 0, 0, 0, 0, 1, 0, 0, 0, 0, 0]\n",
      "['c', 2, 0, 1, 0, 0, 0, 0, 0, 0, 0, 0, 0, 0]\n",
      "['e', 0, 1, 0, 0, 0, 1, 0, 0, 0, 0, 0, 0, 0]\n",
      "['g', 1, 0, 0, 0, 0, 0, 0, 0, 0, 0, 0, 0, 0]\n",
      "['i', 0, 1, 0, 0, 0, 0, 0, 0, 0, 0, 1, 0, 0]\n",
      "['l', 1, 0, 0, 0, 0, 0, 0, 1, 0, 0, 0, 0, 0]\n",
      "['o', 1, 0, 0, 0, 0, 1, 0, 0, 1, 0, 0, 0, 1]\n",
      "['p', 4, 0, 0, 0, 1, 0, 0, 0, 0, 0, 0, 0, 0]\n",
      "['r', 0, 0, 2, 0, 0, 1, 0, 0, 0, 0, 0, 0, 0]\n",
      "['s', 1, 0, 0, 0, 1, 0, 0, 2, 0, 0, 0, 0, 0]\n",
      "['t', 0, 0, 1, 0, 0, 0, 0, 0, 0, 0, 0, 0, 0]\n",
      "['v', 1, 0, 0, 0, 0, 0, 0, 0, 0, 0, 0, 0, 0]\n"
     ]
    }
   ],
   "source": [
    "#3\n",
    "l = [\"papagal\", \"pisica\", \"soarece\", \"bolovan\", \"soparla\", \"catel\", \"pasare\"]\n",
    "#a\n",
    "def gen_matrice():\n",
    "    L =  [[0] + [chr(x) for x in range(ord('a'), ord('z') + 1)]]\n",
    "    L += [[chr(y)] + [0] * 26 for y in range(ord('a'), ord('z') + 1)]\n",
    "    return L\n",
    "\n",
    "mat = gen_matrice()\n",
    "print(*mat, sep='\\n')\n",
    "\n",
    "#b\n",
    "def completeaza_matrice(l, m):\n",
    "    for word in l:\n",
    "        for j in range(len(word) - 1):\n",
    "            m[ord(word[j]) - ord('a') + 1][ord(word[j+1]) - ord('a') + 1] += 1\n",
    "    return m\n",
    "completeaza_matrice(l, mat)\n",
    "print(*mat, sep='\\n')\n",
    "\n",
    "#c\n",
    "length = len(mat)\n",
    "for i in range(length - 1, 0, -1):\n",
    "    if sum(mat[i][1:]) == 0:\n",
    "        mat.remove(mat[i])\n",
    "print(*mat, sep='\\n')\n",
    "\n",
    "no_cols = len(mat[0])\n",
    "no_rows = len(mat)\n",
    "\n",
    "for i in range(no_cols - 1, 0, -1):\n",
    "    sum_ = 0\n",
    "    for j in range(1, no_rows):\n",
    "        sum_ += mat[j][i]\n",
    "    if not sum_:\n",
    "        for j in range(1, no_rows):\n",
    "            mat[j].pop(i)\n",
    "            \n",
    "print(*mat, sep='\\n')\n",
    "\n",
    "#d \n",
    "N = 2\n",
    "no_cols = len(mat[0])\n",
    "no_rows = len(mat)\n",
    "for i in range(no_rows - 1):\n",
    "    for j in range(no_cols - 1):\n",
    "        print(mat[i][j])"
   ]
  },
  {
   "cell_type": "code",
   "execution_count": 17,
   "metadata": {},
   "outputs": [
    {
     "name": "stdout",
     "output_type": "stream",
     "text": [
      "{'haha': 3, 'poc': 4, 'hei': 2, 'hey': 1}\n"
     ]
    }
   ],
   "source": [
    "#4\n",
    "l = [\"haha\", \"poc\", \"Poc\", \"POC\", \"haHA\", \"hei\", \"hey\", \"HahA\", \"poc\", \"Hei\"]\n",
    "for word in l:\n",
    "    l[l.index(word)] = word.lower()\n",
    "d = {}\n",
    "for word in l:\n",
    "    if word in d:\n",
    "        d[word] += 1\n",
    "    else:\n",
    "        d[word] = 1\n",
    "print(d)"
   ]
  },
  {
   "cell_type": "code",
   "execution_count": 29,
   "metadata": {
    "collapsed": true
   },
   "outputs": [
    {
     "name": "stdout",
     "output_type": "stream",
     "text": [
      "{'b': ['bau-bau', 'bobocel', 'botosel', 'bob', 'bocceluta'], 'a': ['bau-bau', 'ham', '-hau', 'bocceluta'], 'u': ['bau-bau', '-hau', 'bocceluta'], '-': ['bau-bau', '-hau'], 'o': ['bobocel', 'botosel', 'bob', 'bocceluta'], 'c': ['bobocel', '14 pisici', '1pitic', 'pisicel', 'bocceluta'], 'e': ['bobocel', 'pisicel', 'botosel', 'bocceluta'], 'l': ['bobocel', 'pisicel', 'botosel', 'bocceluta'], '1': ['14 pisici', '1pitic', '414'], '4': ['14 pisici', '414'], ' ': ['14 pisici'], 'p': ['14 pisici', '1pitic', 'pisicel'], 'i': ['14 pisici', '1pitic', 'pisicel'], 's': ['14 pisici', 'pisicel', 'botosel'], 't': ['1pitic', 'botosel', 'bocceluta'], 'h': ['ham', '-hau'], 'm': ['ham']}\n",
      "{'b': ['bau-bau', 'bobocel', 'botosel', 'bob', 'bocceluta'], 'a': ['bau-bau', 'ham', '-hau', 'bocceluta'], 'u': ['bau-bau', '-hau', 'bocceluta'], '-': ['bau-bau', '-hau'], 'o': ['bobocel', 'botosel', 'bob', 'bocceluta'], 'c': ['bobocel', '14 pisici', '1pitic', 'pisicel', 'bocceluta'], 'e': ['bobocel', 'pisicel', 'botosel', 'bocceluta'], 'l': ['bobocel', 'pisicel', 'botosel', 'bocceluta'], '1': ['14 pisici', '1pitic', '414'], '4': ['14 pisici', '414'], ' ': ['14 pisici'], 'p': ['14 pisici', '1pitic', 'pisicel'], 'i': ['14 pisici', '1pitic', 'pisicel'], 's': ['14 pisici', 'pisicel', 'botosel'], 't': ['1pitic', 'botosel', 'bocceluta'], 'h': ['ham', '-hau'], 'm': ['ham']}\n",
      "{'b': ['bau-bau', 'bobocel', 'botosel', 'bob', 'bocceluta'], 'a': ['bau-bau', 'ham', '-hau', 'bocceluta'], 'u': ['bau-bau', '-hau', 'bocceluta'], 'o': ['bobocel', 'botosel', 'bob', 'bocceluta'], 'c': ['bobocel', '14 pisici', '1pitic', 'pisicel', 'bocceluta'], 'e': ['bobocel', 'pisicel', 'botosel', 'bocceluta'], 'l': ['bobocel', 'pisicel', 'botosel', 'bocceluta'], '1': ['14 pisici', '1pitic', '414'], '4': ['14 pisici', '414'], 'p': ['14 pisici', '1pitic', 'pisicel'], 'i': ['14 pisici', '1pitic', 'pisicel'], 's': ['14 pisici', 'pisicel', 'botosel'], 't': ['1pitic', 'botosel', 'bocceluta'], 'h': ['ham', '-hau'], 'm': ['ham']}\n",
      "Au mai ramas 15 chei\n",
      "litera b este de tipul mediu\n",
      "litera b este de tipul mediu\n",
      "litera b este de tipul mediu\n",
      "litera b este de tipul mic\n",
      "litera b este de tipul mare\n",
      "litera a este de tipul mediu\n",
      "litera a este de tipul mic\n",
      "litera a este de tipul mediu\n",
      "litera a este de tipul mare\n",
      "litera u este de tipul mediu\n",
      "litera u este de tipul mediu\n",
      "litera u este de tipul mare\n",
      "litera o este de tipul mediu\n",
      "litera o este de tipul mediu\n",
      "litera o este de tipul mic\n",
      "litera o este de tipul mare\n",
      "litera c este de tipul mediu\n",
      "litera c este de tipul mare\n",
      "litera c este de tipul mediu\n",
      "litera c este de tipul mediu\n",
      "litera c este de tipul mare\n",
      "litera e este de tipul mediu\n",
      "litera e este de tipul mediu\n",
      "litera e este de tipul mediu\n",
      "litera e este de tipul mare\n",
      "litera l este de tipul mediu\n",
      "litera l este de tipul mediu\n",
      "litera l este de tipul mediu\n",
      "litera l este de tipul mare\n",
      "litera 1 este de tipul mare\n",
      "litera 1 este de tipul mediu\n",
      "litera 1 este de tipul mic\n",
      "litera 4 este de tipul mare\n",
      "litera 4 este de tipul mic\n",
      "litera p este de tipul mare\n",
      "litera p este de tipul mediu\n",
      "litera p este de tipul mediu\n",
      "litera i este de tipul mare\n",
      "litera i este de tipul mediu\n",
      "litera i este de tipul mediu\n",
      "litera s este de tipul mare\n",
      "litera s este de tipul mediu\n",
      "litera s este de tipul mediu\n",
      "litera t este de tipul mediu\n",
      "litera t este de tipul mediu\n",
      "litera t este de tipul mare\n",
      "litera h este de tipul mic\n",
      "litera h este de tipul mediu\n",
      "litera m este de tipul mic\n"
     ]
    }
   ],
   "source": [
    "#5\n",
    "l = [\"bau-bau\", \"bobocel\", \"14 pisici\", \"1pitic\", \"pisicel\", \"botosel\", \"414\", \"ham\", \"-hau\", \"bob\", \"bocceluta\"]\n",
    "\n",
    "#a\n",
    "D = {}\n",
    "D[(1,4)] = \"mic\"\n",
    "D[(4, 8)] = \"mediu\"\n",
    "D[(8, 15)] = \"mare\"\n",
    "\n",
    "print(d)\n",
    "\n",
    "#b\n",
    "d = {}\n",
    "for word in l:\n",
    "    for char in word:\n",
    "        if char not in d:\n",
    "            d[char] = [word]\n",
    "        else:\n",
    "            if word not in d[char]:\n",
    "                d[char].append(word)\n",
    "                \n",
    "print(d)\n",
    "\n",
    "# c\n",
    "new_dict = {key : val for key, val in d.items() if key.isalnum() == True} \n",
    "print(new_dict)\n",
    "\n",
    "#d \n",
    "print(f\"Au mai ramas {len(new_dict.keys())} chei\")\n",
    "\n",
    "#e\n",
    "for item in new_dict.items():\n",
    "    for word in item[1]: #pt fiecare cuvant din lista de valori\n",
    "        for keys in D.items():\n",
    "            if(len(word) >= keys[0][0] and len(word) < keys[0][1]):\n",
    "                print(f\"litera {item[0]} este de tipul {keys[1]}\")\n"
   ]
  },
  {
   "cell_type": "code",
   "execution_count": 3,
   "metadata": {},
   "outputs": [
    {
     "name": "stdout",
     "output_type": "stream",
     "text": [
      "[0, 1, 2, 3]\n",
      "[1, 2, 3, 4]\n",
      "[2, 3, 4, 5]\n",
      "[3, 4, 5, 6]\n",
      "[[], [], [2, 3, 4, 5], [3, 4, 5, 6]]\n",
      "['<', '<', '<', '<']\n",
      "['>', '>', '>', '<']\n",
      "['==', '<', '<', '<']\n"
     ]
    }
   ],
   "source": [
    "#6\n",
    "#a\n",
    "def genMat(n):\n",
    "    return [[i+j for j in range(n)] for i in range(n)]\n",
    "\n",
    "print(*genMat(4), sep = \"\\n\")\n",
    "\n",
    "#b\n",
    "def func(m, n):\n",
    "    length = len(m)\n",
    "    return [[m[i][j] for j in range(length) if sum(m[i]) > n] for i in range(length) ]\n",
    "#     return [[m[i][j] if sum(m[i]) > n else 0 for j in range(length)] for i in range(length) ]\n",
    "\n",
    "print(func(genMat(4), 10))\n",
    "\n",
    "#c\n",
    "def func2(l1, l2):\n",
    "    rows = len(l1)\n",
    "    cols = len(l2)\n",
    "    return [[\"<\" if l1[i] < l2[j] else \"==\" if l1[i] == l2[j] else \">\" for j in range(cols)] for i in range (rows)]\n",
    "    \n",
    "l1 = [2, 8, 3]\n",
    "l2 = [3, 7, 5, 21] \n",
    "print(*func2(l1, l2), sep = \"\\n\")"
   ]
  },
  {
   "cell_type": "code",
   "execution_count": 51,
   "metadata": {},
   "outputs": [
    {
     "data": {
      "text/plain": [
       "[[0, 0, 0, 0], [0, 0, 0, 0], [2, 3, 4, 5], [3, 4, 5, 6]]"
      ]
     },
     "execution_count": 51,
     "metadata": {},
     "output_type": "execute_result"
    }
   ],
   "source": [
    "# def func(m, n):\n",
    "#     length = len(m)\n",
    "#     return [[m[i][j] if sum(m[i]) > n else 0 for j in range(length)] for i in range(length)]\n",
    "\n",
    "# func(genMat(4), 10)"
   ]
  },
  {
   "cell_type": "code",
   "execution_count": null,
   "metadata": {},
   "outputs": [],
   "source": []
  }
 ],
 "metadata": {
  "kernelspec": {
   "display_name": "Python 3",
   "language": "python",
   "name": "python3"
  },
  "language_info": {
   "codemirror_mode": {
    "name": "ipython",
    "version": 3
   },
   "file_extension": ".py",
   "mimetype": "text/x-python",
   "name": "python",
   "nbconvert_exporter": "python",
   "pygments_lexer": "ipython3",
   "version": "3.7.4"
  }
 },
 "nbformat": 4,
 "nbformat_minor": 4
}
