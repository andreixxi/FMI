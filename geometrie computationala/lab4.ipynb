{
 "cells": [
  {
   "cell_type": "code",
   "execution_count": 34,
   "metadata": {},
   "outputs": [
    {
     "name": "stdout",
     "output_type": "stream",
     "text": [
      "convex\n",
      "0.0 0.0\n",
      "1.5707963267948966 1.5707963267948966\n",
      "90.0 90.0\n",
      "A4 apartine cercului\n"
     ]
    }
   ],
   "source": [
    "import math\n",
    "\n",
    "def determinant(x, y, z):\n",
    "    return x[0]*y[1] + y[0]*z[1] +z[0]*x[1] - y[1]*z[0] - z[1]*x[0] - x[1]*y[0]\n",
    "\n",
    "def produs_scalar(x, y):\n",
    "    \"\"\"produs scalar pt 2 puncte\"\"\"\n",
    "    return x[0]*y[0] + x[1]*y[1] \n",
    "\n",
    "def vector(x, y):\n",
    "    \"\"\"vectorul a 2 puncte\"\"\"\n",
    "    return (x[0]-y[0], x[1]-y[1])\n",
    "\n",
    "def modul(v):\n",
    "    \"\"\"modulul unui vector\"\"\"\n",
    "    return math.sqrt(v[0]*v[0] + v[1]*v[1])\n",
    "\n",
    "def cosinus(v1, v2):\n",
    "    \"\"\"cosinusul a 2 vectori\"\"\"\n",
    "    return (produs_scalar(v1, v2) / (modul(v1) * modul(v2))) \n",
    "    \n",
    "a = [(0,0), (0, 1), (1,1), (1,0)] #convex\n",
    "# a = [(0, 0),(2, 2), (1, 1),(3, 3)] #concav\n",
    "\n",
    "det021 = determinant(a[0], a[2], a[1])\n",
    "det023 = determinant(a[0], a[2], a[3])\n",
    "det130 = determinant(a[1], a[3], a[0])\n",
    "det132 = determinant(a[1], a[3], a[2])\n",
    "\n",
    "convex = 1\n",
    "if not((det021>0 and det023<0) or (det021<0 and det023>0)):\n",
    "    convex = 0\n",
    "if not((det130>0 and det132<0) or (det130<0 and det132>0)):\n",
    "    convex = 0\n",
    "    \n",
    "if convex == 0:\n",
    "    print(\"nu este convex\")\n",
    "else:\n",
    "    print(\"convex\")\n",
    "    v1 = vector(a[1], a[0]) #a2a1\n",
    "    v2 = vector(a[1], a[2]) #a2a3\n",
    "    v3 = vector(a[3], a[0]) #a4a1\n",
    "    v4 = vector(a[3], a[2]) #a4a3\n",
    "    \n",
    "    #cosinus unghi2 unghi4\n",
    "    unghi2 = cosinus(v1, v2)\n",
    "    unghi4 = cosinus(v3, v4)\n",
    "    print(unghi2, unghi4)\n",
    "    \n",
    "    #radiani\n",
    "    unghi2 = math.acos(unghi2)\n",
    "    unghi4 = math.acos(unghi4)\n",
    "    print(unghi2, unghi4)\n",
    "    \n",
    "    #grade\n",
    "    unghi2 = unghi2 * 180 / math.pi\n",
    "    unghi4 = unghi4 * 180 / math.pi\n",
    "    print(unghi2, unghi4)\n",
    "    if unghi2 + unghi4 == math.degrees(math.pi):\n",
    "        print(\"A4 apartine cercului\")\n",
    "    elif unghi2 + unghi4 > math.degrees(math.pi):\n",
    "        print(\"A4 apartine interiorului cercului\")\n",
    "    else:\n",
    "        print(\"A4 nu apartine cercului\")"
   ]
  },
  {
   "cell_type": "code",
   "execution_count": null,
   "metadata": {},
   "outputs": [],
   "source": []
  },
  {
   "cell_type": "code",
   "execution_count": 27,
   "metadata": {},
   "outputs": [
    {
     "name": "stdout",
     "output_type": "stream",
     "text": [
      "Convex Da\n",
      "\n",
      "0.0\n",
      "A2 90\n",
      "\n",
      "0.0\n",
      "A4 90\n",
      "\n",
      "A4 apartine cercului circumscris\n"
     ]
    }
   ],
   "source": [
    "def Determinant(x,y,z):\n",
    "    return x[0]*(y[1]-z[1])+y[0]*(z[1]-x[1])+z[0]*(x[1]-y[1])\n",
    "\n",
    "def ProdScalar(a,b):\n",
    "    return a[0]*b[0]+a[1]*b[1]\n",
    "\n",
    "def vector(p1,p2):\n",
    "    a=p1[0]-p2[0]\n",
    "    b=p1[1]-p2[1]\n",
    "    return (a,b)\n",
    "\n",
    "from math import sqrt,acos\n",
    "import math\n",
    "\n",
    "def modul(v1):\n",
    "    return sqrt(v1[0]*v1[0]+v1[1]*v1[1])\n",
    "\n",
    "def Cos(v1,v2):\n",
    "    PS=ProdScalar(v1,v2)\n",
    "    m1=modul(v1)\n",
    "    m2=modul(v2)\n",
    "    return PS/(m1*m2)\n",
    "\n",
    "\n",
    "points=[(0,0),(0,1),(1,1),(1,0)]\n",
    "#points=[(0,0),(2,2),(1,1),(3,3)]\n",
    "det021=Determinant(points[0],points[2],points[1])\n",
    "det023=Determinant(points[0],points[2],points[3])\n",
    "det031=Determinant(points[1],points[3],points[0])\n",
    "det032=Determinant(points[1],points[3],points[2])\n",
    "convx=1\n",
    "if not((det021>0 and det023<0) or (det021<0 and det023>0)):\n",
    "    convx=0\n",
    "if not((det031>0 and det032<0) or (det031<0 and det032>0)):\n",
    "    convx=0\n",
    "\n",
    "if convx:\n",
    "    print(\"Convex Da\\n\")\n",
    "else:\n",
    "    print(\"Convex NU\\n\")\n",
    "\n",
    "if convx:\n",
    "    cosA2=Cos(vector(points[1],points[0]),vector(points[1],points[2]))\n",
    "    print(cosA2)\n",
    "    A2=acos(cosA2)\n",
    "    A2=A2*180/math.pi\n",
    "    print(\"A2 %d\\n\" %A2)\n",
    "\n",
    "    cosA4=Cos(vector(points[3],points[0]),vector(points[3],points[2]))\n",
    "    print(cosA4)\n",
    "    A4=acos(cosA4)\n",
    "    A4=A4*180/math.pi\n",
    "    print(\"A4 %d\\n\" %A4)\n",
    "\n",
    "    if A2+A4==180:\n",
    "        print(\"A4 apartine cercului circumscris\")\n",
    "    elif A2+A4>180:\n",
    "        print(\"A4 apartine interiorului cercului circumscris\")\n",
    "    else:\n",
    "        print(\"A4 nu apartine cercului circumscris\")"
   ]
  },
  {
   "cell_type": "code",
   "execution_count": 33,
   "metadata": {},
   "outputs": [
    {
     "data": {
      "text/plain": [
       "180.0"
      ]
     },
     "execution_count": 33,
     "metadata": {},
     "output_type": "execute_result"
    }
   ],
   "source": [
    "math.degrees(math.pi)"
   ]
  },
  {
   "cell_type": "code",
   "execution_count": 36,
   "metadata": {},
   "outputs": [
    {
     "data": {
      "text/plain": [
       "-90"
      ]
     },
     "execution_count": 36,
     "metadata": {},
     "output_type": "execute_result"
    }
   ],
   "source": [
    "270-360"
   ]
  },
  {
   "cell_type": "code",
   "execution_count": null,
   "metadata": {
    "collapsed": true
   },
   "outputs": [],
   "source": []
  }
 ],
 "metadata": {
  "kernelspec": {
   "display_name": "Python 3",
   "language": "python",
   "name": "python3"
  },
  "language_info": {
   "codemirror_mode": {
    "name": "ipython",
    "version": 3
   },
   "file_extension": ".py",
   "mimetype": "text/x-python",
   "name": "python",
   "nbconvert_exporter": "python",
   "pygments_lexer": "ipython3",
   "version": "3.7.3"
  }
 },
 "nbformat": 4,
 "nbformat_minor": 2
}
