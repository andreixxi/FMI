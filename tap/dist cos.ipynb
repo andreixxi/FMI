{
 "cells": [
  {
   "cell_type": "code",
   "execution_count": 61,
   "metadata": {},
   "outputs": [],
   "source": [
    "from math import sqrt\n",
    "import re\n",
    "\n",
    "f1 = 'primul   laborator.. primul. exercitiu'\n",
    "f2 = 'primul ,,,exercitiu usor,    '\n",
    "\n",
    "f1 = re.split(r'\\W+', f1)\n",
    "f1 = [w for w in f1 if w] #stergere \"\"\n",
    "f2 = re.split(r'\\W+', f2)\n",
    "f2 = [w for w in f2 if w] #stergere \"\"\n",
    "f = f1 + f2 #concatenare siruri"
   ]
  },
  {
   "cell_type": "code",
   "execution_count": 62,
   "metadata": {},
   "outputs": [],
   "source": [
    "d = {}\n",
    "for w in f:\n",
    "        d[w] = (0, 0) #valoarea i coresp sirului i\n",
    "for w in f1:#parcurg sir1\n",
    "        d[w] = (d[w][0]+1, d[w][1]) #cresc prima valoare\n",
    "for w in f2:#parcurg sir2\n",
    "        d[w] = (d[w][0], d[w][1]+1) #cresc a 2a valoare"
   ]
  },
  {
   "cell_type": "code",
   "execution_count": 63,
   "metadata": {},
   "outputs": [
    {
     "data": {
      "text/plain": [
       "(3, 6, 3, 0.7071067811865476)"
      ]
     },
     "execution_count": 63,
     "metadata": {},
     "output_type": "execute_result"
    }
   ],
   "source": [
    "sum0 = sum1 = sum2 = 0\n",
    "for i in d.items():\n",
    "    sum0 += i[1][0] * i[1][1]\n",
    "    sum1 += i[1][0] * i[1][0]\n",
    "    sum2 += i[1][1] * i[1][1]\n",
    "\n",
    "dcos = sum0 / (sqrt(sum1) * sqrt(sum2))\n",
    "sum0, sum1, sum2, dcos"
   ]
  },
  {
   "cell_type": "code",
   "execution_count": null,
   "metadata": {},
   "outputs": [],
   "source": []
  }
 ],
 "metadata": {
  "kernelspec": {
   "display_name": "Python 3",
   "language": "python",
   "name": "python3"
  },
  "language_info": {
   "codemirror_mode": {
    "name": "ipython",
    "version": 3
   },
   "file_extension": ".py",
   "mimetype": "text/x-python",
   "name": "python",
   "nbconvert_exporter": "python",
   "pygments_lexer": "ipython3",
   "version": "3.7.3"
  }
 },
 "nbformat": 4,
 "nbformat_minor": 2
}
