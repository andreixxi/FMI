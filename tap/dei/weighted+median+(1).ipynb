{
 "cells": [
  {
   "cell_type": "code",
   "execution_count": 1,
   "metadata": {},
   "outputs": [
    {
     "data": {
      "text/plain": [
       "6"
      ]
     },
     "execution_count": 1,
     "metadata": {},
     "output_type": "execute_result"
    }
   ],
   "source": [
    "def partition(a, start, end):\n",
    "    pivot = a[start]\n",
    "    while True:\n",
    "        while a[start] < pivot:\n",
    "            start += 1\n",
    "        while a[end] > pivot:\n",
    "            end -= 1\n",
    "        if start >= end:\n",
    "            return end\n",
    "        a[start], a[end] = a[end], a[start]\n",
    "        start += 1\n",
    "    return start\n",
    "\n",
    "def med(a, st, dr, ws, wd, pozitie, nr_part):\n",
    "    if st==dr:\n",
    "        return a[st][0]\n",
    "    \n",
    "    poz_pivot = partition(a, st, dr)\n",
    "    ws1, wd1 = 0, 0\n",
    "    for i in range(st, poz_pivot):\n",
    "        ws1 += a[i][1]\n",
    "    for i in range(poz_pivot+1, dr+1):\n",
    "        wd1 += a[i][1]\n",
    "#     prima partitie\n",
    "    if nr_part == 0:\n",
    "        ws = ws1\n",
    "        wd = wd1\n",
    "    if(pozitie == 'dr'):#Sunt in dreapta\n",
    "        wd = wd1\n",
    "        ws += ws1\n",
    "    else:#Sunt in stanga\n",
    "        wd += wd1\n",
    "        ws = ws1\n",
    "    if ws<0.5:\n",
    "        if wd<=0.5:\n",
    "            return a[poz_pivot][0]\n",
    "        else:\n",
    "            ws += a[poz_pivot][1]\n",
    "            m = med(a, poz_pivot+1, dr, ws, wd, \"dr\", 1)\n",
    "            return m\n",
    "    else:\n",
    "        wd += a[poz_pivot][1]\n",
    "        m = med(a, st, poz_pivot-1, ws, wd, \"st\", 1)\n",
    "        return m\n",
    "    \n",
    "    \n",
    "l = [5, 1, 3, 2, 9, 6, 11]\n",
    "w = [0.1, 0.12, 0.05, 0.1, 0.2, 0.13, 0.3]\n",
    "t = []\n",
    "for i in range(len(l)):\n",
    "    t.append((l[i], w[i]))\n",
    "n = len(t)\n",
    "ws, wd = 0, 0\n",
    "m = med(t, 0, n-1, ws, wd, 'st', 0)\n",
    "m"
   ]
  },
  {
   "cell_type": "code",
   "execution_count": null,
   "metadata": {},
   "outputs": [],
   "source": []
  }
 ],
 "metadata": {
  "kernelspec": {
   "display_name": "Python 3",
   "language": "python",
   "name": "python3"
  },
  "language_info": {
   "codemirror_mode": {
    "name": "ipython",
    "version": 3
   },
   "file_extension": ".py",
   "mimetype": "text/x-python",
   "name": "python",
   "nbconvert_exporter": "python",
   "pygments_lexer": "ipython3",
   "version": "3.7.3"
  }
 },
 "nbformat": 4,
 "nbformat_minor": 2
}
