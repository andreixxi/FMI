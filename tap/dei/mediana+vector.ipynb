{
 "cells": [
  {
   "cell_type": "code",
   "execution_count": 27,
   "metadata": {},
   "outputs": [
    {
     "data": {
      "text/plain": [
       "(11, 12)"
      ]
     },
     "execution_count": 27,
     "metadata": {},
     "output_type": "execute_result"
    }
   ],
   "source": [
    "def mediana(a, b):\n",
    "    if(len(a) > len(b)):\n",
    "        return mediana(b, a)\n",
    "    n = len(a)\n",
    "    m = len(b)\n",
    "\n",
    "    low = 0\n",
    "    high = n\n",
    "    while low <= high: \n",
    "        partitionX = (low + high)//2\n",
    "        partitionY = (n + m + 1)//2 - partitionX\n",
    "\n",
    "#             if partitionX is 0 it means nothing is there on left side. Use -INF for maxLeftX\n",
    "# if partitionX is length of input then there is nothing on right side. Use +INF for minRightX\n",
    "        if partitionX == 0:\n",
    "            maxLeftX = float('-inf')\n",
    "        else:\n",
    "            maxLeftX = a[partitionX - 1]\n",
    "        if partitionX == n:\n",
    "            minRightX = float('inf')\n",
    "        else:\n",
    "            minRightX = a[partitionX]\n",
    "\n",
    "        if partitionY == 0:\n",
    "            maxLeftY = float('-inf')\n",
    "        else:\n",
    "            maxLeftY = b[partitionY - 1]\n",
    "        if partitionY == m:\n",
    "            minRightY = float('inf')\n",
    "        else:\n",
    "            minRightY = b[partitionY]\n",
    "            \n",
    "            if maxLeftX <= minRightY and maxLeftY <= minRightX: \n",
    "#               We have partitioned array at correct place\n",
    "#               Now get max of left elements and min of right elements to get the median in case of even length combined \n",
    "#               array size or get max of left for odd length combined array size.\n",
    "                if (n + m) % 2 == 0:\n",
    "                    return (max(maxLeftX, maxLeftY) + min(minRightX, minRightY))/2\n",
    "                else:\n",
    "                    return max(maxLeftX, maxLeftY)\n",
    "            elif maxLeftX > minRightY:  #we are too far on right side for partitionX. Go on left side.\n",
    "                high = partitionX - 1;\n",
    "            else:  #we are too far on left side for partitionX. Go on right side.\n",
    "                low = partitionX + 1;\n",
    "            \n",
    "        \n",
    "a = [1, 3, 8, 9, 15]\n",
    "b = [7, 11, 19, 21, 18, 25]\n",
    "c = [2,4,6,8,10,12,14,16,18,20]\n",
    "d = [1,23,25]\n",
    "mediana(a,b), mediana(c,d)"
   ]
  }
 ],
 "metadata": {
  "kernelspec": {
   "display_name": "Python 3",
   "language": "python",
   "name": "python3"
  },
  "language_info": {
   "codemirror_mode": {
    "name": "ipython",
    "version": 3
   },
   "file_extension": ".py",
   "mimetype": "text/x-python",
   "name": "python",
   "nbconvert_exporter": "python",
   "pygments_lexer": "ipython3",
   "version": "3.7.3"
  }
 },
 "nbformat": 4,
 "nbformat_minor": 2
}
