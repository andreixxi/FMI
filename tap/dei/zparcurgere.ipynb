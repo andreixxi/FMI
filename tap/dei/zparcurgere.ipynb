{
 "cells": [
  {
   "cell_type": "code",
   "execution_count": 1,
   "metadata": {},
   "outputs": [
    {
     "name": "stdout",
     "output_type": "stream",
     "text": [
      "61\n"
     ]
    }
   ],
   "source": [
    "def tabla(dim, i, j, start):\n",
    "\n",
    "    if dim == 1:\n",
    "        return start + i\n",
    "    \n",
    "    d = dim ** 2\n",
    "    d2 = dim // 2\n",
    "    if i <= d2:\n",
    "        if j <= d2: #tabla1\n",
    "            return tabla(d2, i, j, start)\n",
    "        else: #tabla2\n",
    "            start = d2 * d2 + start\n",
    "            return tabla(d2, i, j - d2, start)\n",
    "    else:\n",
    "        if j <= d2: #tabla3\n",
    "            start  = d2 * d2 * 2 + start\n",
    "            return tabla(d2, i - d2, j, start)\n",
    "        else: #tabla4\n",
    "            start = d2 * d2 * 3 + start\n",
    "            return tabla(d2, i - d2, j - d2, start)\n",
    "        \n",
    "n = 4\n",
    "i = 7\n",
    "j = 7\n",
    "start = 0\n",
    "print(tabla(2**n, i , j, start))"
   ]
  },
  {
   "cell_type": "code",
   "execution_count": 2,
   "metadata": {},
   "outputs": [
    {
     "ename": "SyntaxError",
     "evalue": "invalid syntax (<ipython-input-2-f2a6e33a687e>, line 5)",
     "output_type": "error",
     "traceback": [
      "\u001b[1;36m  File \u001b[1;32m\"<ipython-input-2-f2a6e33a687e>\"\u001b[1;36m, line \u001b[1;32m5\u001b[0m\n\u001b[1;33m    print(tabla(2**n, i , j, start)).\u001b[0m\n\u001b[1;37m                                     ^\u001b[0m\n\u001b[1;31mSyntaxError\u001b[0m\u001b[1;31m:\u001b[0m invalid syntax\n"
     ]
    }
   ],
   "source": [
    "n = 4\n",
    "i = 7\n",
    "j = 7\n",
    "start = 0\n",
    "print(tabla(2**n, i , j, start))."
   ]
  },
  {
   "cell_type": "code",
   "execution_count": null,
   "metadata": {},
   "outputs": [],
   "source": []
  },
  {
   "cell_type": "code",
   "execution_count": null,
   "metadata": {},
   "outputs": [],
   "source": []
  }
 ],
 "metadata": {
  "kernelspec": {
   "display_name": "Python 3",
   "language": "python",
   "name": "python3"
  },
  "language_info": {
   "codemirror_mode": {
    "name": "ipython",
    "version": 3
   },
   "file_extension": ".py",
   "mimetype": "text/x-python",
   "name": "python",
   "nbconvert_exporter": "python",
   "pygments_lexer": "ipython3",
   "version": "3.7.3"
  }
 },
 "nbformat": 4,
 "nbformat_minor": 2
}
