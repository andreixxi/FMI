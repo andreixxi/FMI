{
 "cells": [
  {
   "cell_type": "code",
   "execution_count": 22,
   "metadata": {},
   "outputs": [
    {
     "data": {
      "text/plain": [
       "0"
      ]
     },
     "execution_count": 22,
     "metadata": {},
     "output_type": "execute_result"
    }
   ],
   "source": [
    "def maxim(arr, low, high): \n",
    "    # 1 element\n",
    "    if low == high: \n",
    "        return arr[low] \n",
    "   \n",
    "    # 2 elemente\n",
    "    if high == low + 1 and arr[low] >= arr[high]: \n",
    "        return arr[low]\n",
    "    else:\n",
    "        return arr[high]\n",
    "\n",
    "    mid = (low + high)//2   \n",
    "    \n",
    "    # ex: 2 4 3\n",
    "    if arr[mid] == max(arr[mid], arr[mid+1], arr[mid-1]):\n",
    "        return arr[mid] \n",
    "   \n",
    "    if arr[mid] > arr[mid + 1] and arr[mid] < arr[mid - 1]: \n",
    "        return maxim(arr, low, mid - 1) \n",
    "    else:\n",
    "        return maxim(arr, mid + 1, high) \n",
    "    \n",
    "arr = [4, 8, 10, 5, 0]\n",
    "n = len(arr)\n",
    "maxim(arr, 0, n-1)"
   ]
  },
  {
   "cell_type": "code",
   "execution_count": 16,
   "metadata": {},
   "outputs": [],
   "source": [
    "del maxim"
   ]
  },
  {
   "cell_type": "code",
   "execution_count": null,
   "metadata": {},
   "outputs": [],
   "source": []
  }
 ],
 "metadata": {
  "kernelspec": {
   "display_name": "Python 3",
   "language": "python",
   "name": "python3"
  },
  "language_info": {
   "codemirror_mode": {
    "name": "ipython",
    "version": 3
   },
   "file_extension": ".py",
   "mimetype": "text/x-python",
   "name": "python",
   "nbconvert_exporter": "python",
   "pygments_lexer": "ipython3",
   "version": "3.7.3"
  }
 },
 "nbformat": 4,
 "nbformat_minor": 2
}
