{
 "cells": [
  {
   "cell_type": "code",
   "execution_count": 1,
   "metadata": {},
   "outputs": [
    {
     "data": {
      "text/plain": [
       "3"
      ]
     },
     "execution_count": 1,
     "metadata": {},
     "output_type": "execute_result"
    }
   ],
   "source": [
    "v = [4, 8, 11, 3, 5]\n",
    "def inv(st,dr):\n",
    "    if st==dr:\n",
    "        return 0\n",
    "    s = []\n",
    "    m = (st+dr)//2\n",
    "    nrs = inv(st, m)\n",
    "    nrd = inv(m+1, dr)\n",
    "    vs = v[st : m+1]\n",
    "    vd = v[m+1 : dr+1]\n",
    "    nrm = 0\n",
    "    i, j = 0, 0\n",
    "    while i<len(vs) and j<len(vd):\n",
    "        if vs[i] < 2*vd[j]:\n",
    "            i += 1\n",
    "            nrm += j\n",
    "        else:\n",
    "            j += 1\n",
    "    while i<len(vs):\n",
    "        nrm += j\n",
    "        i += 1\n",
    "    while i<len(vd):\n",
    "        j += 1\n",
    "        \n",
    "    i, j = 0, 0\n",
    "    while i<len(vs) and j<len(vd):\n",
    "        if vs[i] < vd[j]:\n",
    "            s.append(vs[i])\n",
    "            i += 1\n",
    "        else:\n",
    "            s.append(vd[j]) \n",
    "            j += 1\n",
    "    while i<len(vs):\n",
    "        s.append(vs[i])\n",
    "        i += 1\n",
    "    while j<len(vd):\n",
    "        s.append(vd[j])\n",
    "        j += 1\n",
    "    v[st : dr + 1] = s\n",
    "    \n",
    "    return nrs + nrd + nrm\n",
    "\n",
    "inv(0, len(v)-1)"
   ]
  },
  {
   "cell_type": "code",
   "execution_count": null,
   "metadata": {},
   "outputs": [],
   "source": []
  }
 ],
 "metadata": {
  "kernelspec": {
   "display_name": "Python 3",
   "language": "python",
   "name": "python3"
  },
  "language_info": {
   "codemirror_mode": {
    "name": "ipython",
    "version": 3
   },
   "file_extension": ".py",
   "mimetype": "text/x-python",
   "name": "python",
   "nbconvert_exporter": "python",
   "pygments_lexer": "ipython3",
   "version": "3.7.3"
  }
 },
 "nbformat": 4,
 "nbformat_minor": 2
}
