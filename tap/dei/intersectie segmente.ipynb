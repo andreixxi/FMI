{
 "cells": [
  {
   "cell_type": "code",
   "execution_count": 8,
   "metadata": {},
   "outputs": [],
   "source": [
    "def ecdr(x, y):\n",
    "    a = y[1] - x[1]\n",
    "    b = x[0] - y[0]\n",
    "    c = y[0]*x[1] - x[0]*y[1] \n",
    "    return a, b, c\n",
    "\n",
    "def det(a1, a2, b1, b2):\n",
    "    return a1*b2 - a2*b1\n",
    "\n",
    "a = [(1, 1), \n",
    "     (5, 5), \n",
    "     (3, 3), \n",
    "     (1, 4)]\n",
    "# a = [(1, 1), \n",
    "#      (4, 4), \n",
    "#      (3, 3), \n",
    "#      (7, 7)]\n",
    "\n",
    "#sorteaza primele 2 puncte, ultimele 2 puncte\n",
    "a[0:2], a[2:4] = sorted(a[0:2]), sorted(a[2:4])\n",
    "\n",
    "x1, y1 = a[0][0], a[0][1]\n",
    "x2, y2 = a[1][0], a[1][1]\n",
    "x3, y3 = a[2][0], a[2][1]\n",
    "x4, y4 = a[3][0], a[3][1]\n",
    "\n",
    "a1, b1, c1 = ecdr(a[0], a[1])\n",
    "a2, b2, c2 = ecdr(a[2], a[3])\n",
    "d = det(a1, a2, b1, b2)"
   ]
  },
  {
   "cell_type": "code",
   "execution_count": 12,
   "metadata": {},
   "outputs": [
    {
     "name": "stdout",
     "output_type": "stream",
     "text": [
      "segmentele se intersecteaza in punctul P( 3.0 3.0 )\n"
     ]
    }
   ],
   "source": [
    "if d:\n",
    "    x = (det(-c1, -c2, b1, b2))/d\n",
    "    y = (det(a1, a2, -c1, -c2))/d\n",
    "    ok1 = 0\n",
    "    ok2 = 0\n",
    "    if a[0][0] != a[1][0]:\n",
    "        #P(x, y) se afla pe A1A2\n",
    "        if x >= min(a[0][0], a[1][0]) and x <= max(a[0][0], a[1][0]) and y >= min(a[0][1], a[1][1]) and y <= max(a[0][1], a[1][1]):\n",
    "            ok1 = 1\n",
    "    else: #x1 = x2\n",
    "        if x == a[0][0] and y >= min(a[0][1], a[1][1]) and y <= max(a[0][1], a[1][1]):\n",
    "            ok1 = 1\n",
    "            \n",
    "    if a[2][0] != a[3][0]:\n",
    "        #P(x, y) se afla pe A1A2\n",
    "        if x >= min(a[2][0], a[3][0]) and x <= max(a[2][0], a[3][0]) and y >= min(a[2][1], a[3][1]) and y <= max(a[2][1], a[3][1]):\n",
    "            ok2 = 1\n",
    "    else: #x3 = x4\n",
    "        if x == a[2][0] and y >= min(a[2][1], a[3][1]) and y <= max(a[2][1], a[3][1]):\n",
    "            ok2 = 1\n",
    "    if ok1 == 1 and ok2 == 1:\n",
    "        print(\"segmentele se intersecteaza in punctul P(\", x, y, \")\")\n",
    "    else:\n",
    "        print(\"segmentele nu se intersecteaza\")\n",
    "else:\n",
    "    d1 = det(a1, a2, c1, c2)\n",
    "    d2 = det(b1, b2, c1, c2)\n",
    "    if d1 == 0 and d2 == 0:\n",
    "        rang = 1\n",
    "    else:\n",
    "        rang = 2\n",
    "    if rang == 2:\n",
    "        print(\"segmentele nu se intersecteaza\")\n",
    "    else:\n",
    "#          cazuri\n",
    "#         (1, 2, 3, 4)\n",
    "#         (1, 3, 2, 4)\n",
    "#         (1, 3, 4, 2)\n",
    "#         (3, 1, 2, 4)\n",
    "#         (3, 1, 4, 2)\n",
    "#         (3, 4, 1, 2)\n",
    "\n",
    "#         rang=1, segmentele au aceeasi lungime\n",
    "#         a1 a2 a3 a4\n",
    "        mesaj = \"segmentele nu se intersecteaza\"\n",
    "        if x2 < x3:\n",
    "            print(mesaj)\n",
    "        else:\n",
    "            print(\"segmentele se intersecteaza in punctul P(\", x3, y3,\")\")\n",
    "#         a1 a3 a2 a4\n",
    "        if x3 <= x2:\n",
    "            print(\"segmentele se intersecteaza in punctul P(\", x3, y3,\")\")\n",
    "#         a1 a3 a4 a2\n",
    "        if x3 < x2 and x4 <= x2:\n",
    "            print(\"segmentele se intersecteaza in punctul P(\", x3, y3,\")\")\n",
    "#         a3 a1 a2 a4\n",
    "        if x1 < x4 and x2 <= x4:\n",
    "            print(\"segmentele se intersecteaza in punctul P(\", x1, y1,\")\")\n",
    "#         a3 a1 a4 a2\n",
    "        if x3 <= x1 and x4 <= x2:\n",
    "            print(\"segmentele se intersecteaza in punctul P(\", x1, y1,\")\")\n",
    "#         a3 a4 a1 a2\n",
    "        if x4 == x1:\n",
    "            print(\"segmentele se intersecteaza in punctul P(\", x1, y1,\")\")\n",
    "        else:\n",
    "            print(mesaj)"
   ]
  },
  {
   "cell_type": "code",
   "execution_count": 10,
   "metadata": {},
   "outputs": [
    {
     "data": {
      "text/plain": [
       "[(1, 1), (5, 5), (1, 4), (3, 3)]"
      ]
     },
     "execution_count": 10,
     "metadata": {},
     "output_type": "execute_result"
    }
   ],
   "source": [
    "a = [(5, 5), \n",
    "     (1, 1), \n",
    "     (3, 3), \n",
    "     (1, 4)]\n",
    "a[0:2], a[2:4] = sorted(a[0:2]), sorted(a[2:4])\n",
    "a"
   ]
  },
  {
   "cell_type": "code",
   "execution_count": 11,
   "metadata": {},
   "outputs": [
    {
     "name": "stdout",
     "output_type": "stream",
     "text": [
      "(1, 2, 3, 4)\n",
      "(1, 2, 4, 3)\n",
      "(1, 3, 2, 4)\n",
      "(1, 3, 4, 2)\n",
      "(1, 4, 2, 3)\n",
      "(1, 4, 3, 2)\n",
      "(2, 1, 3, 4)\n",
      "(2, 1, 4, 3)\n",
      "(2, 3, 1, 4)\n",
      "(2, 3, 4, 1)\n",
      "(2, 4, 1, 3)\n",
      "(2, 4, 3, 1)\n",
      "(3, 1, 2, 4)\n",
      "(3, 1, 4, 2)\n",
      "(3, 2, 1, 4)\n",
      "(3, 2, 4, 1)\n",
      "(3, 4, 1, 2)\n",
      "(3, 4, 2, 1)\n",
      "(4, 1, 2, 3)\n",
      "(4, 1, 3, 2)\n",
      "(4, 2, 1, 3)\n",
      "(4, 2, 3, 1)\n",
      "(4, 3, 1, 2)\n",
      "(4, 3, 2, 1)\n"
     ]
    }
   ],
   "source": [
    "import itertools \n",
    "  \n",
    "listA = [1,2,3,4]\n",
    "perm = itertools.permutations(listA) \n",
    "  \n",
    "for i in list(perm): \n",
    "    print(i)"
   ]
  },
  {
   "cell_type": "code",
   "execution_count": null,
   "metadata": {},
   "outputs": [],
   "source": [
    "(1, 2, 3, 4)\n",
    "(1, 3, 2, 4)\n",
    "(1, 3, 4, 2)\n",
    "(3, 1, 2, 4)\n",
    "(3, 1, 4, 2)\n",
    "(3, 4, 1, 2)\n"
   ]
  }
 ],
 "metadata": {
  "kernelspec": {
   "display_name": "Python 3",
   "language": "python",
   "name": "python3"
  },
  "language_info": {
   "codemirror_mode": {
    "name": "ipython",
    "version": 3
   },
   "file_extension": ".py",
   "mimetype": "text/x-python",
   "name": "python",
   "nbconvert_exporter": "python",
   "pygments_lexer": "ipython3",
   "version": "3.7.3"
  }
 },
 "nbformat": 4,
 "nbformat_minor": 2
}
