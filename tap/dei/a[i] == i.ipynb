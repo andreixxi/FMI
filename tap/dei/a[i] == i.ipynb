{
 "cells": [
  {
   "cell_type": "code",
   "execution_count": 15,
   "metadata": {},
   "outputs": [
    {
     "data": {
      "text/plain": [
       "(5, 5)"
      ]
     },
     "execution_count": 15,
     "metadata": {},
     "output_type": "execute_result"
    }
   ],
   "source": [
    "def find (arr, l, r): \n",
    "  \n",
    "    if r >= l: \n",
    "  \n",
    "        mid = l + (r - l)//2\n",
    "        if arr[mid] == mid: \n",
    "            return mid, arr[mid] \n",
    "          \n",
    "        elif arr[mid] > mid: \n",
    "            return find(arr, l, mid-1) \n",
    "  \n",
    "        else: \n",
    "            return find(arr, mid + 1, r) \n",
    "  \n",
    "    else: \n",
    "        return -1\n",
    "    \n",
    "    \n",
    "a = [-7, -1, 0, 2, 3, 5, 7]\n",
    "n = len(a)\n",
    "find(a, 0, n-1)"
   ]
  },
  {
   "cell_type": "code",
   "execution_count": 14,
   "metadata": {},
   "outputs": [
    {
     "data": {
      "text/plain": [
       "-1"
      ]
     },
     "execution_count": 14,
     "metadata": {},
     "output_type": "execute_result"
    }
   ],
   "source": [
    "a = [-7, -1, 0, 2, 3, 5, 7]\n",
    "n = len(a)\n",
    "find(a, 0, n-1)"
   ]
  },
  {
   "cell_type": "code",
   "execution_count": 64,
   "metadata": {},
   "outputs": [],
   "source": [
    "# def binarySearch (arr, l, r, x): \n",
    "  \n",
    "#     if r >= l: \n",
    "  \n",
    "#         mid = l + (r - l)//2\n",
    "#         if arr[mid] == x: \n",
    "#             return mid \n",
    "          \n",
    "#         elif arr[mid] > x: \n",
    "#             return binarySearch(arr, l, mid-1, x) \n",
    "  \n",
    "#         else: \n",
    "#             return binarySearch(arr, mid + 1, r, x) \n",
    "  \n",
    "#     else: \n",
    "#         return -1"
   ]
  }
 ],
 "metadata": {
  "kernelspec": {
   "display_name": "Python 3",
   "language": "python",
   "name": "python3"
  },
  "language_info": {
   "codemirror_mode": {
    "name": "ipython",
    "version": 3
   },
   "file_extension": ".py",
   "mimetype": "text/x-python",
   "name": "python",
   "nbconvert_exporter": "python",
   "pygments_lexer": "ipython3",
   "version": "3.7.3"
  }
 },
 "nbformat": 4,
 "nbformat_minor": 2
}
