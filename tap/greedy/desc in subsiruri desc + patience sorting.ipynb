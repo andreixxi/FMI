{
 "cells": [
  {
   "cell_type": "code",
   "execution_count": 2,
   "metadata": {},
   "outputs": [],
   "source": [
    "import bisect\n",
    "import heapq\n",
    "\n",
    "l = [11, 13, 10, 15, 12, 7]\n",
    "# l = [5, 3, 4, 1, 2]\n",
    "n = len(l)\n",
    "mat = []\n",
    "u = [] #ultima val pusa\n",
    "mat.append([l[0]])\n",
    "no_lists = 1\n",
    "u.append(l[0])\n",
    "for i in range(1, n):\n",
    "    idx = bisect.bisect(u, l[i]) #idx = poz pe care poate fi pus l[i] in u\n",
    "    if idx >= no_lists: #creez un sir nou\n",
    "        mat.append([l[i]])\n",
    "        u.append(l[i])\n",
    "        no_lists += 1\n",
    "    else:\n",
    "        mat[idx].append(l[i])\n",
    "        u[idx] = l[i]\n",
    "\n",
    "print(mat)\n",
    "print(u)\n",
    "\n",
    "for i in range(len(mat)):\n",
    "    print(mat[i])\n",
    "    \n",
    "st=[]\n",
    "for i,row in enumerate(mat):\n",
    "    for x in row:\n",
    "        st.append((x, i))\n",
    "print(st)\n",
    "\n",
    "\n",
    "heapq.heapify(st)\n",
    "l=[]\n",
    "while st:\n",
    "    l.append(heapq.heappop(st)[0])\n",
    "print(l)"
   ]
  },
  {
   "cell_type": "code",
   "execution_count": 6,
   "metadata": {},
   "outputs": [
    {
     "name": "stdout",
     "output_type": "stream",
     "text": [
      "[[11, 10, 7], [13, 12], [15]]\n",
      "[7, 12, 15]\n"
     ]
    }
   ],
   "source": [
    "l = [11, 13, 10, 15, 12, 7]\n",
    "# l = [5, 3, 4, 1, 2]\n",
    "n = len(l)\n",
    "mat = []\n",
    "u = [] #ultima val pusa\n",
    "mat.append([l[0]])\n",
    "no_lists = 1\n",
    "u.append(l[0])\n",
    "for i in range(1, n):\n",
    "    idx = bisect.bisect(u, l[i]) #idx = poz pe care poate fi pus l[i] in u\n",
    "    if idx >= no_lists: #creez un sir nou\n",
    "        mat.append([l[i]])\n",
    "        u.append(l[i])\n",
    "        no_lists += 1\n",
    "    else:\n",
    "        mat[idx].append(l[i])\n",
    "        u[idx] = l[i]\n",
    "\n",
    "print(mat)\n",
    "print(u)"
   ]
  },
  {
   "cell_type": "code",
   "execution_count": 4,
   "metadata": {},
   "outputs": [
    {
     "name": "stdout",
     "output_type": "stream",
     "text": [
      "[5, 3, 1]\n",
      "[4, 2]\n"
     ]
    }
   ],
   "source": [
    "for i in range(len(mat)):\n",
    "    print(mat[i])"
   ]
  },
  {
   "cell_type": "code",
   "execution_count": 5,
   "metadata": {},
   "outputs": [
    {
     "data": {
      "text/plain": [
       "[(5, 0), (3, 0), (1, 0), (4, 1), (2, 1)]"
      ]
     },
     "execution_count": 5,
     "metadata": {},
     "output_type": "execute_result"
    }
   ],
   "source": [
    "st=[]\n",
    "for i,row in enumerate(mat):\n",
    "    for x in row:\n",
    "        st.append((x, i))\n",
    "st"
   ]
  },
  {
   "cell_type": "code",
   "execution_count": 5,
   "metadata": {},
   "outputs": [
    {
     "data": {
      "text/plain": [
       "[1, 2, 3, 4, 5]"
      ]
     },
     "execution_count": 5,
     "metadata": {},
     "output_type": "execute_result"
    }
   ],
   "source": [
    "heapq.heapify(st)\n",
    "l=[]\n",
    "while st:\n",
    "    l.append(heapq.heappop(st)[0])\n",
    "l"
   ]
  },
  {
   "cell_type": "code",
   "execution_count": null,
   "metadata": {},
   "outputs": [],
   "source": []
  }
 ],
 "metadata": {
  "kernelspec": {
   "display_name": "Python 3",
   "language": "python",
   "name": "python3"
  },
  "language_info": {
   "codemirror_mode": {
    "name": "ipython",
    "version": 3
   },
   "file_extension": ".py",
   "mimetype": "text/x-python",
   "name": "python",
   "nbconvert_exporter": "python",
   "pygments_lexer": "ipython3",
   "version": "3.7.3"
  }
 },
 "nbformat": 4,
 "nbformat_minor": 2
}
