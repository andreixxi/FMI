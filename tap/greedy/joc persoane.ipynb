{
 "cells": [
  {
   "cell_type": "code",
   "execution_count": 100,
   "metadata": {},
   "outputs": [
    {
     "name": "stdout",
     "output_type": "stream",
     "text": [
      "10\n"
     ]
    }
   ],
   "source": [
    "si, sp = 0, 0 \n",
    "vec = [5, 7, 2, 1, 9, 8, 4, 2, 1, 6]\n",
    "print(len(vec))\n",
    "for i in range(len(vec)):\n",
    "    if i%2: #impar\n",
    "        si += vec[i]\n",
    "    else: #par\n",
    "        sp += vec[i]"
   ]
  },
  {
   "cell_type": "code",
   "execution_count": 101,
   "metadata": {},
   "outputs": [
    {
     "data": {
      "text/plain": [
       "(21, 24)"
      ]
     },
     "execution_count": 101,
     "metadata": {},
     "output_type": "execute_result"
    }
   ],
   "source": [
    "sp, si"
   ]
  },
  {
   "cell_type": "code",
   "execution_count": 102,
   "metadata": {},
   "outputs": [
    {
     "name": "stdout",
     "output_type": "stream",
     "text": [
      "s pt stanga, d pt dreapta\n",
      "d\n",
      "s pt stanga, d pt dreapta\n",
      "s\n",
      "s pt stanga, d pt dreapta\n",
      "d\n",
      "s pt stanga, d pt dreapta\n",
      "s\n",
      "s pt stanga, d pt dreapta\n",
      "d\n"
     ]
    }
   ],
   "source": [
    "chosen1, chosen2 = [], []\n",
    "val1, val2 = [], []\n",
    "sum1, sum2 = 0, 0\n",
    "if si>sp:\n",
    "    chosen1.append('d') #din dreapta(pozitie impara)\n",
    "    val1.append(vec[len(vec)-1])\n",
    "    sum1 += vec[len(vec)-1] #suma jucator 1\n",
    "    vec.pop(len(vec)-1) #scot ultima piesa\n",
    "    \n",
    "    while len(vec):\n",
    "        print(\"s pt stanga, d pt dreapta\")\n",
    "        alegere = input() \n",
    "        if alegere=='s': #pt jucatorul 2\n",
    "            chosen2.append('s') #val din stg\n",
    "            if vec:\n",
    "                sum2 += vec[0] #suma jucator2\n",
    "                val2.append(vec[0])\n",
    "                vec.pop(0) #scot val din stg\n",
    "            \n",
    "            chosen1.append('s') #jucatorul 1 alege din acelasi capat cu juc 2\n",
    "            if vec:\n",
    "                sum1 += vec[0]\n",
    "                val1.append(vec[0])\n",
    "                vec.pop(0)\n",
    "\n",
    "        elif alegere=='d':\n",
    "            chosen2.append('d')\n",
    "            if vec:\n",
    "                sum2 += vec[len(vec)-1] #suma jucator2\n",
    "                val2.append(vec[len(vec)-1])\n",
    "                vec.pop(len(vec)-1) #scot val din dr\n",
    "            \n",
    "            chosen1.append('d') \n",
    "            if vec:\n",
    "                sum1 += vec[len(vec)-1]\n",
    "                val1.append(vec[len(vec)-1])\n",
    "                vec.pop(len(vec)-1)\n",
    "\n",
    "        else:\n",
    "            print(\"ai introdus gresit\\n\")\n",
    "            break\n",
    "        \n",
    "else: #si<=sp\n",
    "    chosen1.append('s') #din stg(pozitie para)\n",
    "    sum1 += vec[0] #suma jucator 1\n",
    "    val1.append(vec[0])\n",
    "    vec.pop(0) #scot prima piesa\n",
    "    \n",
    "    while len(vec):\n",
    "        print(\"s pt stanga, d pt dreapta\")\n",
    "        alegere = input() \n",
    "        if alegere=='s': #pt jucatorul 2\n",
    "            chosen2.append('s') #val din stg\n",
    "            if vec:\n",
    "                sum2 += vec[0] #suma jucator2\n",
    "                val2.append(vec[0])\n",
    "                vec.pop(0) #scot val din stg\n",
    "            \n",
    "            chosen1.append('s') #jucatorul 1 alege din acelasi capat cu juc 2\n",
    "            if vec:\n",
    "                sum1 += vec[0]\n",
    "                val1.append(vec[0])\n",
    "                vec.pop(0)\n",
    "\n",
    "        elif alegere=='d':\n",
    "            chosen2.append('d')\n",
    "            if vec:\n",
    "                sum2 += vec[len(vec)-1] #suma jucator2\n",
    "                val2.append(vec[len(vec)-1])\n",
    "                vec.pop(len(vec)-1) #scot val din dr\n",
    "            \n",
    "            chosen1.append('d') \n",
    "            if vec:\n",
    "                sum1 += vec[len(vec)-1]\n",
    "                val1.append(vec[len(vec)-1])\n",
    "                vec.pop(len(vec)-1)\n",
    "\n",
    "        else:\n",
    "            print(\"ai introdus gresit\\n\")\n",
    "            break"
   ]
  },
  {
   "cell_type": "code",
   "execution_count": 103,
   "metadata": {},
   "outputs": [
    {
     "name": "stdout",
     "output_type": "stream",
     "text": [
      "jucatorul 1 are suma  24\n",
      "jucatorul 2 are suma 21\n",
      "mutarile primului jucator au fost  ['d', 'd', 's', 'd', 's', 'd']\n",
      "mutarile jucatorului 2 au fost  ['d', 's', 'd', 's', 'd']\n"
     ]
    }
   ],
   "source": [
    "print(\"jucatorul 1 are suma \", sum1)\n",
    "print(\"jucatorul 2 are suma\", sum2)\n",
    "print(\"mutarile primului jucator au fost \", chosen1)\n",
    "print(\"mutarile jucatorului 2 au fost \", chosen2)"
   ]
  },
  {
   "cell_type": "code",
   "execution_count": 104,
   "metadata": {},
   "outputs": [
    {
     "data": {
      "text/plain": [
       "([6, 2, 7, 8, 1], [1, 5, 4, 2, 9])"
      ]
     },
     "execution_count": 104,
     "metadata": {},
     "output_type": "execute_result"
    }
   ],
   "source": [
    "val1, val2"
   ]
  },
  {
   "cell_type": "code",
   "execution_count": null,
   "metadata": {},
   "outputs": [],
   "source": []
  }
 ],
 "metadata": {
  "kernelspec": {
   "display_name": "Python 3",
   "language": "python",
   "name": "python3"
  },
  "language_info": {
   "codemirror_mode": {
    "name": "ipython",
    "version": 3
   },
   "file_extension": ".py",
   "mimetype": "text/x-python",
   "name": "python",
   "nbconvert_exporter": "python",
   "pygments_lexer": "ipython3",
   "version": "3.7.3"
  }
 },
 "nbformat": 4,
 "nbformat_minor": 2
}
