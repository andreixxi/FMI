{
 "cells": [
  {
   "cell_type": "code",
   "execution_count": 3,
   "metadata": {},
   "outputs": [
    {
     "name": "stdout",
     "output_type": "stream",
     "text": [
      "(1, 5)\n",
      "(5, 2)\n",
      "(2, 4)\n",
      "nr posib 2\n"
     ]
    }
   ],
   "source": [
    "d = [(1,8), (1, 5), (5, 3), (5, 2), (4, 8), (2, 4), (2, 3)]\n",
    "n = len(d)\n",
    "\n",
    "L = [1] * n \n",
    "succ = [n] * n\n",
    "Nr = [0] * n\n",
    "   \n",
    "L[n-1] = 1\n",
    "poz_max = n-1\n",
    "for i in range(n-2, -1, -1):\n",
    "    for j in range(i+1, n):\n",
    "        if d[i][1] == d[j][0] and L[j]+1 > L[i]:\n",
    "            L[i] = L[j] + 1\n",
    "            succ[i] = j\n",
    "        if L[i] > L[poz_max]:\n",
    "            poz_max = i\n",
    "k = poz_max\n",
    "while k<n:\n",
    "    print(d[k])\n",
    "    k = succ[k]\n",
    "    \n",
    "dik = dict(zip(d, L))\n",
    "hmax = max(L)\n",
    "\n",
    "#piesa cu lungimea maxima\n",
    "valoare = 0\n",
    "for piece, length in dik.items():\n",
    "    if length == hmax:\n",
    "        valoare = piece\n",
    "\n",
    "haux = 0 #nr de posib \n",
    "# caut urm posib dupa hmax\n",
    "for piece, length in dik.items():\n",
    "    #piesele se pot uni\n",
    "    if length > haux and length != hmax and valoare[1] == piece[0]:\n",
    "        haux = length\n",
    "print(\"nr posib\", haux)"
   ]
  },
  {
   "cell_type": "code",
   "execution_count": 12,
   "metadata": {},
   "outputs": [
    {
     "name": "stdout",
     "output_type": "stream",
     "text": [
      "(1, 5)\n",
      "(5, 2)\n",
      "(2, 4)\n",
      "exista 2 posibilitati\n"
     ]
    }
   ],
   "source": [
    "d = [(1,8), (1, 5), (5, 3), (5, 2), (4, 8), (2, 4), (2, 3)]\n",
    "n = len(d)\n",
    "succ = [n] * n\n",
    "Nr = [0] * n\n",
    "H = [0] * n\n",
    "L = [1] * n \n",
    "\n",
    "for i in range(n-2, -1, -1):\n",
    "    for j in range(i+1, n):\n",
    "        if Nr[j] == 0:\n",
    "            Nr[j] = 1\n",
    "        if d[i][1] == d[j][0]:\n",
    "            if H[j] + 1 > H[i]:\n",
    "                H[i] = H[j] + 1\n",
    "                succ[i] = j\n",
    "                Nr[i] = Nr[j]\n",
    "            elif H[i] == 1 + H[j]:\n",
    "                Nr[i] += Nr[j]\n",
    "                \n",
    "maxi, poz = max(H), H.index(max(H))\n",
    "i = poz\n",
    "while i != n:\n",
    "    print(d[i])\n",
    "    i = succ[i]\n",
    "print(\"exista %d posibilitati\" %H[poz])"
   ]
  },
  {
   "cell_type": "code",
   "execution_count": 7,
   "metadata": {},
   "outputs": [
    {
     "data": {
      "text/plain": [
       "[0, 2, 0, 1, 0, 0, 0]"
      ]
     },
     "execution_count": 7,
     "metadata": {},
     "output_type": "execute_result"
    }
   ],
   "source": [
    "H"
   ]
  },
  {
   "cell_type": "code",
   "execution_count": 10,
   "metadata": {},
   "outputs": [
    {
     "data": {
      "text/plain": [
       "[0, 2, 1, 2, 1, 1, 1]"
      ]
     },
     "execution_count": 10,
     "metadata": {},
     "output_type": "execute_result"
    }
   ],
   "source": [
    "Nr"
   ]
  },
  {
   "cell_type": "code",
   "execution_count": null,
   "metadata": {},
   "outputs": [],
   "source": []
  }
 ],
 "metadata": {
  "kernelspec": {
   "display_name": "Python 3",
   "language": "python",
   "name": "python3"
  },
  "language_info": {
   "codemirror_mode": {
    "name": "ipython",
    "version": 3
   },
   "file_extension": ".py",
   "mimetype": "text/x-python",
   "name": "python",
   "nbconvert_exporter": "python",
   "pygments_lexer": "ipython3",
   "version": "3.7.3"
  }
 },
 "nbformat": 4,
 "nbformat_minor": 2
}
