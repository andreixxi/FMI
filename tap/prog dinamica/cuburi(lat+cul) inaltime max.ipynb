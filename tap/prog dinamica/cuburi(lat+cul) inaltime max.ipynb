{
 "cells": [
  {
   "cell_type": "code",
   "execution_count": 6,
   "metadata": {},
   "outputs": [
    {
     "name": "stdout",
     "output_type": "stream",
     "text": [
      "hmax 29\n",
      "cuburile care formeaza turnul maxim\n",
      "(8, 2)\n",
      "(7, 3)\n",
      "(6, 1)\n",
      "(5, 2)\n",
      "(3, 5)\n",
      "exista 4 posibilitati\n"
     ]
    }
   ],
   "source": [
    "#latura, culoare\n",
    "# c = [(7, 3), (8, 3), (10, 2), (9, 2), (10, 1), (8, 1), (5, 2), (6, 2)]\n",
    "c =[(8,1),(8,2), (7, 3), (7,1), (6,1 ), (5, 2), (3, 4), (3, 5)]\n",
    "c.sort(reverse = True)\n",
    "n = len(c)\n",
    "succ = [n] * n\n",
    "Nr = [0] * n\n",
    "H = [0] * n\n",
    "for i in range(n):\n",
    "    H[i] = c[i][0]\n",
    "\n",
    "mini = c[n-1][0]\n",
    "for i in reversed(range(n)):\n",
    "    if c[i][0] == mini:\n",
    "        Nr[i] = 1\n",
    "    else:\n",
    "        break\n",
    "\n",
    "for i in range(n-2, -1, -1):\n",
    "    for j in range(i+1, n):\n",
    "        if c[j][0] == H[j] and Nr[j] == 0:\n",
    "            Nr[j] = 1\n",
    "        if c[i][0] > c[j][0] and c[i][1] != c[j][1]:#pot adauga\n",
    "            if H[j] + c[i][0] > H[i]: \n",
    "                H[i] = H[j] + c[i][0]\n",
    "                succ[i] = j    \n",
    "                Nr[i] = Nr[j]\n",
    "            elif H[i] == H[j] + c[i][0]:\n",
    "                Nr[i] += Nr[j] \n",
    "maxi, poz = max(H), H.index(max(H))\n",
    "sum = 0\n",
    "for i in range(n):\n",
    "    if H[i] == maxi:\n",
    "        sum += Nr[i]\n",
    "    else:\n",
    "        break\n",
    "if sum == 0:\n",
    "    sum = Nr[poz]\n",
    "print(\"hmax\", maxi)\n",
    "print(\"cuburile care formeaza turnul maxim\")\n",
    "i = poz\n",
    "while i != n:\n",
    "    print(c[i])\n",
    "    i = succ[i]\n",
    "print(\"exista %d posibilitati\" %sum)"
   ]
  },
  {
   "cell_type": "code",
   "execution_count": null,
   "metadata": {},
   "outputs": [],
   "source": []
  }
 ],
 "metadata": {
  "kernelspec": {
   "display_name": "Python 3",
   "language": "python",
   "name": "python3"
  },
  "language_info": {
   "codemirror_mode": {
    "name": "ipython",
    "version": 3
   },
   "file_extension": ".py",
   "mimetype": "text/x-python",
   "name": "python",
   "nbconvert_exporter": "python",
   "pygments_lexer": "ipython3",
   "version": "3.7.3"
  }
 },
 "nbformat": 4,
 "nbformat_minor": 2
}
