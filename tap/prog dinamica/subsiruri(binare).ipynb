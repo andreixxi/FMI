{
 "cells": [
  {
   "cell_type": "code",
   "execution_count": 2,
   "metadata": {},
   "outputs": [
    {
     "name": "stdout",
     "output_type": "stream",
     "text": [
      "01\n",
      "00\n",
      "1001\n",
      "1\n"
     ]
    }
   ],
   "source": [
    "#subsiruri\n",
    "# d = ['01', '10', '110', '1', '0', '100']\n",
    "# s = '0110011101'\n",
    "d = ['01', '010', '1001', '1', '0']\n",
    "s ='010010011'\n",
    "n = len(s)\n",
    "v = [1] * (n + 1)\n",
    "succ = [n] * (n)\n",
    "\n",
    "if s[n-1] in d:\n",
    "    v[n-1] = 1\n",
    "\n",
    "for i in reversed(range(n)):\n",
    "    for j in range(i+1, n):\n",
    "        if j == i+1:\n",
    "            v[i] = 1 + v[j+1]\n",
    "            succ[i] = j+1\n",
    "        elif s[i : j+1] in d:\n",
    "            if 1 + v[j+1] < v[i]:\n",
    "                v[i] = 1 + v[j+1]\n",
    "                succ[i] = j+1\n",
    "\n",
    "i = 0\n",
    "while i != n:\n",
    "    print(s[i : succ[i]])\n",
    "    i = succ[i]"
   ]
  },
  {
   "cell_type": "code",
   "execution_count": null,
   "metadata": {},
   "outputs": [],
   "source": []
  }
 ],
 "metadata": {
  "kernelspec": {
   "display_name": "Python 3",
   "language": "python",
   "name": "python3"
  },
  "language_info": {
   "codemirror_mode": {
    "name": "ipython",
    "version": 3
   },
   "file_extension": ".py",
   "mimetype": "text/x-python",
   "name": "python",
   "nbconvert_exporter": "python",
   "pygments_lexer": "ipython3",
   "version": "3.7.3"
  }
 },
 "nbformat": 4,
 "nbformat_minor": 2
}
