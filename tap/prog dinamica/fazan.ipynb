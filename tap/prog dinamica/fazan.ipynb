{
 "cells": [
  {
   "cell_type": "code",
   "execution_count": 1,
   "metadata": {},
   "outputs": [
    {
     "name": "stdout",
     "output_type": "stream",
     "text": [
      "{'sa': 1, 're': 0, 'ru': 1, 'ic': 0, 'te': 2, 'ma': 2, 'ac': 0, 'ca': 3}\n",
      "{'sa': 'sare', 'ru': 'rustic', 'te': 'teatru', 'ca': 'carte', 'ma': 'masa'}\n",
      "L max este 3\n",
      "carte\n",
      "teatru\n",
      "rustic\n"
     ]
    }
   ],
   "source": [
    "c = [\"masa\", \"carte\", \"sac\", \"teatru\", \"tema\", \"rustic\", \"sare\"]\n",
    "n = len(c)\n",
    "L = {} \n",
    "pred = {}\n",
    "succ = [n] * n\n",
    "\n",
    "L[c[n-1][:2]] = 1\n",
    "pred[c[n-1][:2]] = c[n-1]\n",
    "maxi = 0\n",
    "\n",
    "for i in range(n-1, -1, -1):\n",
    "    if c[i][:2] not in L: #primele 2 litere\n",
    "        L[c[i][:2]] = 0\n",
    "    if c[i][-2:] not in L: #ultimele 2 litere\n",
    "        L[c[i][-2:]] = 0\n",
    "    if L[c[i][:2]] < L[c[i][-2:]] + 1:\n",
    "        L[c[i][:2]] = L[c[i][-2:]] + 1\n",
    "        pred[c[i][:2]] = c[i]\n",
    "    if L[c[i][:2]] > maxi: #lungime max\n",
    "        maxi = L[c[i][:2]]\n",
    "        word = c[i]\n",
    "        \n",
    "print(L)\n",
    "print(pred)\n",
    "print(\"L max este\", maxi)\n",
    "print(word)\n",
    "last = word[-2:]\n",
    "maxi -= 1\n",
    "while maxi:\n",
    "    print(pred[last])\n",
    "    last = pred[last][-2:]\n",
    "    maxi -=1"
   ]
  },
  {
   "cell_type": "code",
   "execution_count": 2,
   "metadata": {},
   "outputs": [
    {
     "name": "stdout",
     "output_type": "stream",
     "text": [
      "carte\n",
      "teatru\n",
      "rustic\n"
     ]
    }
   ],
   "source": [
    "c = [\"masa\", \"carte\", \"sac\", \"teatru\", \"tema\", \"rustic\", \"sare\"]\n",
    "# c = [\"seara\", \"carte\", \"teorema\", \"temperatura\", \"rar\", \"mare\", \"arbore\"]\n",
    "n = len(c)\n",
    "\n",
    "L = [1] * n\n",
    "succ = [n] * n\n",
    "\n",
    "L[n-1] = 1\n",
    "poz_max = n-1\n",
    "for i in range(n-2, -1, -1):\n",
    "    for j in range(i+1, n):\n",
    "        #ultimele 2 litere de la cuv1 egale cu primele 2 de la cuv2 \n",
    "        if c[i][-2:] == c[j][:2] and L[j]+1 > L[i]:\n",
    "            L[i] = L[j] + 1\n",
    "            succ[i] = j\n",
    "        if L[i] > L[poz_max]:\n",
    "            poz_max = i\n",
    "k = poz_max\n",
    "while k<n:\n",
    "    print(c[k])\n",
    "    k = succ[k]"
   ]
  },
  {
   "cell_type": "code",
   "execution_count": null,
   "metadata": {},
   "outputs": [],
   "source": []
  }
 ],
 "metadata": {
  "kernelspec": {
   "display_name": "Python 3",
   "language": "python",
   "name": "python3"
  },
  "language_info": {
   "codemirror_mode": {
    "name": "ipython",
    "version": 3
   },
   "file_extension": ".py",
   "mimetype": "text/x-python",
   "name": "python",
   "nbconvert_exporter": "python",
   "pygments_lexer": "ipython3",
   "version": "3.7.3"
  }
 },
 "nbformat": 4,
 "nbformat_minor": 2
}
