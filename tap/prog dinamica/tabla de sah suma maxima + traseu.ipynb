{
 "cells": [
  {
   "cell_type": "code",
   "execution_count": 9,
   "metadata": {},
   "outputs": [
    {
     "name": "stdout",
     "output_type": "stream",
     "text": [
      "[2, 3, 7]\n",
      "[3, 0, 0]\n",
      "[4, 0, 0]\n",
      "suma maxima este 13\n",
      "traseul este [(0, 0), (0, 1), (0, 2), (1, 1), (2, 1)]\n"
     ]
    }
   ],
   "source": [
    "n, m = 3, 3\n",
    "T = [[2, 1, 4],\n",
    "    [1, 3, 2],\n",
    "    [1, 6, 1]]\n",
    "M = [[0 for j in range(m)] for i in range(n)] #matrice de n*m\n",
    "traseu = []\n",
    "M[0][0] = T[0][0] #punctul de pornire\n",
    "traseu.append((0, 0)) #punctul de pornire\n",
    "\n",
    "for i in range(1, n): #actualizez prima linie, parcurg coloanele\n",
    "    M[0][i] = T[0][i] + M[0][i-1] #suma dintre elem din stg si cel din matr initiala\n",
    "    \n",
    "for i in range(1, m): #actualizez prima coloana, parcurg liniile\n",
    "    M[i][0] = T[i][0] + M[i-1][0] #suma dintre elem de sus si cel din matr init\n",
    "    \n",
    "for row in M:\n",
    "    print(row)\n",
    "    \n",
    "for i in range(1, n):\n",
    "    for j in range(1, m):\n",
    "        M[i][j] = T[i][j] + max(M[i][j-1], M[i-1][j]) #max (stg, sus) + elem matr init\n",
    "#         adaug in traseu coord punctului maxim\n",
    "        if M[i][j-1] > M[i-1][j]:\n",
    "            traseu.append((i, j-1))\n",
    "        else:\n",
    "            traseu.append((i-1, j))\n",
    "            \n",
    "maxsum = M[n-1][m-1] #coltul din dr jos\n",
    "print(\"suma maxima este\", maxsum)\n",
    "print(\"traseul este\", traseu)\n",
    "\n",
    "for row in M:\n",
    "    print(row)"
   ]
  },
  {
   "cell_type": "code",
   "execution_count": 8,
   "metadata": {},
   "outputs": [
    {
     "name": "stdout",
     "output_type": "stream",
     "text": [
      "[2, 3, 7]\n",
      "[3, 6, 9]\n",
      "[4, 12, 13]\n"
     ]
    }
   ],
   "source": [
    "for row in M:\n",
    "    print(row)"
   ]
  },
  {
   "cell_type": "code",
   "execution_count": null,
   "metadata": {},
   "outputs": [],
   "source": []
  }
 ],
 "metadata": {
  "kernelspec": {
   "display_name": "Python 3",
   "language": "python",
   "name": "python3"
  },
  "language_info": {
   "codemirror_mode": {
    "name": "ipython",
    "version": 3
   },
   "file_extension": ".py",
   "mimetype": "text/x-python",
   "name": "python",
   "nbconvert_exporter": "python",
   "pygments_lexer": "ipython3",
   "version": "3.7.3"
  }
 },
 "nbformat": 4,
 "nbformat_minor": 2
}
