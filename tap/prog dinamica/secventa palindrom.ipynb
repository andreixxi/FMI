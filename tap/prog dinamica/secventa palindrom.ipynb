{
 "cells": [
  {
   "cell_type": "code",
   "execution_count": 1,
   "metadata": {
    "scrolled": true
   },
   "outputs": [
    {
     "name": "stdout",
     "output_type": "stream",
     "text": [
      "abcbaabc\n"
     ]
    }
   ],
   "source": [
    "def palindrome(x):\n",
    "    if(x == x[::-1]):\n",
    "          return 1\n",
    "    else:\n",
    "          return 0\n",
    "        \n",
    "w = 'abcbaabc' #a, b, cbaabc\n",
    "# w = 'aaaa'\n",
    "\n",
    "# w = 'ccccabacccc'\n",
    "n = len(w)\n",
    "\n",
    "p = [[0 for j in range(n+1)] for i in range(n+1)]\n",
    "succ = [[n for j in range(n+1)] for i in range(n+1)]\n",
    "\n",
    "for i in range(n):\n",
    "    p[i][i] = 1\n",
    "c = [1] * (n+1) #nr minim de cuvinte    \n",
    "    \n",
    "for L in range(2, n + 1): #alege cuvinte de lungime L\n",
    "    for i in range(n - L + 1):\n",
    "        j = i + L - 1 #pozitie de final\n",
    "        \n",
    "        if L == 2: #comparam 2 caractere\n",
    "            if w[i] == w[j]:\n",
    "                p[i][j] = 1\n",
    "        else :\n",
    "            if (w[i] == w[j]) and p[i+1][j-1]:\n",
    "                p[i][j] = 1\n",
    "                \n",
    "for i in range(n):\n",
    "    if p[0][i] == 1:\n",
    "        c[i] = 1\n",
    "    else:\n",
    "        c[i] = 99999\n",
    "        for j in range(i):\n",
    "            if p[j+1][i] == 1 and 1 + c[j] < c[i]:\n",
    "                c[i] = 1 + c[j]\n",
    "print(w)\n"
   ]
  },
  {
   "cell_type": "code",
   "execution_count": 2,
   "metadata": {},
   "outputs": [
    {
     "name": "stdout",
     "output_type": "stream",
     "text": [
      "a [1, 0, 0, 0, 1, 0, 0, 0, 0]\n",
      "b [0, 1, 0, 1, 0, 0, 0, 0, 0]\n",
      "c [0, 0, 1, 0, 0, 0, 0, 1, 0]\n",
      "b [0, 0, 0, 1, 0, 0, 1, 0, 0]\n",
      "a [0, 0, 0, 0, 1, 1, 0, 0, 0]\n",
      "a [0, 0, 0, 0, 0, 1, 0, 0, 0]\n",
      "b [0, 0, 0, 0, 0, 0, 1, 0, 0]\n",
      "c [0, 0, 0, 0, 0, 0, 0, 1, 0]\n",
      "  [0, 0, 0, 0, 0, 0, 0, 0, 0]\n",
      "[1, 2, 3, 2, 1, 2, 3, 3, 1]\n",
      "3\n"
     ]
    }
   ],
   "source": [
    "for i, row in enumerate(p):\n",
    "#     print(\" \", w[i])\n",
    "    if i<n:\n",
    "        print(w[i], row)\n",
    "    else:\n",
    "        print(\" \",row)\n",
    "nr_min_cuv = c[n-1]\n",
    "print(c)\n",
    "#c[i] = numar minim cuvinte palindrom in sirul w[:i]\n",
    "print(nr_min_cuv)\n",
    "\n",
    "# for i in range(n):\n",
    "#     nr_1 = 0\n",
    "#     for j in reversed(range(n)):\n",
    "#         if p[i][j] == 1:\n",
    "#             nr_1 += 1\n",
    "#     ok = 0\n",
    "#     for j in reversed(range(n)):\n",
    "#         if nr_1 % 2 == 0:\n",
    "#             if ok == 0 and p[i][j] == 0:\n",
    "#                 succ[i][j] = j+1\n",
    "#             elif ok == 0 and p[i][j] == 1:\n",
    "#                 succ[i][j] = j+1\n",
    "#                 ok = 1\n",
    "#             elif ok == 1 and p[i][j] == 0:\n",
    "#                 succ[i][j] = succ[i][j+1]\n",
    "#             elif ok == 1 and p[i][j] == 1:\n",
    "#                 succ[i][j] = succ[i][j+1]\n",
    "#                 ok = 0\n",
    "#         else: #nr impar de 1 pe linie\n",
    "#             if nr_1 > 0:\n",
    "# #                 if ok == 0 and p[i][j] == 0:\n",
    "#                 if nr_1%2 == 0 and p[i][j] == 0:\n",
    "#                     succ[i][j] = j+1\n",
    "# #                 elif ok == 0 and p[i][j] == 1:\n",
    "#                 elif nr_1 %2 == 0 and p[i][j] == 1:\n",
    "#                     succ[i][j] = j+1\n",
    "#                     nr_1 -= 1\n",
    "#                     ok = 1\n",
    "# #                 elif ok == 1 and p[i][j] == 0:\n",
    "#                 elif nr_1 %2 == 1 and p[i][j] == 0:\n",
    "#                     succ[i][j] = j + 1\n",
    "# #                 elif ok == 1 and p[i][j] == 1:\n",
    "#                 elif nr_1 % 2 == 1 and p[i][j] == 1: \n",
    "#                     succ[i][j] = j + 1\n",
    "#                     ok = 0\n",
    "#                     nr_1 -= 1\n",
    "#             else:\n",
    "#                 succ[i][j] = j+1"
   ]
  },
  {
   "cell_type": "code",
   "execution_count": 142,
   "metadata": {},
   "outputs": [
    {
     "name": "stdout",
     "output_type": "stream",
     "text": [
      "7 0\n"
     ]
    }
   ],
   "source": [
    "s = set()\n",
    "mini = n-1\n",
    "for i, row in enumerate(succ):\n",
    "    s = set(row)\n",
    "    if len(s) < mini and len(s) != 1:\n",
    "        mini = len(s)\n",
    "        no = i\n",
    "    \n",
    "print(mini, no)"
   ]
  },
  {
   "cell_type": "code",
   "execution_count": null,
   "metadata": {},
   "outputs": [],
   "source": []
  }
 ],
 "metadata": {
  "kernelspec": {
   "display_name": "Python 3",
   "language": "python",
   "name": "python3"
  },
  "language_info": {
   "codemirror_mode": {
    "name": "ipython",
    "version": 3
   },
   "file_extension": ".py",
   "mimetype": "text/x-python",
   "name": "python",
   "nbconvert_exporter": "python",
   "pygments_lexer": "ipython3",
   "version": "3.7.3"
  }
 },
 "nbformat": 4,
 "nbformat_minor": 2
}
