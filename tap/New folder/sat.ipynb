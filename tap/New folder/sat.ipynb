{
 "cells": [
  {
   "cell_type": "code",
   "execution_count": 13,
   "metadata": {},
   "outputs": [
    {
     "name": "stdout",
     "output_type": "stream",
     "text": [
      "satisfiabila\n"
     ]
    }
   ],
   "source": [
    "n = 3\n",
    "E = [[[0,1,0], [0,0,1]], [[1,1,1],[0,0,0]], [[1,0,0],[0,1,0]]] #prima linie pt xt, a doua pt xtnegat\n",
    "# E = (x2 v !x3) ^ (x1  v x2 v x3) ^ (x1 v !x2)\n",
    "V = [1, 2, 3]\n",
    "x = [0] * n\n",
    "\n",
    "def back(k, E, V):\n",
    "    if not E:\n",
    "        ok = 1\n",
    "        return ok\n",
    "#         return True, x\n",
    "    if k == n:\n",
    "        return 0\n",
    "    \n",
    "    t = V[k-1] #alege variabila V, t va avea valorile 1, 2, ..., k\n",
    "    x[t] = 0\n",
    "    for i in range(k): #pt fiecare clauza\n",
    "        if E[i][0][t] == 1: #xt apartine\n",
    "            if  E[i][1][t] == 1: #xt negat apartine\n",
    "                c = E.pop(i) #sterge clauza de pe poz i\n",
    "                back(k+1, E, V)\n",
    "                E.append(c) #adaug clauza c in E\n",
    "            else:\n",
    "                E[i][0][t] = 0 #eliminam xt din C\n",
    "                if E[i]: #####de corectat -> CHECK IF E[i] HAS 1\n",
    "                    back(k+1, E, V) \n",
    "                E[i][0][t] = 1 #reintroducem xt in C\n",
    "\n",
    "    x[t] = 1\n",
    "    for i in range(k): #pt fiecare clauza\n",
    "        if E[i][0][t] == 0: #xt nu apartine\n",
    "            if  E[i][0][t] == 1: #xt  apartine\n",
    "                c = E.pop(i) #sterge clauza de pe poz i\n",
    "                back(k+1, E, V)\n",
    "                E.append(c) #adaug clauza c in E\n",
    "            else:\n",
    "                E[i][1][t] = 0 #eliminam xt negat din C\n",
    "                if E[i]:\n",
    "                    back(k+1, E, V) \n",
    "                E[i][1][t] = 1 #reintroducem xt negat in C\n",
    "\n",
    "back(1, E, V)\n",
    "if ok:\n",
    "    print(\"satisfiabila\")\n",
    "else:\n",
    "    print(\"nesatisfiabila\")"
   ]
  },
  {
   "cell_type": "code",
   "execution_count": 2,
   "metadata": {},
   "outputs": [
    {
     "name": "stdout",
     "output_type": "stream",
     "text": [
      "Da\n"
     ]
    }
   ],
   "source": [
    "\n",
    "\n",
    "def back(k, E):\n",
    "    if not E:\n",
    "        global ok\n",
    "        ok = 1\n",
    "        return 1\n",
    "    global n\n",
    "    if k == n:\n",
    "        return 0\n",
    "    x[k] = 0\n",
    "    for C in E:\n",
    "        if \"x\"+str(k) in C or \"!x\"+str(k) in C:\n",
    "            if \"!x\"+str(k) in C:  # inseamna ca avem true in C\n",
    "                E.remove(C)  # eliminam clauza\n",
    "                back(k + 1, E)  # continuam pentru celelate variabile\n",
    "                E.append(C)  # inseram inapoi C\n",
    "            else:\n",
    "                # eliminam doar variabila xk\n",
    "                C.remove(\"x\" + str(k))\n",
    "                if C:  # Daca mai avem variabile in C\n",
    "                    back(k + 1, E)  # continuam pentru celelate variabile\n",
    "                C.append(\"x\" + str(k))  # inseram inapoi varibila in C\n",
    "    x[k] = 1\n",
    "    for C in E:\n",
    "        if \"x\"+str(k) in C or \"!x\"+str(k) in C:\n",
    "            if \"x\"+str(k) in C:  # inseamna ca avem true in C\n",
    "                E.remove(C)  # eliminam clauza\n",
    "                back(k + 1, E)  # continuam pentru celelate variabile\n",
    "                E.append(C)  # inseram inapoi C\n",
    "            else:\n",
    "                # eliminam doar variabila !xk\n",
    "                C.remove(\"!x\" + str(k))\n",
    "                if C:  # Daca mai avem variabile in C\n",
    "                    back(k + 1, E)  # continuam pentru celelate variabile\n",
    "                C.append(\"!x\" + str(k))  # inseram inapoi varibila in C\n",
    "\n",
    "\n",
    "#    Satisfiabile\n",
    "# \"(x2V!x3)^(x1Vx2Vx3)^(x1V!x2)\"\n",
    "E = [['x2', '!x3'], ['x1', 'x2', 'x3'], ['x1', '!x2']]\n",
    "\n",
    "# \"x1Vx2\"\n",
    "# E = [['x1', 'x2', 'x3']]\n",
    "\n",
    "\n",
    "#    Nesatisfiabile\n",
    "# E = [['x1', 'x2'], ['!x1', 'x2'], ['x1', '!x2'], ['!x1', '!x2']]\n",
    "# E = [['x1'], ['!x1']]\n",
    "n = 4\n",
    "x = [0] * n\n",
    "\n",
    "# Testare\n",
    "ok = 0\n",
    "back(1, E)\n",
    "if ok == 1:\n",
    "    print(\"Da\")\n",
    "else:\n",
    "    print(\"Nu\")"
   ]
  },
  {
   "cell_type": "code",
   "execution_count": null,
   "metadata": {},
   "outputs": [],
   "source": []
  }
 ],
 "metadata": {
  "kernelspec": {
   "display_name": "Python 3",
   "language": "python",
   "name": "python3"
  },
  "language_info": {
   "codemirror_mode": {
    "name": "ipython",
    "version": 3
   },
   "file_extension": ".py",
   "mimetype": "text/x-python",
   "name": "python",
   "nbconvert_exporter": "python",
   "pygments_lexer": "ipython3",
   "version": "3.7.3"
  }
 },
 "nbformat": 4,
 "nbformat_minor": 2
}
